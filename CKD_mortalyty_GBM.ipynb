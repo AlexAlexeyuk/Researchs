{
  "nbformat": 4,
  "nbformat_minor": 0,
  "metadata": {
    "colab": {
      "name": "CKD_mortalyty.ipynb",
      "provenance": [],
      "authorship_tag": "ABX9TyOSK1I+PuLakOaNPzoQZuHn",
      "include_colab_link": true
    },
    "kernelspec": {
      "display_name": "Python 3",
      "name": "python3"
    }
  },
  "cells": [
    {
      "cell_type": "markdown",
      "metadata": {
        "id": "view-in-github",
        "colab_type": "text"
      },
      "source": [
        "<a href=\"https://colab.research.google.com/github/AlexAlexeyuk/Researchs/blob/master/CKD_mortalyty_GBM.ipynb\" target=\"_parent\"><img src=\"https://colab.research.google.com/assets/colab-badge.svg\" alt=\"Open In Colab\"/></a>"
      ]
    },
    {
      "cell_type": "code",
      "metadata": {
        "colab": {
          "base_uri": "https://localhost:8080/",
          "height": 204
        },
        "id": "5garo-BRxED9",
        "outputId": "6eabb3e0-aff1-49c8-ab33-b9e1aaf973ba"
      },
      "source": [
        "import pandas as pd\n",
        "import numpy as np\n",
        "df = pd.read_excel('/content/Стат. ИГМ ИМ.xlsx')\n",
        "\n",
        "df.head()"
      ],
      "execution_count": 160,
      "outputs": [
        {
          "output_type": "execute_result",
          "data": {
            "text/html": [
              "<div>\n",
              "<style scoped>\n",
              "    .dataframe tbody tr th:only-of-type {\n",
              "        vertical-align: middle;\n",
              "    }\n",
              "\n",
              "    .dataframe tbody tr th {\n",
              "        vertical-align: top;\n",
              "    }\n",
              "\n",
              "    .dataframe thead th {\n",
              "        text-align: right;\n",
              "    }\n",
              "</style>\n",
              "<table border=\"1\" class=\"dataframe\">\n",
              "  <thead>\n",
              "    <tr style=\"text-align: right;\">\n",
              "      <th></th>\n",
              "      <th>М</th>\n",
              "      <th>59</th>\n",
              "      <th>ИГМ без ФП</th>\n",
              "      <th>ПКБ</th>\n",
              "      <th>ОИМ</th>\n",
              "      <th>80</th>\n",
              "      <th>смерть</th>\n",
              "      <th>да</th>\n",
              "      <th>2</th>\n",
              "      <th>6.5</th>\n",
              "      <th>Q</th>\n",
              "      <th>да.1</th>\n",
              "    </tr>\n",
              "  </thead>\n",
              "  <tbody>\n",
              "    <tr>\n",
              "      <th>0</th>\n",
              "      <td>М</td>\n",
              "      <td>56</td>\n",
              "      <td>ИГМ без ФП</td>\n",
              "      <td>ЛКБ</td>\n",
              "      <td>ОИМ</td>\n",
              "      <td>14</td>\n",
              "      <td>смерть</td>\n",
              "      <td>да</td>\n",
              "      <td>3.0</td>\n",
              "      <td>6.1</td>\n",
              "      <td>не Q</td>\n",
              "      <td>да</td>\n",
              "    </tr>\n",
              "    <tr>\n",
              "      <th>1</th>\n",
              "      <td>М</td>\n",
              "      <td>59</td>\n",
              "      <td>ИГМ без ФП</td>\n",
              "      <td>ЛКБ</td>\n",
              "      <td>Прогр. стенокардия</td>\n",
              "      <td>98</td>\n",
              "      <td>жизнь</td>\n",
              "      <td>да</td>\n",
              "      <td>3.0</td>\n",
              "      <td>5.7</td>\n",
              "      <td>NaN</td>\n",
              "      <td>нет</td>\n",
              "    </tr>\n",
              "    <tr>\n",
              "      <th>2</th>\n",
              "      <td>Ж</td>\n",
              "      <td>86</td>\n",
              "      <td>ИГМ+ФП</td>\n",
              "      <td>ЛКБ</td>\n",
              "      <td>ОИМ</td>\n",
              "      <td>57</td>\n",
              "      <td>смерть</td>\n",
              "      <td>нет</td>\n",
              "      <td>3.0</td>\n",
              "      <td>5.9</td>\n",
              "      <td>не Q</td>\n",
              "      <td>да</td>\n",
              "    </tr>\n",
              "    <tr>\n",
              "      <th>3</th>\n",
              "      <td>Ж</td>\n",
              "      <td>83</td>\n",
              "      <td>ИГМ+ФП</td>\n",
              "      <td>ЛКБ</td>\n",
              "      <td>Прогр. стенокардия</td>\n",
              "      <td>69</td>\n",
              "      <td>жизнь</td>\n",
              "      <td>нет</td>\n",
              "      <td>3.0</td>\n",
              "      <td>5.9</td>\n",
              "      <td>NaN</td>\n",
              "      <td>нет</td>\n",
              "    </tr>\n",
              "    <tr>\n",
              "      <th>4</th>\n",
              "      <td>Ж</td>\n",
              "      <td>78</td>\n",
              "      <td>ИГМ+ФП</td>\n",
              "      <td>ЛКБ</td>\n",
              "      <td>ОИМ</td>\n",
              "      <td>54</td>\n",
              "      <td>смерть</td>\n",
              "      <td>нет</td>\n",
              "      <td>2.0</td>\n",
              "      <td>5.0</td>\n",
              "      <td>не Q</td>\n",
              "      <td>нет</td>\n",
              "    </tr>\n",
              "  </tbody>\n",
              "</table>\n",
              "</div>"
            ],
            "text/plain": [
              "   М  59  ИГМ без ФП  ПКБ                 ОИМ  ...   да    2  6.5     Q  да.1\n",
              "0  М  56  ИГМ без ФП  ЛКБ                 ОИМ  ...   да  3.0  6.1  не Q    да\n",
              "1  М  59  ИГМ без ФП  ЛКБ  Прогр. стенокардия  ...   да  3.0  5.7   NaN   нет\n",
              "2  Ж  86      ИГМ+ФП  ЛКБ                 ОИМ  ...  нет  3.0  5.9  не Q    да\n",
              "3  Ж  83      ИГМ+ФП  ЛКБ  Прогр. стенокардия  ...  нет  3.0  5.9   NaN   нет\n",
              "4  Ж  78      ИГМ+ФП  ЛКБ                 ОИМ  ...  нет  2.0  5.0  не Q   нет\n",
              "\n",
              "[5 rows x 12 columns]"
            ]
          },
          "metadata": {
            "tags": []
          },
          "execution_count": 160
        }
      ]
    },
    {
      "cell_type": "code",
      "metadata": {
        "colab": {
          "base_uri": "https://localhost:8080/",
          "height": 204
        },
        "id": "L2MglFKTuV6Q",
        "outputId": "66e4f030-e9f5-4c3b-ed0a-70aceba2d8b6"
      },
      "source": [
        "df.columns = ['Gender', 'Age', 'AF', 'Localisation', \n",
        "              'AMI_Unst.ang', 'GFR', 'Surv','Smoking',  'AH', 'Chol', 'Q_non_Q', 'DM']\n",
        "df.head()"
      ],
      "execution_count": 161,
      "outputs": [
        {
          "output_type": "execute_result",
          "data": {
            "text/html": [
              "<div>\n",
              "<style scoped>\n",
              "    .dataframe tbody tr th:only-of-type {\n",
              "        vertical-align: middle;\n",
              "    }\n",
              "\n",
              "    .dataframe tbody tr th {\n",
              "        vertical-align: top;\n",
              "    }\n",
              "\n",
              "    .dataframe thead th {\n",
              "        text-align: right;\n",
              "    }\n",
              "</style>\n",
              "<table border=\"1\" class=\"dataframe\">\n",
              "  <thead>\n",
              "    <tr style=\"text-align: right;\">\n",
              "      <th></th>\n",
              "      <th>Gender</th>\n",
              "      <th>Age</th>\n",
              "      <th>AF</th>\n",
              "      <th>Localisation</th>\n",
              "      <th>AMI_Unst.ang</th>\n",
              "      <th>GFR</th>\n",
              "      <th>Surv</th>\n",
              "      <th>Smoking</th>\n",
              "      <th>AH</th>\n",
              "      <th>Chol</th>\n",
              "      <th>Q_non_Q</th>\n",
              "      <th>DM</th>\n",
              "    </tr>\n",
              "  </thead>\n",
              "  <tbody>\n",
              "    <tr>\n",
              "      <th>0</th>\n",
              "      <td>М</td>\n",
              "      <td>56</td>\n",
              "      <td>ИГМ без ФП</td>\n",
              "      <td>ЛКБ</td>\n",
              "      <td>ОИМ</td>\n",
              "      <td>14</td>\n",
              "      <td>смерть</td>\n",
              "      <td>да</td>\n",
              "      <td>3.0</td>\n",
              "      <td>6.1</td>\n",
              "      <td>не Q</td>\n",
              "      <td>да</td>\n",
              "    </tr>\n",
              "    <tr>\n",
              "      <th>1</th>\n",
              "      <td>М</td>\n",
              "      <td>59</td>\n",
              "      <td>ИГМ без ФП</td>\n",
              "      <td>ЛКБ</td>\n",
              "      <td>Прогр. стенокардия</td>\n",
              "      <td>98</td>\n",
              "      <td>жизнь</td>\n",
              "      <td>да</td>\n",
              "      <td>3.0</td>\n",
              "      <td>5.7</td>\n",
              "      <td>NaN</td>\n",
              "      <td>нет</td>\n",
              "    </tr>\n",
              "    <tr>\n",
              "      <th>2</th>\n",
              "      <td>Ж</td>\n",
              "      <td>86</td>\n",
              "      <td>ИГМ+ФП</td>\n",
              "      <td>ЛКБ</td>\n",
              "      <td>ОИМ</td>\n",
              "      <td>57</td>\n",
              "      <td>смерть</td>\n",
              "      <td>нет</td>\n",
              "      <td>3.0</td>\n",
              "      <td>5.9</td>\n",
              "      <td>не Q</td>\n",
              "      <td>да</td>\n",
              "    </tr>\n",
              "    <tr>\n",
              "      <th>3</th>\n",
              "      <td>Ж</td>\n",
              "      <td>83</td>\n",
              "      <td>ИГМ+ФП</td>\n",
              "      <td>ЛКБ</td>\n",
              "      <td>Прогр. стенокардия</td>\n",
              "      <td>69</td>\n",
              "      <td>жизнь</td>\n",
              "      <td>нет</td>\n",
              "      <td>3.0</td>\n",
              "      <td>5.9</td>\n",
              "      <td>NaN</td>\n",
              "      <td>нет</td>\n",
              "    </tr>\n",
              "    <tr>\n",
              "      <th>4</th>\n",
              "      <td>Ж</td>\n",
              "      <td>78</td>\n",
              "      <td>ИГМ+ФП</td>\n",
              "      <td>ЛКБ</td>\n",
              "      <td>ОИМ</td>\n",
              "      <td>54</td>\n",
              "      <td>смерть</td>\n",
              "      <td>нет</td>\n",
              "      <td>2.0</td>\n",
              "      <td>5.0</td>\n",
              "      <td>не Q</td>\n",
              "      <td>нет</td>\n",
              "    </tr>\n",
              "  </tbody>\n",
              "</table>\n",
              "</div>"
            ],
            "text/plain": [
              "  Gender  Age          AF Localisation  ...   AH  Chol Q_non_Q   DM\n",
              "0      М   56  ИГМ без ФП          ЛКБ  ...  3.0   6.1    не Q   да\n",
              "1      М   59  ИГМ без ФП          ЛКБ  ...  3.0   5.7     NaN  нет\n",
              "2      Ж   86      ИГМ+ФП          ЛКБ  ...  3.0   5.9    не Q   да\n",
              "3      Ж   83      ИГМ+ФП          ЛКБ  ...  3.0   5.9     NaN  нет\n",
              "4      Ж   78      ИГМ+ФП          ЛКБ  ...  2.0   5.0    не Q  нет\n",
              "\n",
              "[5 rows x 12 columns]"
            ]
          },
          "metadata": {
            "tags": []
          },
          "execution_count": 161
        }
      ]
    },
    {
      "cell_type": "code",
      "metadata": {
        "colab": {
          "base_uri": "https://localhost:8080/",
          "height": 204
        },
        "id": "X6ty3qxC0QU4",
        "outputId": "f28642a1-40a2-4bd3-84e3-f9aeb85b2d36"
      },
      "source": [
        "Gend = {\"М\": 'male', \"Ж\": 'female'}\n",
        "AF = {'ИГМ без ФП': 'No_AF', 'ИГМ+ФП': 'AF' }\n",
        "IHD = {\"ОИМ\": \"AMI\", 'Прогр. стенокардия': 'Unst_ang'}\n",
        "surv = {'смерть': 'death', 'жизнь': 'alive'}\n",
        "df['Surv'] = df['Surv'].map(surv)\n",
        "df['AF'] = df['AF'].map(AF)\n",
        "df['Gender'] = df['Gender'].map(Gend)\n",
        "df['AMI_Unst.ang'] = df['AMI_Unst.ang'].map(IHD)\n",
        "Q_non_Q = {'не Q': 'non_Q', 'NaN': 'no_AMI' }\n",
        "df['Q_non_Q'] = df['Q_non_Q'].map(Q_non_Q)\n",
        "dm = {'да': 'Diabetes', 'нет': 'No_Diabetes' }\n",
        "df['DM'] = df['DM'].map(dm)\n",
        "loc = {'ЛКБ': 'Left_car', 'ПКБ': 'Right_car', \"ВББ\": 'Vertebro_bas'}\n",
        "df['Localisation'] = df[\"Localisation\"].map(loc)\n",
        "df.head()"
      ],
      "execution_count": 162,
      "outputs": [
        {
          "output_type": "execute_result",
          "data": {
            "text/html": [
              "<div>\n",
              "<style scoped>\n",
              "    .dataframe tbody tr th:only-of-type {\n",
              "        vertical-align: middle;\n",
              "    }\n",
              "\n",
              "    .dataframe tbody tr th {\n",
              "        vertical-align: top;\n",
              "    }\n",
              "\n",
              "    .dataframe thead th {\n",
              "        text-align: right;\n",
              "    }\n",
              "</style>\n",
              "<table border=\"1\" class=\"dataframe\">\n",
              "  <thead>\n",
              "    <tr style=\"text-align: right;\">\n",
              "      <th></th>\n",
              "      <th>Gender</th>\n",
              "      <th>Age</th>\n",
              "      <th>AF</th>\n",
              "      <th>Localisation</th>\n",
              "      <th>AMI_Unst.ang</th>\n",
              "      <th>GFR</th>\n",
              "      <th>Surv</th>\n",
              "      <th>Smoking</th>\n",
              "      <th>AH</th>\n",
              "      <th>Chol</th>\n",
              "      <th>Q_non_Q</th>\n",
              "      <th>DM</th>\n",
              "    </tr>\n",
              "  </thead>\n",
              "  <tbody>\n",
              "    <tr>\n",
              "      <th>0</th>\n",
              "      <td>male</td>\n",
              "      <td>56</td>\n",
              "      <td>No_AF</td>\n",
              "      <td>Left_car</td>\n",
              "      <td>AMI</td>\n",
              "      <td>14</td>\n",
              "      <td>death</td>\n",
              "      <td>да</td>\n",
              "      <td>3.0</td>\n",
              "      <td>6.1</td>\n",
              "      <td>non_Q</td>\n",
              "      <td>Diabetes</td>\n",
              "    </tr>\n",
              "    <tr>\n",
              "      <th>1</th>\n",
              "      <td>male</td>\n",
              "      <td>59</td>\n",
              "      <td>No_AF</td>\n",
              "      <td>Left_car</td>\n",
              "      <td>Unst_ang</td>\n",
              "      <td>98</td>\n",
              "      <td>alive</td>\n",
              "      <td>да</td>\n",
              "      <td>3.0</td>\n",
              "      <td>5.7</td>\n",
              "      <td>NaN</td>\n",
              "      <td>No_Diabetes</td>\n",
              "    </tr>\n",
              "    <tr>\n",
              "      <th>2</th>\n",
              "      <td>female</td>\n",
              "      <td>86</td>\n",
              "      <td>AF</td>\n",
              "      <td>Left_car</td>\n",
              "      <td>AMI</td>\n",
              "      <td>57</td>\n",
              "      <td>death</td>\n",
              "      <td>нет</td>\n",
              "      <td>3.0</td>\n",
              "      <td>5.9</td>\n",
              "      <td>non_Q</td>\n",
              "      <td>Diabetes</td>\n",
              "    </tr>\n",
              "    <tr>\n",
              "      <th>3</th>\n",
              "      <td>female</td>\n",
              "      <td>83</td>\n",
              "      <td>AF</td>\n",
              "      <td>Left_car</td>\n",
              "      <td>Unst_ang</td>\n",
              "      <td>69</td>\n",
              "      <td>alive</td>\n",
              "      <td>нет</td>\n",
              "      <td>3.0</td>\n",
              "      <td>5.9</td>\n",
              "      <td>NaN</td>\n",
              "      <td>No_Diabetes</td>\n",
              "    </tr>\n",
              "    <tr>\n",
              "      <th>4</th>\n",
              "      <td>female</td>\n",
              "      <td>78</td>\n",
              "      <td>AF</td>\n",
              "      <td>Left_car</td>\n",
              "      <td>AMI</td>\n",
              "      <td>54</td>\n",
              "      <td>death</td>\n",
              "      <td>нет</td>\n",
              "      <td>2.0</td>\n",
              "      <td>5.0</td>\n",
              "      <td>non_Q</td>\n",
              "      <td>No_Diabetes</td>\n",
              "    </tr>\n",
              "  </tbody>\n",
              "</table>\n",
              "</div>"
            ],
            "text/plain": [
              "   Gender  Age     AF Localisation  ...   AH  Chol Q_non_Q           DM\n",
              "0    male   56  No_AF     Left_car  ...  3.0   6.1   non_Q     Diabetes\n",
              "1    male   59  No_AF     Left_car  ...  3.0   5.7     NaN  No_Diabetes\n",
              "2  female   86     AF     Left_car  ...  3.0   5.9   non_Q     Diabetes\n",
              "3  female   83     AF     Left_car  ...  3.0   5.9     NaN  No_Diabetes\n",
              "4  female   78     AF     Left_car  ...  2.0   5.0   non_Q  No_Diabetes\n",
              "\n",
              "[5 rows x 12 columns]"
            ]
          },
          "metadata": {
            "tags": []
          },
          "execution_count": 162
        }
      ]
    },
    {
      "cell_type": "code",
      "metadata": {
        "id": "oQ51Z06zuUbX"
      },
      "source": [
        ""
      ],
      "execution_count": 162,
      "outputs": []
    },
    {
      "cell_type": "code",
      "metadata": {
        "colab": {
          "base_uri": "https://localhost:8080/"
        },
        "id": "Hc90QB6b4hBy",
        "outputId": "1b986765-618a-43c7-986f-99a215bb90ee"
      },
      "source": [
        "df.describe"
      ],
      "execution_count": 163,
      "outputs": [
        {
          "output_type": "execute_result",
          "data": {
            "text/plain": [
              "<bound method NDFrame.describe of     Gender  Age     AF  Localisation  ...   AH  Chol Q_non_Q           DM\n",
              "0     male   56  No_AF      Left_car  ...  3.0   6.1   non_Q     Diabetes\n",
              "1     male   59  No_AF      Left_car  ...  3.0   5.7     NaN  No_Diabetes\n",
              "2   female   86     AF      Left_car  ...  3.0   5.9   non_Q     Diabetes\n",
              "3   female   83     AF      Left_car  ...  3.0   5.9     NaN  No_Diabetes\n",
              "4   female   78     AF      Left_car  ...  2.0   5.0   non_Q  No_Diabetes\n",
              "5     male   73  No_AF     Right_car  ...  2.0   5.6     NaN  No_Diabetes\n",
              "6   female   76     AF     Right_car  ...  2.0   5.8     NaN     Diabetes\n",
              "7     male   76     AF  Vertebro_bas  ...  2.0   5.3     NaN  No_Diabetes\n",
              "8     male   78     AF      Left_car  ...  3.0   6.2     NaN     Diabetes\n",
              "9   female   76  No_AF      Left_car  ...  3.0   5.5     NaN  No_Diabetes\n",
              "10  female   82     AF      Left_car  ...  2.0   5.1     NaN  No_Diabetes\n",
              "11    male   69     AF      Left_car  ...  3.0   5.9     NaN     Diabetes\n",
              "12  female   80     AF      Left_car  ...  2.0   5.4   non_Q  No_Diabetes\n",
              "13  female   85  No_AF     Right_car  ...  3.0   4.6     NaN  No_Diabetes\n",
              "14  female   78  No_AF  Vertebro_bas  ...  2.0   3.7     NaN  No_Diabetes\n",
              "15  female   81  No_AF  Vertebro_bas  ...  3.0   5.3     NaN  No_Diabetes\n",
              "16  female   82     AF     Right_car  ...  3.0   5.5   non_Q  No_Diabetes\n",
              "17  female   80     AF      Left_car  ...  3.0   5.8   non_Q     Diabetes\n",
              "18    male   87  No_AF      Left_car  ...  3.0   5.5     NaN     Diabetes\n",
              "19  female   79     AF      Left_car  ...  2.0   6.1     NaN     Diabetes\n",
              "20    male   67     AF     Right_car  ...  3.0   5.7   non_Q  No_Diabetes\n",
              "21  female   75  No_AF      Left_car  ...  3.0   5.9     NaN     Diabetes\n",
              "22  female   83  No_AF     Right_car  ...  2.0   5.5   non_Q  No_Diabetes\n",
              "23    male   83     AF      Left_car  ...  3.0   4.3   non_Q  No_Diabetes\n",
              "24  female   87  No_AF      Left_car  ...  3.0   6.0     NaN     Diabetes\n",
              "25    male   85  No_AF  Vertebro_bas  ...  2.0   5.4     NaN  No_Diabetes\n",
              "26  female   92  No_AF      Left_car  ...  2.0   4.9     NaN  No_Diabetes\n",
              "27  female   80  No_AF      Left_car  ...  3.0   5.6   non_Q     Diabetes\n",
              "28  female   64  No_AF      Left_car  ...  2.0   5.7     NaN  No_Diabetes\n",
              "29  female   90     AF      Left_car  ...  3.0   6.1     NaN     Diabetes\n",
              "30  female   78  No_AF     Right_car  ...  2.0   5.3   non_Q  No_Diabetes\n",
              "31    male   65  No_AF  Vertebro_bas  ...  3.0   5.9     NaN     Diabetes\n",
              "32  female   74  No_AF     Right_car  ...  2.0   5.2     NaN  No_Diabetes\n",
              "33  female   71     AF  Vertebro_bas  ...  3.0   5.8     NaN     Diabetes\n",
              "34  female   62  No_AF      Left_car  ...  3.0   NaN     NaN     Diabetes\n",
              "35  female   80     AF      Left_car  ...  2.0   3.9     NaN     Diabetes\n",
              "36  female   71     AF     Right_car  ...  2.0   5.4   non_Q     Diabetes\n",
              "37  female   70  No_AF     Right_car  ...  3.0   5.3   non_Q  No_Diabetes\n",
              "38  female   71  No_AF      Left_car  ...  3.0   4.1   non_Q  No_Diabetes\n",
              "39  female   78     AF      Left_car  ...  3.0   3.6   non_Q     Diabetes\n",
              "40  female   69  No_AF      Left_car  ...  3.0   NaN   non_Q     Diabetes\n",
              "41  female   72  No_AF      Left_car  ...  3.0   NaN   non_Q  No_Diabetes\n",
              "42  female   89  No_AF      Left_car  ...  3.0   NaN     NaN  No_Diabetes\n",
              "43  female   80  No_AF      Left_car  ...  2.0   3.2   non_Q  No_Diabetes\n",
              "44    male   81     AF      Left_car  ...  2.0   NaN   non_Q  No_Diabetes\n",
              "45  female   75     AF      Left_car  ...  1.0   4.5     NaN  No_Diabetes\n",
              "46    male   61     AF     Right_car  ...  NaN   3.0     NaN  No_Diabetes\n",
              "47  female   65  No_AF      Left_car  ...  3.0   NaN   non_Q  No_Diabetes\n",
              "48  female   87  No_AF      Left_car  ...  3.0   3.1   non_Q  No_Diabetes\n",
              "49  female   79  No_AF     Right_car  ...  3.0   5.7   non_Q     Diabetes\n",
              "50  female   82     AF  Vertebro_bas  ...  3.0   NaN   non_Q  No_Diabetes\n",
              "51    male   84     AF     Right_car  ...  1.0   4.1   non_Q  No_Diabetes\n",
              "52    male   85     AF     Right_car  ...  2.0   NaN   non_Q  No_Diabetes\n",
              "53  female   94  No_AF     Right_car  ...  3.0   NaN   non_Q  No_Diabetes\n",
              "54    male   59  No_AF  Vertebro_bas  ...  2.0   NaN     NaN     Diabetes\n",
              "\n",
              "[55 rows x 12 columns]>"
            ]
          },
          "metadata": {
            "tags": []
          },
          "execution_count": 163
        }
      ]
    },
    {
      "cell_type": "code",
      "metadata": {
        "colab": {
          "base_uri": "https://localhost:8080/"
        },
        "id": "XtxWCjFQ7xQb",
        "outputId": "1117af7a-48ee-453b-9673-8be7880d0ecf"
      },
      "source": [
        "df.isnull().sum()"
      ],
      "execution_count": 164,
      "outputs": [
        {
          "output_type": "execute_result",
          "data": {
            "text/plain": [
              "Gender           0\n",
              "Age              0\n",
              "AF               0\n",
              "Localisation     0\n",
              "AMI_Unst.ang     0\n",
              "GFR              0\n",
              "Surv             0\n",
              "Smoking          0\n",
              "AH               1\n",
              "Chol            10\n",
              "Q_non_Q         29\n",
              "DM               0\n",
              "dtype: int64"
            ]
          },
          "metadata": {
            "tags": []
          },
          "execution_count": 164
        }
      ]
    },
    {
      "cell_type": "code",
      "metadata": {
        "colab": {
          "base_uri": "https://localhost:8080/"
        },
        "id": "eXkjE7dX763k",
        "outputId": "cdbc873c-f51c-4dc3-ada5-1ac3f50ec5f8"
      },
      "source": [
        "df[\"Q_non_Q\"] = df[\"Q_non_Q\"].astype('str')\n",
        "df.isnull().sum()"
      ],
      "execution_count": 165,
      "outputs": [
        {
          "output_type": "execute_result",
          "data": {
            "text/plain": [
              "Gender           0\n",
              "Age              0\n",
              "AF               0\n",
              "Localisation     0\n",
              "AMI_Unst.ang     0\n",
              "GFR              0\n",
              "Surv             0\n",
              "Smoking          0\n",
              "AH               1\n",
              "Chol            10\n",
              "Q_non_Q          0\n",
              "DM               0\n",
              "dtype: int64"
            ]
          },
          "metadata": {
            "tags": []
          },
          "execution_count": 165
        }
      ]
    },
    {
      "cell_type": "code",
      "metadata": {
        "id": "DSkTK6Cy9diQ"
      },
      "source": [
        "df['AH'].fillna(df['AH'].value_counts().index[0], inplace=True)\n",
        "df['Chol'].fillna(df['Chol'].mean(), inplace = True)\n"
      ],
      "execution_count": 166,
      "outputs": []
    },
    {
      "cell_type": "code",
      "metadata": {
        "colab": {
          "base_uri": "https://localhost:8080/"
        },
        "id": "Lt5FCfaI-qex",
        "outputId": "196f7486-0bc3-4d89-f931-968fe481c479"
      },
      "source": [
        "df.isnull().sum()"
      ],
      "execution_count": 167,
      "outputs": [
        {
          "output_type": "execute_result",
          "data": {
            "text/plain": [
              "Gender          0\n",
              "Age             0\n",
              "AF              0\n",
              "Localisation    0\n",
              "AMI_Unst.ang    0\n",
              "GFR             0\n",
              "Surv            0\n",
              "Smoking         0\n",
              "AH              0\n",
              "Chol            0\n",
              "Q_non_Q         0\n",
              "DM              0\n",
              "dtype: int64"
            ]
          },
          "metadata": {
            "tags": []
          },
          "execution_count": 167
        }
      ]
    },
    {
      "cell_type": "code",
      "metadata": {
        "colab": {
          "base_uri": "https://localhost:8080/",
          "height": 282
        },
        "id": "6SS6wUhoBcRe",
        "outputId": "7300bf36-3308-4cfe-a40d-918982515d5d"
      },
      "source": [
        "import matplotlib.pyplot as plt\n",
        "\n",
        "df[df['Gender']=='female']['GFR'].hist()"
      ],
      "execution_count": 168,
      "outputs": [
        {
          "output_type": "execute_result",
          "data": {
            "text/plain": [
              "<matplotlib.axes._subplots.AxesSubplot at 0x7fbb89dc09e8>"
            ]
          },
          "metadata": {
            "tags": []
          },
          "execution_count": 168
        },
        {
          "output_type": "display_data",
          "data": {
            "image/png": "[encoded data removed]",
            "text/plain": [
              "<Figure size 432x288 with 1 Axes>"
            ]
          },
          "metadata": {
            "tags": [],
            "needs_background": "light"
          }
        }
      ]
    },
    {
      "cell_type": "code",
      "metadata": {
        "id": "yAu0pR73vkNE"
      },
      "source": [
        "data = df.copy()"
      ],
      "execution_count": 169,
      "outputs": []
    },
    {
      "cell_type": "markdown",
      "metadata": {
        "id": "DeMC_cOaAXay"
      },
      "source": [
        ""
      ]
    },
    {
      "cell_type": "code",
      "metadata": {
        "id": "cEs1zOlvwFi7",
        "colab": {
          "base_uri": "https://localhost:8080/"
        },
        "outputId": "546c6a9e-c034-4a13-a6af-198da3c488e6"
      },
      "source": [
        "!pip install sdv\n"
      ],
      "execution_count": 170,
      "outputs": [
        {
          "output_type": "stream",
          "text": [
            "Requirement already satisfied: sdv in /usr/local/lib/python3.6/dist-packages (0.5.0)\n",
            "Requirement already satisfied: graphviz<1,>=0.13.2 in /usr/local/lib/python3.6/dist-packages (from sdv) (0.15)\n",
            "Requirement already satisfied: rdt<0.3,>=0.2.8 in /usr/local/lib/python3.6/dist-packages (from sdv) (0.2.9)\n",
            "Requirement already satisfied: xeger<0.4,>=0.3.5 in /usr/local/lib/python3.6/dist-packages (from sdv) (0.3.5)\n",
            "Requirement already satisfied: exrex<0.11,>=0.9.4 in /usr/local/lib/python3.6/dist-packages (from sdv) (0.10.5)\n",
            "Requirement already satisfied: numpy<2,>=1.17.4 in /usr/local/lib/python3.6/dist-packages (from sdv) (1.18.5)\n",
            "Requirement already satisfied: sdmetrics<0.1.0,>=0.0.3 in /usr/local/lib/python3.6/dist-packages (from sdv) (0.0.4)\n",
            "Requirement already satisfied: deepecho==0.1.3 in /usr/local/lib/python3.6/dist-packages (from sdv) (0.1.3)\n",
            "Requirement already satisfied: copulas<0.4,>=0.3.3 in /usr/local/lib/python3.6/dist-packages (from sdv) (0.3.3)\n",
            "Requirement already satisfied: pandas<2,>=1.1 in /usr/local/lib/python3.6/dist-packages (from sdv) (1.1.4)\n",
            "Requirement already satisfied: Faker<2,>=1.0.1 in /usr/local/lib/python3.6/dist-packages (from rdt<0.3,>=0.2.8->sdv) (1.0.8)\n",
            "Requirement already satisfied: scipy<2,>=1.4 in /usr/local/lib/python3.6/dist-packages (from rdt<0.3,>=0.2.8->sdv) (1.4.1)\n",
            "Requirement already satisfied: seaborn<0.11,>=0.9 in /usr/local/lib/python3.6/dist-packages (from sdmetrics<0.1.0,>=0.0.3->sdv) (0.10.1)\n",
            "Requirement already satisfied: scikit-learn<1,>=0.20 in /usr/local/lib/python3.6/dist-packages (from sdmetrics<0.1.0,>=0.0.3->sdv) (0.22.2.post1)\n",
            "Requirement already satisfied: matplotlib<3.2.2,>=2.2.2 in /usr/local/lib/python3.6/dist-packages (from sdmetrics<0.1.0,>=0.0.3->sdv) (3.2.1)\n",
            "Requirement already satisfied: tqdm<5,>=4 in /usr/local/lib/python3.6/dist-packages (from deepecho==0.1.3->sdv) (4.41.1)\n",
            "Requirement already satisfied: torch<2,>=1 in /usr/local/lib/python3.6/dist-packages (from deepecho==0.1.3->sdv) (1.7.0+cu101)\n",
            "Requirement already satisfied: python-dateutil>=2.7.3 in /usr/local/lib/python3.6/dist-packages (from pandas<2,>=1.1->sdv) (2.8.1)\n",
            "Requirement already satisfied: pytz>=2017.2 in /usr/local/lib/python3.6/dist-packages (from pandas<2,>=1.1->sdv) (2018.9)\n",
            "Requirement already satisfied: six>=1.10 in /usr/local/lib/python3.6/dist-packages (from Faker<2,>=1.0.1->rdt<0.3,>=0.2.8->sdv) (1.15.0)\n",
            "Requirement already satisfied: text-unidecode==1.2 in /usr/local/lib/python3.6/dist-packages (from Faker<2,>=1.0.1->rdt<0.3,>=0.2.8->sdv) (1.2)\n",
            "Requirement already satisfied: joblib>=0.11 in /usr/local/lib/python3.6/dist-packages (from scikit-learn<1,>=0.20->sdmetrics<0.1.0,>=0.0.3->sdv) (0.17.0)\n",
            "Requirement already satisfied: pyparsing!=2.0.4,!=2.1.2,!=2.1.6,>=2.0.1 in /usr/local/lib/python3.6/dist-packages (from matplotlib<3.2.2,>=2.2.2->sdmetrics<0.1.0,>=0.0.3->sdv) (2.4.7)\n",
            "Requirement already satisfied: kiwisolver>=1.0.1 in /usr/local/lib/python3.6/dist-packages (from matplotlib<3.2.2,>=2.2.2->sdmetrics<0.1.0,>=0.0.3->sdv) (1.3.1)\n",
            "Requirement already satisfied: cycler>=0.10 in /usr/local/lib/python3.6/dist-packages (from matplotlib<3.2.2,>=2.2.2->sdmetrics<0.1.0,>=0.0.3->sdv) (0.10.0)\n",
            "Requirement already satisfied: future in /usr/local/lib/python3.6/dist-packages (from torch<2,>=1->deepecho==0.1.3->sdv) (0.16.0)\n",
            "Requirement already satisfied: typing-extensions in /usr/local/lib/python3.6/dist-packages (from torch<2,>=1->deepecho==0.1.3->sdv) (3.7.4.3)\n",
            "Requirement already satisfied: dataclasses in /usr/local/lib/python3.6/dist-packages (from torch<2,>=1->deepecho==0.1.3->sdv) (0.8)\n"
          ],
          "name": "stdout"
        }
      ]
    },
    {
      "cell_type": "code",
      "metadata": {
        "id": "FFlq3h1ltiyu",
        "colab": {
          "base_uri": "https://localhost:8080/"
        },
        "outputId": "db3bbd60-c7cb-4ec7-a435-7d5c1dda2d2f"
      },
      "source": [
        "from sdv.demo import load_tabular_demo\n",
        "from sdv.tabular import GaussianCopula\n",
        "\n",
        "#real_data = load_tabular_demo('student_placements')\n",
        "\n",
        "model = GaussianCopula()\n",
        "model.fit(df)\n",
        "synthetic_data = model.sample()"
      ],
      "execution_count": 171,
      "outputs": [
        {
          "output_type": "stream",
          "text": [
            "/usr/local/lib/python3.6/dist-packages/scipy/stats/_continuous_distns.py:547: RuntimeWarning: invalid value encountered in sqrt\n",
            "  sk = 2*(b-a)*np.sqrt(a + b + 1) / (a + b + 2) / np.sqrt(a*b)\n",
            "/usr/local/lib/python3.6/dist-packages/scipy/optimize/minpack.py:162: RuntimeWarning: The iteration is not making good progress, as measured by the \n",
            "  improvement from the last ten iterations.\n",
            "  warnings.warn(msg, RuntimeWarning)\n",
            "/usr/local/lib/python3.6/dist-packages/scipy/stats/_continuous_distns.py:4798: RuntimeWarning: divide by zero encountered in true_divide\n",
            "  return c**2 / (c**2 - n**2)\n",
            "/usr/local/lib/python3.6/dist-packages/scipy/stats/_distn_infrastructure.py:2407: RuntimeWarning: invalid value encountered in double_scalars\n",
            "  Lhat = muhat - Shat*mu\n",
            "/usr/local/lib/python3.6/dist-packages/scipy/optimize/optimize.py:597: RuntimeWarning: invalid value encountered in subtract\n",
            "  numpy.max(numpy.abs(fsim[0] - fsim[1:])) <= fatol):\n",
            "/usr/local/lib/python3.6/dist-packages/scipy/optimize/minpack.py:162: RuntimeWarning: The iteration is not making good progress, as measured by the \n",
            "  improvement from the last five Jacobian evaluations.\n",
            "  warnings.warn(msg, RuntimeWarning)\n"
          ],
          "name": "stderr"
        }
      ]
    },
    {
      "cell_type": "code",
      "metadata": {
        "colab": {
          "base_uri": "https://localhost:8080/"
        },
        "id": "ovu8VfZs6Cre",
        "outputId": "87c101c8-dbd8-490c-8f95-f4227fb90d1c"
      },
      "source": [
        "!pip install h2o"
      ],
      "execution_count": 172,
      "outputs": [
        {
          "output_type": "stream",
          "text": [
            "Requirement already satisfied: h2o in /usr/local/lib/python3.6/dist-packages (3.32.0.2)\n",
            "Requirement already satisfied: colorama>=0.3.8 in /usr/local/lib/python3.6/dist-packages (from h2o) (0.4.4)\n",
            "Requirement already satisfied: tabulate in /usr/local/lib/python3.6/dist-packages (from h2o) (0.8.7)\n",
            "Requirement already satisfied: requests in /usr/local/lib/python3.6/dist-packages (from h2o) (2.23.0)\n",
            "Requirement already satisfied: future in /usr/local/lib/python3.6/dist-packages (from h2o) (0.16.0)\n",
            "Requirement already satisfied: certifi>=2017.4.17 in /usr/local/lib/python3.6/dist-packages (from requests->h2o) (2020.11.8)\n",
            "Requirement already satisfied: urllib3!=1.25.0,!=1.25.1,<1.26,>=1.21.1 in /usr/local/lib/python3.6/dist-packages (from requests->h2o) (1.24.3)\n",
            "Requirement already satisfied: idna<3,>=2.5 in /usr/local/lib/python3.6/dist-packages (from requests->h2o) (2.10)\n",
            "Requirement already satisfied: chardet<4,>=3.0.2 in /usr/local/lib/python3.6/dist-packages (from requests->h2o) (3.0.4)\n"
          ],
          "name": "stdout"
        }
      ]
    },
    {
      "cell_type": "code",
      "metadata": {
        "colab": {
          "base_uri": "https://localhost:8080/",
          "height": 389
        },
        "id": "tdjJp2An9R87",
        "outputId": "06faab43-1b2f-4141-a011-c06e987e6135"
      },
      "source": [
        "import h2o\n",
        "h2o.init()"
      ],
      "execution_count": 173,
      "outputs": [
        {
          "output_type": "stream",
          "text": [
            "Checking whether there is an H2O instance running at http://localhost:54321 . connected.\n"
          ],
          "name": "stdout"
        },
        {
          "output_type": "display_data",
          "data": {
            "text/html": [
              "<div style=\"overflow:auto\"><table style=\"width:50%\"><tr><td>H2O_cluster_uptime:</td>\n",
              "<td>1 hour 15 mins</td></tr>\n",
              "<tr><td>H2O_cluster_timezone:</td>\n",
              "<td>Etc/UTC</td></tr>\n",
              "<tr><td>H2O_data_parsing_timezone:</td>\n",
              "<td>UTC</td></tr>\n",
              "<tr><td>H2O_cluster_version:</td>\n",
              "<td>3.32.0.2</td></tr>\n",
              "<tr><td>H2O_cluster_version_age:</td>\n",
              "<td>10 days </td></tr>\n",
              "<tr><td>H2O_cluster_name:</td>\n",
              "<td>H2O_from_python_unknownUser_g1whcw</td></tr>\n",
              "<tr><td>H2O_cluster_total_nodes:</td>\n",
              "<td>1</td></tr>\n",
              "<tr><td>H2O_cluster_free_memory:</td>\n",
              "<td>3.148 Gb</td></tr>\n",
              "<tr><td>H2O_cluster_total_cores:</td>\n",
              "<td>2</td></tr>\n",
              "<tr><td>H2O_cluster_allowed_cores:</td>\n",
              "<td>2</td></tr>\n",
              "<tr><td>H2O_cluster_status:</td>\n",
              "<td>locked, healthy</td></tr>\n",
              "<tr><td>H2O_connection_url:</td>\n",
              "<td>http://localhost:54321</td></tr>\n",
              "<tr><td>H2O_connection_proxy:</td>\n",
              "<td>{\"http\": null, \"https\": null}</td></tr>\n",
              "<tr><td>H2O_internal_security:</td>\n",
              "<td>False</td></tr>\n",
              "<tr><td>H2O_API_Extensions:</td>\n",
              "<td>Amazon S3, XGBoost, Algos, AutoML, Core V3, TargetEncoder, Core V4</td></tr>\n",
              "<tr><td>Python_version:</td>\n",
              "<td>3.6.9 final</td></tr></table></div>"
            ],
            "text/plain": [
              "--------------------------  ------------------------------------------------------------------\n",
              "H2O_cluster_uptime:         1 hour 15 mins\n",
              "H2O_cluster_timezone:       Etc/UTC\n",
              "H2O_data_parsing_timezone:  UTC\n",
              "H2O_cluster_version:        3.32.0.2\n",
              "H2O_cluster_version_age:    10 days\n",
              "H2O_cluster_name:           H2O_from_python_unknownUser_g1whcw\n",
              "H2O_cluster_total_nodes:    1\n",
              "H2O_cluster_free_memory:    3.148 Gb\n",
              "H2O_cluster_total_cores:    2\n",
              "H2O_cluster_allowed_cores:  2\n",
              "H2O_cluster_status:         locked, healthy\n",
              "H2O_connection_url:         http://localhost:54321\n",
              "H2O_connection_proxy:       {\"http\": null, \"https\": null}\n",
              "H2O_internal_security:      False\n",
              "H2O_API_Extensions:         Amazon S3, XGBoost, Algos, AutoML, Core V3, TargetEncoder, Core V4\n",
              "Python_version:             3.6.9 final\n",
              "--------------------------  ------------------------------------------------------------------"
            ]
          },
          "metadata": {
            "tags": []
          }
        }
      ]
    },
    {
      "cell_type": "code",
      "metadata": {
        "colab": {
          "base_uri": "https://localhost:8080/"
        },
        "id": "txWHkQla9R6X",
        "outputId": "422b221e-fbdd-45f4-9618-882b8310f7c4"
      },
      "source": [
        "df = h2o.H2OFrame(df)"
      ],
      "execution_count": 174,
      "outputs": [
        {
          "output_type": "stream",
          "text": [
            "Parse progress: |█████████████████████████████████████████████████████████| 100%\n"
          ],
          "name": "stdout"
        }
      ]
    },
    {
      "cell_type": "code",
      "metadata": {
        "colab": {
          "base_uri": "https://localhost:8080/",
          "height": 250
        },
        "id": "qDR6ycNfB2kC",
        "outputId": "0c61d98e-fba1-4272-ed1a-f05f79798cc1"
      },
      "source": [
        "df.head()"
      ],
      "execution_count": 175,
      "outputs": [
        {
          "output_type": "display_data",
          "data": {
            "text/html": [
              "<table>\n",
              "<thead>\n",
              "<tr><th>Gender  </th><th style=\"text-align: right;\">  Age</th><th>AF   </th><th>Localisation  </th><th>AMI_Unst.ang  </th><th style=\"text-align: right;\">  GFR</th><th>Surv  </th><th>Smoking  </th><th style=\"text-align: right;\">  AH</th><th style=\"text-align: right;\">  Chol</th><th>Q_non_Q  </th><th>DM         </th></tr>\n",
              "</thead>\n",
              "<tbody>\n",
              "<tr><td>male    </td><td style=\"text-align: right;\">   56</td><td>No_AF</td><td>Left_car      </td><td>AMI           </td><td style=\"text-align: right;\">   14</td><td>death </td><td>да       </td><td style=\"text-align: right;\">   3</td><td style=\"text-align: right;\">   6.1</td><td>non_Q    </td><td>Diabetes   </td></tr>\n",
              "<tr><td>male    </td><td style=\"text-align: right;\">   59</td><td>No_AF</td><td>Left_car      </td><td>Unst_ang      </td><td style=\"text-align: right;\">   98</td><td>alive </td><td>да       </td><td style=\"text-align: right;\">   3</td><td style=\"text-align: right;\">   5.7</td><td>nan      </td><td>No_Diabetes</td></tr>\n",
              "<tr><td>female  </td><td style=\"text-align: right;\">   86</td><td>AF   </td><td>Left_car      </td><td>AMI           </td><td style=\"text-align: right;\">   57</td><td>death </td><td>нет      </td><td style=\"text-align: right;\">   3</td><td style=\"text-align: right;\">   5.9</td><td>non_Q    </td><td>Diabetes   </td></tr>\n",
              "<tr><td>female  </td><td style=\"text-align: right;\">   83</td><td>AF   </td><td>Left_car      </td><td>Unst_ang      </td><td style=\"text-align: right;\">   69</td><td>alive </td><td>нет      </td><td style=\"text-align: right;\">   3</td><td style=\"text-align: right;\">   5.9</td><td>nan      </td><td>No_Diabetes</td></tr>\n",
              "<tr><td>female  </td><td style=\"text-align: right;\">   78</td><td>AF   </td><td>Left_car      </td><td>AMI           </td><td style=\"text-align: right;\">   54</td><td>death </td><td>нет      </td><td style=\"text-align: right;\">   2</td><td style=\"text-align: right;\">   5  </td><td>non_Q    </td><td>No_Diabetes</td></tr>\n",
              "<tr><td>male    </td><td style=\"text-align: right;\">   73</td><td>No_AF</td><td>Right_car     </td><td>AMI           </td><td style=\"text-align: right;\">   86</td><td>alive </td><td>да       </td><td style=\"text-align: right;\">   2</td><td style=\"text-align: right;\">   5.6</td><td>nan      </td><td>No_Diabetes</td></tr>\n",
              "<tr><td>female  </td><td style=\"text-align: right;\">   76</td><td>AF   </td><td>Right_car     </td><td>AMI           </td><td style=\"text-align: right;\">   12</td><td>death </td><td>нет      </td><td style=\"text-align: right;\">   2</td><td style=\"text-align: right;\">   5.8</td><td>nan      </td><td>Diabetes   </td></tr>\n",
              "<tr><td>male    </td><td style=\"text-align: right;\">   76</td><td>AF   </td><td>Vertebro_bas  </td><td>Unst_ang      </td><td style=\"text-align: right;\">   52</td><td>alive </td><td>нет      </td><td style=\"text-align: right;\">   2</td><td style=\"text-align: right;\">   5.3</td><td>nan      </td><td>No_Diabetes</td></tr>\n",
              "<tr><td>male    </td><td style=\"text-align: right;\">   78</td><td>AF   </td><td>Left_car      </td><td>AMI           </td><td style=\"text-align: right;\">   32</td><td>death </td><td>нет      </td><td style=\"text-align: right;\">   3</td><td style=\"text-align: right;\">   6.2</td><td>nan      </td><td>Diabetes   </td></tr>\n",
              "<tr><td>female  </td><td style=\"text-align: right;\">   76</td><td>No_AF</td><td>Left_car      </td><td>AMI           </td><td style=\"text-align: right;\">   37</td><td>death </td><td>нет      </td><td style=\"text-align: right;\">   3</td><td style=\"text-align: right;\">   5.5</td><td>nan      </td><td>No_Diabetes</td></tr>\n",
              "</tbody>\n",
              "</table>"
            ]
          },
          "metadata": {
            "tags": []
          }
        },
        {
          "output_type": "execute_result",
          "data": {
            "text/plain": [
              ""
            ]
          },
          "metadata": {
            "tags": []
          },
          "execution_count": 175
        }
      ]
    },
    {
      "cell_type": "code",
      "metadata": {
        "colab": {
          "base_uri": "https://localhost:8080/",
          "height": 267
        },
        "id": "RJZ5U5a86JRz",
        "outputId": "92d1a763-b6e7-4965-8e57-782826c44280"
      },
      "source": [
        "synthetic_data = h2o.H2OFrame(synthetic_data)\n",
        "synthetic_data.head()"
      ],
      "execution_count": 176,
      "outputs": [
        {
          "output_type": "stream",
          "text": [
            "Parse progress: |█████████████████████████████████████████████████████████| 100%\n"
          ],
          "name": "stdout"
        },
        {
          "output_type": "display_data",
          "data": {
            "text/html": [
              "<table>\n",
              "<thead>\n",
              "<tr><th>Gender  </th><th style=\"text-align: right;\">  Age</th><th>AF   </th><th>Localisation  </th><th>AMI_Unst.ang  </th><th style=\"text-align: right;\">  GFR</th><th>Surv  </th><th>Smoking  </th><th style=\"text-align: right;\">     AH</th><th style=\"text-align: right;\">    Chol</th><th>Q_non_Q  </th><th>DM         </th></tr>\n",
              "</thead>\n",
              "<tbody>\n",
              "<tr><td>female  </td><td style=\"text-align: right;\">   94</td><td>AF   </td><td>Left_car      </td><td>AMI           </td><td style=\"text-align: right;\">   55</td><td>death </td><td>нет      </td><td style=\"text-align: right;\">2.06178</td><td style=\"text-align: right;\"> 5.3294 </td><td>non_Q    </td><td>No_Diabetes</td></tr>\n",
              "<tr><td>female  </td><td style=\"text-align: right;\">   92</td><td>AF   </td><td>Left_car      </td><td>AMI           </td><td style=\"text-align: right;\">   25</td><td>death </td><td>нет      </td><td style=\"text-align: right;\">2.41272</td><td style=\"text-align: right;\"> 5.87821</td><td>nan      </td><td>Diabetes   </td></tr>\n",
              "<tr><td>female  </td><td style=\"text-align: right;\">   69</td><td>No_AF</td><td>Left_car      </td><td>AMI           </td><td style=\"text-align: right;\">   72</td><td>alive </td><td>нет      </td><td style=\"text-align: right;\">3.41425</td><td style=\"text-align: right;\"> 6.49643</td><td>nan      </td><td>Diabetes   </td></tr>\n",
              "<tr><td>female  </td><td style=\"text-align: right;\">   87</td><td>AF   </td><td>Left_car      </td><td>AMI           </td><td style=\"text-align: right;\">   41</td><td>death </td><td>нет      </td><td style=\"text-align: right;\">2.49272</td><td style=\"text-align: right;\">31.0409 </td><td>nan      </td><td>Diabetes   </td></tr>\n",
              "<tr><td>female  </td><td style=\"text-align: right;\">  117</td><td>No_AF</td><td>Left_car      </td><td>Unst_ang      </td><td style=\"text-align: right;\">   51</td><td>alive </td><td>нет      </td><td style=\"text-align: right;\">2.46119</td><td style=\"text-align: right;\"> 4.89267</td><td>non_Q    </td><td>No_Diabetes</td></tr>\n",
              "<tr><td>female  </td><td style=\"text-align: right;\">   76</td><td>AF   </td><td>Right_car     </td><td>AMI           </td><td style=\"text-align: right;\">   27</td><td>death </td><td>нет      </td><td style=\"text-align: right;\">2.28145</td><td style=\"text-align: right;\"> 8.20875</td><td>nan      </td><td>Diabetes   </td></tr>\n",
              "<tr><td>female  </td><td style=\"text-align: right;\">   61</td><td>No_AF</td><td>Left_car      </td><td>AMI           </td><td style=\"text-align: right;\">   29</td><td>alive </td><td>нет      </td><td style=\"text-align: right;\">2.53003</td><td style=\"text-align: right;\"> 4.96881</td><td>nan      </td><td>Diabetes   </td></tr>\n",
              "<tr><td>female  </td><td style=\"text-align: right;\">   65</td><td>No_AF</td><td>Left_car      </td><td>AMI           </td><td style=\"text-align: right;\">   40</td><td>alive </td><td>нет      </td><td style=\"text-align: right;\">2.58216</td><td style=\"text-align: right;\"> 5.52729</td><td>non_Q    </td><td>No_Diabetes</td></tr>\n",
              "<tr><td>female  </td><td style=\"text-align: right;\">   79</td><td>No_AF</td><td>Left_car      </td><td>AMI           </td><td style=\"text-align: right;\">   49</td><td>alive </td><td>нет      </td><td style=\"text-align: right;\">4.4213 </td><td style=\"text-align: right;\"> 5.90645</td><td>nan      </td><td>No_Diabetes</td></tr>\n",
              "<tr><td>female  </td><td style=\"text-align: right;\">   75</td><td>No_AF</td><td>Left_car      </td><td>AMI           </td><td style=\"text-align: right;\">   33</td><td>death </td><td>нет      </td><td style=\"text-align: right;\">2.04014</td><td style=\"text-align: right;\"> 5.21104</td><td>non_Q    </td><td>Diabetes   </td></tr>\n",
              "</tbody>\n",
              "</table>"
            ]
          },
          "metadata": {
            "tags": []
          }
        },
        {
          "output_type": "execute_result",
          "data": {
            "text/plain": [
              ""
            ]
          },
          "metadata": {
            "tags": []
          },
          "execution_count": 176
        }
      ]
    },
    {
      "cell_type": "code",
      "metadata": {
        "id": "CjddBCTh95ag"
      },
      "source": [
        "sp1, sp2 = df.split_frame(ratios=[.6], seed=123)"
      ],
      "execution_count": 177,
      "outputs": []
    },
    {
      "cell_type": "code",
      "metadata": {
        "colab": {
          "base_uri": "https://localhost:8080/"
        },
        "id": "V4FLY5Ld-Pk4",
        "outputId": "3f09cc72-f1ba-4eb3-ab4a-fde0611605ba"
      },
      "source": [
        "sp_1, sp_2 = synthetic_data.split_frame(ratios=[.4], seed=123)\n",
        "\n",
        "df.dim"
      ],
      "execution_count": 178,
      "outputs": [
        {
          "output_type": "execute_result",
          "data": {
            "text/plain": [
              "[55, 12]"
            ]
          },
          "metadata": {
            "tags": []
          },
          "execution_count": 178
        }
      ]
    },
    {
      "cell_type": "code",
      "metadata": {
        "colab": {
          "base_uri": "https://localhost:8080/"
        },
        "id": "-bVtw9Ex_s4m",
        "outputId": "1aef0cfa-2ef8-42dc-807f-305b4bcb8576"
      },
      "source": [
        "sp1.dim"
      ],
      "execution_count": 179,
      "outputs": [
        {
          "output_type": "execute_result",
          "data": {
            "text/plain": [
              "[34, 12]"
            ]
          },
          "metadata": {
            "tags": []
          },
          "execution_count": 179
        }
      ]
    },
    {
      "cell_type": "code",
      "metadata": {
        "id": "MrRGyJEx_s1d"
      },
      "source": [
        "d_f = df.rbind(sp1)"
      ],
      "execution_count": 180,
      "outputs": []
    },
    {
      "cell_type": "code",
      "metadata": {
        "colab": {
          "base_uri": "https://localhost:8080/"
        },
        "id": "j2IBbNTU-c-u",
        "outputId": "8f726899-d03a-470e-8179-354d0dc8ed8c"
      },
      "source": [
        "d_f.dim\n",
        "\n"
      ],
      "execution_count": 181,
      "outputs": [
        {
          "output_type": "execute_result",
          "data": {
            "text/plain": [
              "[89, 12]"
            ]
          },
          "metadata": {
            "tags": []
          },
          "execution_count": 181
        }
      ]
    },
    {
      "cell_type": "code",
      "metadata": {
        "id": "T4EE22Xm-c8d"
      },
      "source": [
        "data = d_f.rbind(sp_1)"
      ],
      "execution_count": 182,
      "outputs": []
    },
    {
      "cell_type": "code",
      "metadata": {
        "colab": {
          "base_uri": "https://localhost:8080/"
        },
        "id": "q7rY7Awk-c6s",
        "outputId": "35ec99f0-4439-45d8-c75e-a4462c93347c"
      },
      "source": [
        "data.dim"
      ],
      "execution_count": 183,
      "outputs": [
        {
          "output_type": "execute_result",
          "data": {
            "text/plain": [
              "[113, 12]"
            ]
          },
          "metadata": {
            "tags": []
          },
          "execution_count": 183
        }
      ]
    },
    {
      "cell_type": "code",
      "metadata": {
        "colab": {
          "base_uri": "https://localhost:8080/"
        },
        "id": "FfI_m-pv6cBM",
        "outputId": "e6e2f736-7fd9-4b53-b2d2-b5b6c47db048"
      },
      "source": [
        "!pip install sdv[ctgan]"
      ],
      "execution_count": 184,
      "outputs": [
        {
          "output_type": "stream",
          "text": [
            "Requirement already satisfied: sdv[ctgan] in /usr/local/lib/python3.6/dist-packages (0.5.0)\n",
            "Requirement already satisfied: copulas<0.4,>=0.3.3 in /usr/local/lib/python3.6/dist-packages (from sdv[ctgan]) (0.3.3)\n",
            "Requirement already satisfied: pandas<2,>=1.1 in /usr/local/lib/python3.6/dist-packages (from sdv[ctgan]) (1.1.4)\n",
            "Requirement already satisfied: graphviz<1,>=0.13.2 in /usr/local/lib/python3.6/dist-packages (from sdv[ctgan]) (0.15)\n",
            "Requirement already satisfied: deepecho==0.1.3 in /usr/local/lib/python3.6/dist-packages (from sdv[ctgan]) (0.1.3)\n",
            "Requirement already satisfied: exrex<0.11,>=0.9.4 in /usr/local/lib/python3.6/dist-packages (from sdv[ctgan]) (0.10.5)\n",
            "Requirement already satisfied: xeger<0.4,>=0.3.5 in /usr/local/lib/python3.6/dist-packages (from sdv[ctgan]) (0.3.5)\n",
            "Requirement already satisfied: numpy<2,>=1.17.4 in /usr/local/lib/python3.6/dist-packages (from sdv[ctgan]) (1.18.5)\n",
            "Requirement already satisfied: sdmetrics<0.1.0,>=0.0.3 in /usr/local/lib/python3.6/dist-packages (from sdv[ctgan]) (0.0.4)\n",
            "Requirement already satisfied: rdt<0.3,>=0.2.8 in /usr/local/lib/python3.6/dist-packages (from sdv[ctgan]) (0.2.9)\n",
            "Collecting ctgan<0.3,>=0.2.2.dev1; extra == \"ctgan\"\n",
            "  Downloading https://files.pythonhosted.org/packages/bb/4d/9489445b4045979094dc4fe1533834e2607e00f45b04d958f5dcd720c398/ctgan-0.2.2-py2.py3-none-any.whl\n",
            "Requirement already satisfied: matplotlib<3.2.2,>=2.2.2 in /usr/local/lib/python3.6/dist-packages (from copulas<0.4,>=0.3.3->sdv[ctgan]) (3.2.1)\n",
            "Requirement already satisfied: scipy<2,>=1.2 in /usr/local/lib/python3.6/dist-packages (from copulas<0.4,>=0.3.3->sdv[ctgan]) (1.4.1)\n",
            "Requirement already satisfied: python-dateutil>=2.7.3 in /usr/local/lib/python3.6/dist-packages (from pandas<2,>=1.1->sdv[ctgan]) (2.8.1)\n",
            "Requirement already satisfied: pytz>=2017.2 in /usr/local/lib/python3.6/dist-packages (from pandas<2,>=1.1->sdv[ctgan]) (2018.9)\n",
            "Requirement already satisfied: torch<2,>=1 in /usr/local/lib/python3.6/dist-packages (from deepecho==0.1.3->sdv[ctgan]) (1.7.0+cu101)\n",
            "Requirement already satisfied: tqdm<5,>=4 in /usr/local/lib/python3.6/dist-packages (from deepecho==0.1.3->sdv[ctgan]) (4.41.1)\n",
            "Requirement already satisfied: scikit-learn<1,>=0.20 in /usr/local/lib/python3.6/dist-packages (from sdmetrics<0.1.0,>=0.0.3->sdv[ctgan]) (0.22.2.post1)\n",
            "Requirement already satisfied: seaborn<0.11,>=0.9 in /usr/local/lib/python3.6/dist-packages (from sdmetrics<0.1.0,>=0.0.3->sdv[ctgan]) (0.10.1)\n",
            "Requirement already satisfied: Faker<2,>=1.0.1 in /usr/local/lib/python3.6/dist-packages (from rdt<0.3,>=0.2.8->sdv[ctgan]) (1.0.8)\n",
            "Requirement already satisfied: torchvision<1,>=0.4.2 in /usr/local/lib/python3.6/dist-packages (from ctgan<0.3,>=0.2.2.dev1; extra == \"ctgan\"->sdv[ctgan]) (0.8.1+cu101)\n",
            "Requirement already satisfied: pyparsing!=2.0.4,!=2.1.2,!=2.1.6,>=2.0.1 in /usr/local/lib/python3.6/dist-packages (from matplotlib<3.2.2,>=2.2.2->copulas<0.4,>=0.3.3->sdv[ctgan]) (2.4.7)\n",
            "Requirement already satisfied: kiwisolver>=1.0.1 in /usr/local/lib/python3.6/dist-packages (from matplotlib<3.2.2,>=2.2.2->copulas<0.4,>=0.3.3->sdv[ctgan]) (1.3.1)\n",
            "Requirement already satisfied: cycler>=0.10 in /usr/local/lib/python3.6/dist-packages (from matplotlib<3.2.2,>=2.2.2->copulas<0.4,>=0.3.3->sdv[ctgan]) (0.10.0)\n",
            "Requirement already satisfied: six>=1.5 in /usr/local/lib/python3.6/dist-packages (from python-dateutil>=2.7.3->pandas<2,>=1.1->sdv[ctgan]) (1.15.0)\n",
            "Requirement already satisfied: future in /usr/local/lib/python3.6/dist-packages (from torch<2,>=1->deepecho==0.1.3->sdv[ctgan]) (0.16.0)\n",
            "Requirement already satisfied: typing-extensions in /usr/local/lib/python3.6/dist-packages (from torch<2,>=1->deepecho==0.1.3->sdv[ctgan]) (3.7.4.3)\n",
            "Requirement already satisfied: dataclasses in /usr/local/lib/python3.6/dist-packages (from torch<2,>=1->deepecho==0.1.3->sdv[ctgan]) (0.8)\n",
            "Requirement already satisfied: joblib>=0.11 in /usr/local/lib/python3.6/dist-packages (from scikit-learn<1,>=0.20->sdmetrics<0.1.0,>=0.0.3->sdv[ctgan]) (0.17.0)\n",
            "Requirement already satisfied: text-unidecode==1.2 in /usr/local/lib/python3.6/dist-packages (from Faker<2,>=1.0.1->rdt<0.3,>=0.2.8->sdv[ctgan]) (1.2)\n",
            "Requirement already satisfied: pillow>=4.1.1 in /usr/local/lib/python3.6/dist-packages (from torchvision<1,>=0.4.2->ctgan<0.3,>=0.2.2.dev1; extra == \"ctgan\"->sdv[ctgan]) (7.0.0)\n",
            "Installing collected packages: ctgan\n",
            "Successfully installed ctgan-0.2.2\n"
          ],
          "name": "stdout"
        }
      ]
    },
    {
      "cell_type": "code",
      "metadata": {
        "id": "Sa8rv0uR_pFo"
      },
      "source": [
        "data['Surv'] = data['Surv'].asfactor()"
      ],
      "execution_count": 185,
      "outputs": []
    },
    {
      "cell_type": "code",
      "metadata": {
        "id": "hgpAUiLvADMf"
      },
      "source": [
        "from h2o.automl import H2OAutoML\n"
      ],
      "execution_count": 186,
      "outputs": []
    },
    {
      "cell_type": "code",
      "metadata": {
        "id": "yrif-a9NECqQ"
      },
      "source": [
        "data = data.drop(['AH'], axis=1)\n",
        "data = data.drop(['Chol'], axis=1)\n",
        "data = data.drop(['Smoking'], axis=1)"
      ],
      "execution_count": 187,
      "outputs": []
    },
    {
      "cell_type": "code",
      "metadata": {
        "id": "Lb8zbVREOL-B"
      },
      "source": [
        ""
      ],
      "execution_count": 187,
      "outputs": []
    },
    {
      "cell_type": "code",
      "metadata": {
        "id": "yRArfR28Ay5F"
      },
      "source": [
        "# Set predictors and response variable\n",
        "response = \"Surv\"\n",
        "predictors = data.col_names.remove(response)\n"
      ],
      "execution_count": 188,
      "outputs": []
    },
    {
      "cell_type": "code",
      "metadata": {
        "id": "nP9i-OcZBwjj"
      },
      "source": [
        "# split\n",
        "train, test = data.split_frame(seed = 1234, \n",
        "                                  ratios = [0.75], \n",
        "                                  destination_frames = [\"train.hex\", \"test.hex\"])"
      ],
      "execution_count": 189,
      "outputs": []
    },
    {
      "cell_type": "code",
      "metadata": {
        "colab": {
          "base_uri": "https://localhost:8080/"
        },
        "id": "nQvnIKpaOTg1",
        "outputId": "d0ecd808-0b1c-404a-e8e3-46769193d4ed"
      },
      "source": [
        "train.col_names"
      ],
      "execution_count": 190,
      "outputs": [
        {
          "output_type": "execute_result",
          "data": {
            "text/plain": [
              "['Gender',\n",
              " 'Age',\n",
              " 'AF',\n",
              " 'Localisation',\n",
              " 'AMI_Unst.ang',\n",
              " 'GFR',\n",
              " 'Surv',\n",
              " 'Q_non_Q',\n",
              " 'DM']"
            ]
          },
          "metadata": {
            "tags": []
          },
          "execution_count": 190
        }
      ]
    },
    {
      "cell_type": "code",
      "metadata": {
        "colab": {
          "base_uri": "https://localhost:8080/"
        },
        "id": "w5V3WRnvAUBn",
        "outputId": "273196c2-f78e-4288-d902-c22ea5caf8fe"
      },
      "source": [
        "aml = H2OAutoML(max_models = 6, max_runtime_secs = 120, seed = 12345)\n",
        "aml.train(x = predictors, y = response, training_frame = train, leaderboard_frame = test)"
      ],
      "execution_count": 191,
      "outputs": [
        {
          "output_type": "stream",
          "text": [
            "AutoML progress: |████████████████████████████████████████████████████████| 100%\n"
          ],
          "name": "stdout"
        }
      ]
    },
    {
      "cell_type": "code",
      "metadata": {
        "colab": {
          "base_uri": "https://localhost:8080/"
        },
        "id": "uNdU0AzULqYM",
        "outputId": "9def9327-f84a-46e2-aa74-fa75828e95f0"
      },
      "source": [
        "aml_ = H2OAutoML(max_models = 6, max_runtime_secs = 120, seed = 12345)\n",
        "aml_.train(x = predictors, y = response, training_frame = train, leaderboard_frame = train)"
      ],
      "execution_count": 142,
      "outputs": [
        {
          "output_type": "stream",
          "text": [
            "AutoML progress: |████████████████████████████████████████████████████████| 100%\n"
          ],
          "name": "stdout"
        }
      ]
    },
    {
      "cell_type": "code",
      "metadata": {
        "id": "9RX1wK5yBos9"
      },
      "source": [
        "lb = aml.leaderboard"
      ],
      "execution_count": 143,
      "outputs": []
    },
    {
      "cell_type": "code",
      "metadata": {
        "colab": {
          "base_uri": "https://localhost:8080/",
          "height": 145
        },
        "id": "gskx2siCCBjx",
        "outputId": "f371abe3-e149-4375-e12a-5e8030ba2613"
      },
      "source": [
        "lb.head(rows=5)"
      ],
      "execution_count": 144,
      "outputs": [
        {
          "output_type": "display_data",
          "data": {
            "text/html": [
              "<table>\n",
              "<thead>\n",
              "<tr><th>model_id                                           </th><th style=\"text-align: right;\">     auc</th><th style=\"text-align: right;\">  logloss</th><th style=\"text-align: right;\">   aucpr</th><th style=\"text-align: right;\">  mean_per_class_error</th><th style=\"text-align: right;\">    rmse</th><th style=\"text-align: right;\">      mse</th></tr>\n",
              "</thead>\n",
              "<tbody>\n",
              "<tr><td>GBM_1_AutoML_20201128_093527                       </td><td style=\"text-align: right;\">0.895238</td><td style=\"text-align: right;\"> 0.447485</td><td style=\"text-align: right;\">0.861139</td><td style=\"text-align: right;\">             0.0714286</td><td style=\"text-align: right;\">0.277345</td><td style=\"text-align: right;\">0.0769205</td></tr>\n",
              "<tr><td>StackedEnsemble_BestOfFamily_AutoML_20201128_093527</td><td style=\"text-align: right;\">0.885714</td><td style=\"text-align: right;\"> 0.309802</td><td style=\"text-align: right;\">0.83683 </td><td style=\"text-align: right;\">             0.0714286</td><td style=\"text-align: right;\">0.270364</td><td style=\"text-align: right;\">0.0730965</td></tr>\n",
              "<tr><td>StackedEnsemble_AllModels_AutoML_20201128_093527   </td><td style=\"text-align: right;\">0.87619 </td><td style=\"text-align: right;\"> 0.353711</td><td style=\"text-align: right;\">0.807077</td><td style=\"text-align: right;\">             0.0714286</td><td style=\"text-align: right;\">0.306475</td><td style=\"text-align: right;\">0.0939271</td></tr>\n",
              "<tr><td>DRF_1_AutoML_20201128_093527                       </td><td style=\"text-align: right;\">0.866667</td><td style=\"text-align: right;\"> 0.456913</td><td style=\"text-align: right;\">0.76872 </td><td style=\"text-align: right;\">             0.0714286</td><td style=\"text-align: right;\">0.34277 </td><td style=\"text-align: right;\">0.117491 </td></tr>\n",
              "<tr><td>GLM_1_AutoML_20201128_093527                       </td><td style=\"text-align: right;\">0.861905</td><td style=\"text-align: right;\"> 0.533078</td><td style=\"text-align: right;\">0.819349</td><td style=\"text-align: right;\">             0.142857 </td><td style=\"text-align: right;\">0.381899</td><td style=\"text-align: right;\">0.145847 </td></tr>\n",
              "</tbody>\n",
              "</table>"
            ]
          },
          "metadata": {
            "tags": []
          }
        },
        {
          "output_type": "execute_result",
          "data": {
            "text/plain": [
              ""
            ]
          },
          "metadata": {
            "tags": []
          },
          "execution_count": 144
        }
      ]
    },
    {
      "cell_type": "code",
      "metadata": {
        "colab": {
          "base_uri": "https://localhost:8080/"
        },
        "id": "M-dE3rk6CDgc",
        "outputId": "defeea29-c7dd-4a12-ea06-4d4775326791"
      },
      "source": [
        "aml.varimp_heatmap\n"
      ],
      "execution_count": 146,
      "outputs": [
        {
          "output_type": "execute_result",
          "data": {
            "text/plain": [
              "<bound method varimp_heatmap of <h2o.automl.autoh2o.H2OAutoML object at 0x7fbb89f4fac8>>"
            ]
          },
          "metadata": {
            "tags": []
          },
          "execution_count": 146
        }
      ]
    },
    {
      "cell_type": "code",
      "metadata": {
        "id": "fCbblmFxCNDc",
        "colab": {
          "base_uri": "https://localhost:8080/",
          "height": 459
        },
        "outputId": "39cf7c85-2fff-412d-f3b2-52f7926e2903"
      },
      "source": [
        "import scipy\n",
        "from scipy import stats\n",
        "data = data, columns=['Gender',\n",
        " 'Age',\n",
        " 'AF',\n",
        " 'Localisation',\n",
        " 'AMI_Unst.ang',\n",
        " 'GFR',\n",
        " 'Surv',\n",
        " 'Q_non_Q',\n",
        " 'DM'])\n",
        "x = data_[data_['Surv'] == 'death']['GFR']\n",
        "y = data_[data_['Surv'] == 'alive']['GFR']\n",
        "x.name, y.name = 'death', 'alive'"
      ],
      "execution_count": 192,
      "outputs": [
        {
          "output_type": "error",
          "ename": "ValueError",
          "evalue": "ignored",
          "traceback": [
            "\u001b[0;31m---------------------------------------------------------------------------\u001b[0m",
            "\u001b[0;31mAssertionError\u001b[0m                            Traceback (most recent call last)",
            "\u001b[0;32m/usr/local/lib/python3.6/dist-packages/pandas/core/internals/construction.py\u001b[0m in \u001b[0;36m_list_to_arrays\u001b[0;34m(data, columns, coerce_float, dtype)\u001b[0m\n\u001b[1;32m    563\u001b[0m     \u001b[0;32mtry\u001b[0m\u001b[0;34m:\u001b[0m\u001b[0;34m\u001b[0m\u001b[0;34m\u001b[0m\u001b[0m\n\u001b[0;32m--> 564\u001b[0;31m         \u001b[0mcolumns\u001b[0m \u001b[0;34m=\u001b[0m \u001b[0m_validate_or_indexify_columns\u001b[0m\u001b[0;34m(\u001b[0m\u001b[0mcontent\u001b[0m\u001b[0;34m,\u001b[0m \u001b[0mcolumns\u001b[0m\u001b[0;34m)\u001b[0m\u001b[0;34m\u001b[0m\u001b[0;34m\u001b[0m\u001b[0m\n\u001b[0m\u001b[1;32m    565\u001b[0m         \u001b[0mresult\u001b[0m \u001b[0;34m=\u001b[0m \u001b[0m_convert_object_array\u001b[0m\u001b[0;34m(\u001b[0m\u001b[0mcontent\u001b[0m\u001b[0;34m,\u001b[0m \u001b[0mdtype\u001b[0m\u001b[0;34m=\u001b[0m\u001b[0mdtype\u001b[0m\u001b[0;34m,\u001b[0m \u001b[0mcoerce_float\u001b[0m\u001b[0;34m=\u001b[0m\u001b[0mcoerce_float\u001b[0m\u001b[0;34m)\u001b[0m\u001b[0;34m\u001b[0m\u001b[0;34m\u001b[0m\u001b[0m\n",
            "\u001b[0;32m/usr/local/lib/python3.6/dist-packages/pandas/core/internals/construction.py\u001b[0m in \u001b[0;36m_validate_or_indexify_columns\u001b[0;34m(content, columns)\u001b[0m\n\u001b[1;32m    688\u001b[0m             raise AssertionError(\n\u001b[0;32m--> 689\u001b[0;31m                 \u001b[0;34mf\"{len(columns)} columns passed, passed data had \"\u001b[0m\u001b[0;34m\u001b[0m\u001b[0;34m\u001b[0m\u001b[0m\n\u001b[0m\u001b[1;32m    690\u001b[0m                 \u001b[0;34mf\"{len(content)} columns\"\u001b[0m\u001b[0;34m\u001b[0m\u001b[0;34m\u001b[0m\u001b[0m\n",
            "\u001b[0;31mAssertionError\u001b[0m: 9 columns passed, passed data had 1 columns",
            "\nThe above exception was the direct cause of the following exception:\n",
            "\u001b[0;31mValueError\u001b[0m                                Traceback (most recent call last)",
            "\u001b[0;32m<ipython-input-192-224af965512e>\u001b[0m in \u001b[0;36m<module>\u001b[0;34m()\u001b[0m\n\u001b[1;32m      9\u001b[0m  \u001b[0;34m'Surv'\u001b[0m\u001b[0;34m,\u001b[0m\u001b[0;34m\u001b[0m\u001b[0;34m\u001b[0m\u001b[0m\n\u001b[1;32m     10\u001b[0m  \u001b[0;34m'Q_non_Q'\u001b[0m\u001b[0;34m,\u001b[0m\u001b[0;34m\u001b[0m\u001b[0;34m\u001b[0m\u001b[0m\n\u001b[0;32m---> 11\u001b[0;31m  'DM'])\n\u001b[0m\u001b[1;32m     12\u001b[0m \u001b[0mx\u001b[0m \u001b[0;34m=\u001b[0m \u001b[0mdata_\u001b[0m\u001b[0;34m[\u001b[0m\u001b[0mdata_\u001b[0m\u001b[0;34m[\u001b[0m\u001b[0;34m'Surv'\u001b[0m\u001b[0;34m]\u001b[0m \u001b[0;34m==\u001b[0m \u001b[0;34m'death'\u001b[0m\u001b[0;34m]\u001b[0m\u001b[0;34m[\u001b[0m\u001b[0;34m'GFR'\u001b[0m\u001b[0;34m]\u001b[0m\u001b[0;34m\u001b[0m\u001b[0;34m\u001b[0m\u001b[0m\n\u001b[1;32m     13\u001b[0m \u001b[0my\u001b[0m \u001b[0;34m=\u001b[0m \u001b[0mdata_\u001b[0m\u001b[0;34m[\u001b[0m\u001b[0mdata_\u001b[0m\u001b[0;34m[\u001b[0m\u001b[0;34m'Surv'\u001b[0m\u001b[0;34m]\u001b[0m \u001b[0;34m==\u001b[0m \u001b[0;34m'alive'\u001b[0m\u001b[0;34m]\u001b[0m\u001b[0;34m[\u001b[0m\u001b[0;34m'GFR'\u001b[0m\u001b[0;34m]\u001b[0m\u001b[0;34m\u001b[0m\u001b[0;34m\u001b[0m\u001b[0m\n",
            "\u001b[0;32m/usr/local/lib/python3.6/dist-packages/pandas/core/frame.py\u001b[0m in \u001b[0;36m__init__\u001b[0;34m(self, data, index, columns, dtype, copy)\u001b[0m\n\u001b[1;32m    507\u001b[0m                     \u001b[0;32mif\u001b[0m \u001b[0mis_named_tuple\u001b[0m\u001b[0;34m(\u001b[0m\u001b[0mdata\u001b[0m\u001b[0;34m[\u001b[0m\u001b[0;36m0\u001b[0m\u001b[0;34m]\u001b[0m\u001b[0;34m)\u001b[0m \u001b[0;32mand\u001b[0m \u001b[0mcolumns\u001b[0m \u001b[0;32mis\u001b[0m \u001b[0;32mNone\u001b[0m\u001b[0;34m:\u001b[0m\u001b[0;34m\u001b[0m\u001b[0;34m\u001b[0m\u001b[0m\n\u001b[1;32m    508\u001b[0m                         \u001b[0mcolumns\u001b[0m \u001b[0;34m=\u001b[0m \u001b[0mdata\u001b[0m\u001b[0;34m[\u001b[0m\u001b[0;36m0\u001b[0m\u001b[0;34m]\u001b[0m\u001b[0;34m.\u001b[0m\u001b[0m_fields\u001b[0m\u001b[0;34m\u001b[0m\u001b[0;34m\u001b[0m\u001b[0m\n\u001b[0;32m--> 509\u001b[0;31m                     \u001b[0marrays\u001b[0m\u001b[0;34m,\u001b[0m \u001b[0mcolumns\u001b[0m \u001b[0;34m=\u001b[0m \u001b[0mto_arrays\u001b[0m\u001b[0;34m(\u001b[0m\u001b[0mdata\u001b[0m\u001b[0;34m,\u001b[0m \u001b[0mcolumns\u001b[0m\u001b[0;34m,\u001b[0m \u001b[0mdtype\u001b[0m\u001b[0;34m=\u001b[0m\u001b[0mdtype\u001b[0m\u001b[0;34m)\u001b[0m\u001b[0;34m\u001b[0m\u001b[0;34m\u001b[0m\u001b[0m\n\u001b[0m\u001b[1;32m    510\u001b[0m                     \u001b[0mcolumns\u001b[0m \u001b[0;34m=\u001b[0m \u001b[0mensure_index\u001b[0m\u001b[0;34m(\u001b[0m\u001b[0mcolumns\u001b[0m\u001b[0;34m)\u001b[0m\u001b[0;34m\u001b[0m\u001b[0;34m\u001b[0m\u001b[0m\n\u001b[1;32m    511\u001b[0m \u001b[0;34m\u001b[0m\u001b[0m\n",
            "\u001b[0;32m/usr/local/lib/python3.6/dist-packages/pandas/core/internals/construction.py\u001b[0m in \u001b[0;36mto_arrays\u001b[0;34m(data, columns, coerce_float, dtype)\u001b[0m\n\u001b[1;32m    546\u001b[0m         \u001b[0;31m# last ditch effort\u001b[0m\u001b[0;34m\u001b[0m\u001b[0;34m\u001b[0m\u001b[0;34m\u001b[0m\u001b[0m\n\u001b[1;32m    547\u001b[0m         \u001b[0mdata\u001b[0m \u001b[0;34m=\u001b[0m \u001b[0;34m[\u001b[0m\u001b[0mtuple\u001b[0m\u001b[0;34m(\u001b[0m\u001b[0mx\u001b[0m\u001b[0;34m)\u001b[0m \u001b[0;32mfor\u001b[0m \u001b[0mx\u001b[0m \u001b[0;32min\u001b[0m \u001b[0mdata\u001b[0m\u001b[0;34m]\u001b[0m\u001b[0;34m\u001b[0m\u001b[0;34m\u001b[0m\u001b[0m\n\u001b[0;32m--> 548\u001b[0;31m         \u001b[0;32mreturn\u001b[0m \u001b[0m_list_to_arrays\u001b[0m\u001b[0;34m(\u001b[0m\u001b[0mdata\u001b[0m\u001b[0;34m,\u001b[0m \u001b[0mcolumns\u001b[0m\u001b[0;34m,\u001b[0m \u001b[0mcoerce_float\u001b[0m\u001b[0;34m=\u001b[0m\u001b[0mcoerce_float\u001b[0m\u001b[0;34m,\u001b[0m \u001b[0mdtype\u001b[0m\u001b[0;34m=\u001b[0m\u001b[0mdtype\u001b[0m\u001b[0;34m)\u001b[0m\u001b[0;34m\u001b[0m\u001b[0;34m\u001b[0m\u001b[0m\n\u001b[0m\u001b[1;32m    549\u001b[0m \u001b[0;34m\u001b[0m\u001b[0m\n\u001b[1;32m    550\u001b[0m \u001b[0;34m\u001b[0m\u001b[0m\n",
            "\u001b[0;32m/usr/local/lib/python3.6/dist-packages/pandas/core/internals/construction.py\u001b[0m in \u001b[0;36m_list_to_arrays\u001b[0;34m(data, columns, coerce_float, dtype)\u001b[0m\n\u001b[1;32m    565\u001b[0m         \u001b[0mresult\u001b[0m \u001b[0;34m=\u001b[0m \u001b[0m_convert_object_array\u001b[0m\u001b[0;34m(\u001b[0m\u001b[0mcontent\u001b[0m\u001b[0;34m,\u001b[0m \u001b[0mdtype\u001b[0m\u001b[0;34m=\u001b[0m\u001b[0mdtype\u001b[0m\u001b[0;34m,\u001b[0m \u001b[0mcoerce_float\u001b[0m\u001b[0;34m=\u001b[0m\u001b[0mcoerce_float\u001b[0m\u001b[0;34m)\u001b[0m\u001b[0;34m\u001b[0m\u001b[0;34m\u001b[0m\u001b[0m\n\u001b[1;32m    566\u001b[0m     \u001b[0;32mexcept\u001b[0m \u001b[0mAssertionError\u001b[0m \u001b[0;32mas\u001b[0m \u001b[0me\u001b[0m\u001b[0;34m:\u001b[0m\u001b[0;34m\u001b[0m\u001b[0;34m\u001b[0m\u001b[0m\n\u001b[0;32m--> 567\u001b[0;31m         \u001b[0;32mraise\u001b[0m \u001b[0mValueError\u001b[0m\u001b[0;34m(\u001b[0m\u001b[0me\u001b[0m\u001b[0;34m)\u001b[0m \u001b[0;32mfrom\u001b[0m \u001b[0me\u001b[0m\u001b[0;34m\u001b[0m\u001b[0;34m\u001b[0m\u001b[0m\n\u001b[0m\u001b[1;32m    568\u001b[0m     \u001b[0;32mreturn\u001b[0m \u001b[0mresult\u001b[0m\u001b[0;34m,\u001b[0m \u001b[0mcolumns\u001b[0m\u001b[0;34m\u001b[0m\u001b[0;34m\u001b[0m\u001b[0m\n\u001b[1;32m    569\u001b[0m \u001b[0;34m\u001b[0m\u001b[0m\n",
            "\u001b[0;31mValueError\u001b[0m: 9 columns passed, passed data had 1 columns"
          ]
        }
      ]
    },
    {
      "cell_type": "code",
      "metadata": {
        "colab": {
          "base_uri": "https://localhost:8080/"
        },
        "id": "V6IQSv5COdsr",
        "outputId": "40ee18f1-f841-4a7b-d249-428818e8c0ee"
      },
      "source": [
        "y"
      ],
      "execution_count": 159,
      "outputs": [
        {
          "output_type": "execute_result",
          "data": {
            "text/plain": [
              "Series([], Name: alive, dtype: float64)"
            ]
          },
          "metadata": {
            "tags": []
          },
          "execution_count": 159
        }
      ]
    },
    {
      "cell_type": "code",
      "metadata": {
        "colab": {
          "base_uri": "https://localhost:8080/"
        },
        "id": "DXApK0TzFHXk",
        "outputId": "6dec6e7d-c5d0-4e93-d2ad-7684181a6776"
      },
      "source": [
        "res = stats.ttest_ind(x, y, equal_var=False)\n",
        "print('p-value: ', res[1])"
      ],
      "execution_count": 156,
      "outputs": [
        {
          "output_type": "stream",
          "text": [
            "p-value:  nan\n"
          ],
          "name": "stdout"
        }
      ]
    },
    {
      "cell_type": "code",
      "metadata": {
        "id": "gqBWx6XxFUnG"
      },
      "source": [
        ""
      ],
      "execution_count": null,
      "outputs": []
    }
  ]
}