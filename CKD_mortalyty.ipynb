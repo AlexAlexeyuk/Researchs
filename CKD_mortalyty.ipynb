{
  "nbformat": 4,
  "nbformat_minor": 0,
  "metadata": {
    "colab": {
      "name": "CKD_mortalyty.ipynb",
      "provenance": [],
      "authorship_tag": "ABX9TyM2K0doCv+WzVgWsndddprb",
      "include_colab_link": true
    },
    "kernelspec": {
      "display_name": "Python 3",
      "name": "python3"
    }
  },
  "cells": [
    {
      "cell_type": "markdown",
      "metadata": {
        "id": "view-in-github",
        "colab_type": "text"
      },
      "source": [
        "<a href=\"https://colab.research.google.com/github/AlexAlexeyuk/Researchs/blob/master/CKD_mortalyty.ipynb\" target=\"_parent\"><img src=\"https://colab.research.google.com/assets/colab-badge.svg\" alt=\"Open In Colab\"/></a>"
      ]
    },
    {
      "cell_type": "code",
      "metadata": {
        "colab": {
          "base_uri": "https://localhost:8080/",
          "height": 389
        },
        "id": "tdjJp2An9R87",
        "outputId": "cfc13d98-df9a-4f04-af58-7e9c42e0628b"
      },
      "source": [
        "import h2o\n",
        "h2o.init()"
      ],
      "execution_count": 2,
      "outputs": [
        {
          "output_type": "stream",
          "text": [
            "Checking whether there is an H2O instance running at http://localhost:54321 . connected.\n"
          ],
          "name": "stdout"
        },
        {
          "output_type": "display_data",
          "data": {
            "text/html": [
              "<div style=\"overflow:auto\"><table style=\"width:50%\"><tr><td>H2O_cluster_uptime:</td>\n",
              "<td>2 mins 27 secs</td></tr>\n",
              "<tr><td>H2O_cluster_timezone:</td>\n",
              "<td>Etc/UTC</td></tr>\n",
              "<tr><td>H2O_data_parsing_timezone:</td>\n",
              "<td>UTC</td></tr>\n",
              "<tr><td>H2O_cluster_version:</td>\n",
              "<td>3.32.0.2</td></tr>\n",
              "<tr><td>H2O_cluster_version_age:</td>\n",
              "<td>21 days, 3 hours and 7 minutes </td></tr>\n",
              "<tr><td>H2O_cluster_name:</td>\n",
              "<td>H2O_from_python_unknownUser_2ibyen</td></tr>\n",
              "<tr><td>H2O_cluster_total_nodes:</td>\n",
              "<td>1</td></tr>\n",
              "<tr><td>H2O_cluster_free_memory:</td>\n",
              "<td>3.180 Gb</td></tr>\n",
              "<tr><td>H2O_cluster_total_cores:</td>\n",
              "<td>2</td></tr>\n",
              "<tr><td>H2O_cluster_allowed_cores:</td>\n",
              "<td>2</td></tr>\n",
              "<tr><td>H2O_cluster_status:</td>\n",
              "<td>locked, healthy</td></tr>\n",
              "<tr><td>H2O_connection_url:</td>\n",
              "<td>http://localhost:54321</td></tr>\n",
              "<tr><td>H2O_connection_proxy:</td>\n",
              "<td>{\"http\": null, \"https\": null}</td></tr>\n",
              "<tr><td>H2O_internal_security:</td>\n",
              "<td>False</td></tr>\n",
              "<tr><td>H2O_API_Extensions:</td>\n",
              "<td>Amazon S3, XGBoost, Algos, AutoML, Core V3, TargetEncoder, Core V4</td></tr>\n",
              "<tr><td>Python_version:</td>\n",
              "<td>3.6.9 final</td></tr></table></div>"
            ],
            "text/plain": [
              "--------------------------  ------------------------------------------------------------------\n",
              "H2O_cluster_uptime:         2 mins 27 secs\n",
              "H2O_cluster_timezone:       Etc/UTC\n",
              "H2O_data_parsing_timezone:  UTC\n",
              "H2O_cluster_version:        3.32.0.2\n",
              "H2O_cluster_version_age:    21 days, 3 hours and 7 minutes\n",
              "H2O_cluster_name:           H2O_from_python_unknownUser_2ibyen\n",
              "H2O_cluster_total_nodes:    1\n",
              "H2O_cluster_free_memory:    3.180 Gb\n",
              "H2O_cluster_total_cores:    2\n",
              "H2O_cluster_allowed_cores:  2\n",
              "H2O_cluster_status:         locked, healthy\n",
              "H2O_connection_url:         http://localhost:54321\n",
              "H2O_connection_proxy:       {\"http\": null, \"https\": null}\n",
              "H2O_internal_security:      False\n",
              "H2O_API_Extensions:         Amazon S3, XGBoost, Algos, AutoML, Core V3, TargetEncoder, Core V4\n",
              "Python_version:             3.6.9 final\n",
              "--------------------------  ------------------------------------------------------------------"
            ]
          },
          "metadata": {
            "tags": []
          }
        }
      ]
    },
    {
      "cell_type": "code",
      "metadata": {
        "id": "Sa8rv0uR_pFo",
        "colab": {
          "base_uri": "https://localhost:8080/"
        },
        "outputId": "f99eadc0-4e87-41ee-d652-aab12bc430bd"
      },
      "source": [
        "data = h2o.import_file('/content/cleaned_data')\n",
        "data['Surv'] = data['Surv'].asfactor()"
      ],
      "execution_count": 3,
      "outputs": [
        {
          "output_type": "stream",
          "text": [
            "Parse progress: |█████████████████████████████████████████████████████████| 100%\n"
          ],
          "name": "stdout"
        }
      ]
    },
    {
      "cell_type": "code",
      "metadata": {
        "id": "gDj1BNyWsBK1",
        "outputId": "65eabc3e-4833-40f9-950c-f9d76c341191",
        "colab": {
          "base_uri": "https://localhost:8080/",
          "height": 465
        }
      },
      "source": [
        "data.describe()"
      ],
      "execution_count": 13,
      "outputs": [
        {
          "output_type": "stream",
          "text": [
            "Rows:113\n",
            "Cols:9\n",
            "\n",
            "\n"
          ],
          "name": "stdout"
        },
        {
          "output_type": "display_data",
          "data": {
            "text/html": [
              "<table>\n",
              "<thead>\n",
              "<tr><th>       </th><th>Gender  </th><th>Age              </th><th>AF   </th><th>Localisation  </th><th>AMI_Unst.ang  </th><th>GFR              </th><th>Surv  </th><th>Q_non_Q  </th><th>DM         </th></tr>\n",
              "</thead>\n",
              "<tbody>\n",
              "<tr><td>type   </td><td>enum    </td><td>int              </td><td>enum </td><td>enum          </td><td>enum          </td><td>int              </td><td>enum  </td><td>enum     </td><td>enum       </td></tr>\n",
              "<tr><td>mins   </td><td>        </td><td>56.0             </td><td>     </td><td>              </td><td>              </td><td>9.0              </td><td>      </td><td>         </td><td>           </td></tr>\n",
              "<tr><td>mean   </td><td>        </td><td>77.52212389380533</td><td>     </td><td>              </td><td>              </td><td>43.00000000000002</td><td>      </td><td>         </td><td>           </td></tr>\n",
              "<tr><td>maxs   </td><td>        </td><td>117.0            </td><td>     </td><td>              </td><td>              </td><td>98.0             </td><td>      </td><td>         </td><td>           </td></tr>\n",
              "<tr><td>sigma  </td><td>        </td><td>9.962516665277997</td><td>     </td><td>              </td><td>              </td><td>20.34128454997022</td><td>      </td><td>         </td><td>           </td></tr>\n",
              "<tr><td>zeros  </td><td>        </td><td>0                </td><td>     </td><td>              </td><td>              </td><td>0                </td><td>      </td><td>         </td><td>           </td></tr>\n",
              "<tr><td>missing</td><td>0       </td><td>0                </td><td>0    </td><td>0             </td><td>0             </td><td>0                </td><td>0     </td><td>0        </td><td>0          </td></tr>\n",
              "<tr><td>0      </td><td>male    </td><td>56.0             </td><td>No_AF</td><td>Left_car      </td><td>AMI           </td><td>14.0             </td><td>death </td><td>non_Q    </td><td>Diabetes   </td></tr>\n",
              "<tr><td>1      </td><td>male    </td><td>59.0             </td><td>No_AF</td><td>Left_car      </td><td>Unst_ang      </td><td>98.0             </td><td>alive </td><td>nan      </td><td>No_Diabetes</td></tr>\n",
              "<tr><td>2      </td><td>female  </td><td>86.0             </td><td>AF   </td><td>Left_car      </td><td>AMI           </td><td>57.0             </td><td>death </td><td>non_Q    </td><td>Diabetes   </td></tr>\n",
              "<tr><td>3      </td><td>female  </td><td>83.0             </td><td>AF   </td><td>Left_car      </td><td>Unst_ang      </td><td>69.0             </td><td>alive </td><td>nan      </td><td>No_Diabetes</td></tr>\n",
              "<tr><td>4      </td><td>female  </td><td>78.0             </td><td>AF   </td><td>Left_car      </td><td>AMI           </td><td>54.0             </td><td>death </td><td>non_Q    </td><td>No_Diabetes</td></tr>\n",
              "<tr><td>5      </td><td>male    </td><td>73.0             </td><td>No_AF</td><td>Right_car     </td><td>AMI           </td><td>86.0             </td><td>alive </td><td>nan      </td><td>No_Diabetes</td></tr>\n",
              "<tr><td>6      </td><td>female  </td><td>76.0             </td><td>AF   </td><td>Right_car     </td><td>AMI           </td><td>12.0             </td><td>death </td><td>nan      </td><td>Diabetes   </td></tr>\n",
              "<tr><td>7      </td><td>male    </td><td>76.0             </td><td>AF   </td><td>Vertebro_bas  </td><td>Unst_ang      </td><td>52.0             </td><td>alive </td><td>nan      </td><td>No_Diabetes</td></tr>\n",
              "<tr><td>8      </td><td>male    </td><td>78.0             </td><td>AF   </td><td>Left_car      </td><td>AMI           </td><td>32.0             </td><td>death </td><td>nan      </td><td>Diabetes   </td></tr>\n",
              "<tr><td>9      </td><td>female  </td><td>76.0             </td><td>No_AF</td><td>Left_car      </td><td>AMI           </td><td>37.0             </td><td>death </td><td>nan      </td><td>No_Diabetes</td></tr>\n",
              "</tbody>\n",
              "</table>"
            ]
          },
          "metadata": {
            "tags": []
          }
        }
      ]
    },
    {
      "cell_type": "code",
      "metadata": {
        "id": "n3259eWSsPgv",
        "outputId": "49dfe757-043b-4e35-d602-629b08f92a38",
        "colab": {
          "base_uri": "https://localhost:8080/",
          "height": 82
        }
      },
      "source": [
        "data['Surv'].table()"
      ],
      "execution_count": 15,
      "outputs": [
        {
          "output_type": "display_data",
          "data": {
            "text/html": [
              "<table>\n",
              "<thead>\n",
              "<tr><th>Surv  </th><th style=\"text-align: right;\">  Count</th></tr>\n",
              "</thead>\n",
              "<tbody>\n",
              "<tr><td>alive </td><td style=\"text-align: right;\">     52</td></tr>\n",
              "<tr><td>death </td><td style=\"text-align: right;\">     61</td></tr>\n",
              "</tbody>\n",
              "</table>"
            ]
          },
          "metadata": {
            "tags": []
          }
        },
        {
          "output_type": "execute_result",
          "data": {
            "text/plain": [
              ""
            ]
          },
          "metadata": {
            "tags": []
          },
          "execution_count": 15
        }
      ]
    },
    {
      "cell_type": "code",
      "metadata": {
        "id": "bK7vSLlosXvn",
        "outputId": "c30527c6-1c78-4e92-ca89-22b5318901b3",
        "colab": {
          "base_uri": "https://localhost:8080/",
          "height": 82
        }
      },
      "source": [
        "data['Gender'].table()"
      ],
      "execution_count": 16,
      "outputs": [
        {
          "output_type": "display_data",
          "data": {
            "text/html": [
              "<table>\n",
              "<thead>\n",
              "<tr><th>Gender  </th><th style=\"text-align: right;\">  Count</th></tr>\n",
              "</thead>\n",
              "<tbody>\n",
              "<tr><td>female  </td><td style=\"text-align: right;\">     83</td></tr>\n",
              "<tr><td>male    </td><td style=\"text-align: right;\">     30</td></tr>\n",
              "</tbody>\n",
              "</table>"
            ]
          },
          "metadata": {
            "tags": []
          }
        },
        {
          "output_type": "execute_result",
          "data": {
            "text/plain": [
              ""
            ]
          },
          "metadata": {
            "tags": []
          },
          "execution_count": 16
        }
      ]
    },
    {
      "cell_type": "code",
      "metadata": {
        "id": "y5Yon2n6sd6j"
      },
      "source": [
        ""
      ],
      "execution_count": null,
      "outputs": []
    },
    {
      "cell_type": "code",
      "metadata": {
        "id": "hgpAUiLvADMf"
      },
      "source": [
        "from h2o.automl import H2OAutoML\n",
        "from h2o.estimators import H2OXGBoostEstimator"
      ],
      "execution_count": 4,
      "outputs": []
    },
    {
      "cell_type": "code",
      "metadata": {
        "id": "yRArfR28Ay5F"
      },
      "source": [
        "# Set predictors and response variable\n",
        "response = \"Surv\"\n",
        "predictors = data.col_names.remove(response)\n"
      ],
      "execution_count": 5,
      "outputs": []
    },
    {
      "cell_type": "code",
      "metadata": {
        "id": "nP9i-OcZBwjj"
      },
      "source": [
        "# split\n",
        "train, test = data.split_frame(seed = 1234, \n",
        "                                  ratios = [0.75], \n",
        "                                  destination_frames = [\"train.hex\", \"test.hex\"])"
      ],
      "execution_count": 6,
      "outputs": []
    },
    {
      "cell_type": "code",
      "metadata": {
        "colab": {
          "base_uri": "https://localhost:8080/"
        },
        "id": "nQvnIKpaOTg1",
        "outputId": "58f41d00-fa2d-4111-ede4-22aa1ebfe5f8"
      },
      "source": [
        "train.col_names"
      ],
      "execution_count": 7,
      "outputs": [
        {
          "output_type": "execute_result",
          "data": {
            "text/plain": [
              "['Gender',\n",
              " 'Age',\n",
              " 'AF',\n",
              " 'Localisation',\n",
              " 'AMI_Unst.ang',\n",
              " 'GFR',\n",
              " 'Surv',\n",
              " 'Q_non_Q',\n",
              " 'DM']"
            ]
          },
          "metadata": {
            "tags": []
          },
          "execution_count": 7
        }
      ]
    },
    {
      "cell_type": "code",
      "metadata": {
        "id": "221qP96nrT55"
      },
      "source": [
        "stroke_xgb = H2OXGBoostEstimator(booster='dart',\r\n",
        "                                  normalize_type=\"tree\",\r\n",
        "                                  seed=1234)"
      ],
      "execution_count": 8,
      "outputs": []
    },
    {
      "cell_type": "code",
      "metadata": {
        "id": "SI4McTJLrXhC",
        "outputId": "8b618836-d351-4518-f1dc-ee98d0b4797a",
        "colab": {
          "base_uri": "https://localhost:8080/"
        }
      },
      "source": [
        "stroke_xgb.train(x=predictors,\r\n",
        "                  y=response,\r\n",
        "                  training_frame=train,\r\n",
        "                  validation_frame=test)"
      ],
      "execution_count": 10,
      "outputs": [
        {
          "output_type": "stream",
          "text": [
            "xgboost Model Build progress: |███████████████████████████████████████████| 100%\n"
          ],
          "name": "stdout"
        }
      ]
    },
    {
      "cell_type": "code",
      "metadata": {
        "id": "2BSxY4GzrXkN",
        "outputId": "97d507c3-e75a-43c4-ff27-3ab072c272ba",
        "colab": {
          "base_uri": "https://localhost:8080/",
          "height": 1000
        }
      },
      "source": [
        "stroke_xgb.accuracy"
      ],
      "execution_count": 11,
      "outputs": [
        {
          "output_type": "stream",
          "text": [
            "Model Details\n",
            "=============\n",
            "H2OXGBoostEstimator :  XGBoost\n",
            "Model Key:  XGBoost_model_python_1607452996469_1\n",
            "\n",
            "\n",
            "Model Summary: \n"
          ],
          "name": "stdout"
        },
        {
          "output_type": "display_data",
          "data": {
            "text/html": [
              "<div>\n",
              "<style scoped>\n",
              "    .dataframe tbody tr th:only-of-type {\n",
              "        vertical-align: middle;\n",
              "    }\n",
              "\n",
              "    .dataframe tbody tr th {\n",
              "        vertical-align: top;\n",
              "    }\n",
              "\n",
              "    .dataframe thead th {\n",
              "        text-align: right;\n",
              "    }\n",
              "</style>\n",
              "<table border=\"1\" class=\"dataframe\">\n",
              "  <thead>\n",
              "    <tr style=\"text-align: right;\">\n",
              "      <th></th>\n",
              "      <th></th>\n",
              "      <th>number_of_trees</th>\n",
              "    </tr>\n",
              "  </thead>\n",
              "  <tbody>\n",
              "    <tr>\n",
              "      <th>0</th>\n",
              "      <td></td>\n",
              "      <td>50.0</td>\n",
              "    </tr>\n",
              "  </tbody>\n",
              "</table>\n",
              "</div>"
            ],
            "text/plain": [
              "     number_of_trees\n",
              "0               50.0"
            ]
          },
          "metadata": {
            "tags": []
          }
        },
        {
          "output_type": "stream",
          "text": [
            "\n",
            "\n",
            "ModelMetricsBinomial: xgboost\n",
            "** Reported on train data. **\n",
            "\n",
            "MSE: 0.015067316837166781\n",
            "RMSE: 0.12274899933264947\n",
            "LogLoss: 0.09380211190408486\n",
            "Mean Per-Class Error: 0.0\n",
            "AUC: 1.0\n",
            "AUCPR: 1.0\n",
            "Gini: 1.0\n",
            "\n",
            "Confusion Matrix (Act/Pred) for max f1 @ threshold = 0.6639729738235474: \n"
          ],
          "name": "stdout"
        },
        {
          "output_type": "display_data",
          "data": {
            "text/html": [
              "<div>\n",
              "<style scoped>\n",
              "    .dataframe tbody tr th:only-of-type {\n",
              "        vertical-align: middle;\n",
              "    }\n",
              "\n",
              "    .dataframe tbody tr th {\n",
              "        vertical-align: top;\n",
              "    }\n",
              "\n",
              "    .dataframe thead th {\n",
              "        text-align: right;\n",
              "    }\n",
              "</style>\n",
              "<table border=\"1\" class=\"dataframe\">\n",
              "  <thead>\n",
              "    <tr style=\"text-align: right;\">\n",
              "      <th></th>\n",
              "      <th></th>\n",
              "      <th>alive</th>\n",
              "      <th>death</th>\n",
              "      <th>Error</th>\n",
              "      <th>Rate</th>\n",
              "    </tr>\n",
              "  </thead>\n",
              "  <tbody>\n",
              "    <tr>\n",
              "      <th>0</th>\n",
              "      <td>alive</td>\n",
              "      <td>38.0</td>\n",
              "      <td>0.0</td>\n",
              "      <td>0.0</td>\n",
              "      <td>(0.0/38.0)</td>\n",
              "    </tr>\n",
              "    <tr>\n",
              "      <th>1</th>\n",
              "      <td>death</td>\n",
              "      <td>0.0</td>\n",
              "      <td>46.0</td>\n",
              "      <td>0.0</td>\n",
              "      <td>(0.0/46.0)</td>\n",
              "    </tr>\n",
              "    <tr>\n",
              "      <th>2</th>\n",
              "      <td>Total</td>\n",
              "      <td>38.0</td>\n",
              "      <td>46.0</td>\n",
              "      <td>0.0</td>\n",
              "      <td>(0.0/84.0)</td>\n",
              "    </tr>\n",
              "  </tbody>\n",
              "</table>\n",
              "</div>"
            ],
            "text/plain": [
              "          alive  death Error         Rate\n",
              "0  alive   38.0    0.0   0.0   (0.0/38.0)\n",
              "1  death    0.0   46.0   0.0   (0.0/46.0)\n",
              "2  Total   38.0   46.0   0.0   (0.0/84.0)"
            ]
          },
          "metadata": {
            "tags": []
          }
        },
        {
          "output_type": "stream",
          "text": [
            "\n",
            "Maximum Metrics: Maximum metrics at their respective thresholds\n"
          ],
          "name": "stdout"
        },
        {
          "output_type": "display_data",
          "data": {
            "text/html": [
              "<div>\n",
              "<style scoped>\n",
              "    .dataframe tbody tr th:only-of-type {\n",
              "        vertical-align: middle;\n",
              "    }\n",
              "\n",
              "    .dataframe tbody tr th {\n",
              "        vertical-align: top;\n",
              "    }\n",
              "\n",
              "    .dataframe thead th {\n",
              "        text-align: right;\n",
              "    }\n",
              "</style>\n",
              "<table border=\"1\" class=\"dataframe\">\n",
              "  <thead>\n",
              "    <tr style=\"text-align: right;\">\n",
              "      <th></th>\n",
              "      <th>metric</th>\n",
              "      <th>threshold</th>\n",
              "      <th>value</th>\n",
              "      <th>idx</th>\n",
              "    </tr>\n",
              "  </thead>\n",
              "  <tbody>\n",
              "    <tr>\n",
              "      <th>0</th>\n",
              "      <td>max f1</td>\n",
              "      <td>0.663973</td>\n",
              "      <td>1.000000</td>\n",
              "      <td>35.0</td>\n",
              "    </tr>\n",
              "    <tr>\n",
              "      <th>1</th>\n",
              "      <td>max f2</td>\n",
              "      <td>0.663973</td>\n",
              "      <td>1.000000</td>\n",
              "      <td>35.0</td>\n",
              "    </tr>\n",
              "    <tr>\n",
              "      <th>2</th>\n",
              "      <td>max f0point5</td>\n",
              "      <td>0.663973</td>\n",
              "      <td>1.000000</td>\n",
              "      <td>35.0</td>\n",
              "    </tr>\n",
              "    <tr>\n",
              "      <th>3</th>\n",
              "      <td>max accuracy</td>\n",
              "      <td>0.663973</td>\n",
              "      <td>1.000000</td>\n",
              "      <td>35.0</td>\n",
              "    </tr>\n",
              "    <tr>\n",
              "      <th>4</th>\n",
              "      <td>max precision</td>\n",
              "      <td>0.995439</td>\n",
              "      <td>1.000000</td>\n",
              "      <td>0.0</td>\n",
              "    </tr>\n",
              "    <tr>\n",
              "      <th>5</th>\n",
              "      <td>max recall</td>\n",
              "      <td>0.663973</td>\n",
              "      <td>1.000000</td>\n",
              "      <td>35.0</td>\n",
              "    </tr>\n",
              "    <tr>\n",
              "      <th>6</th>\n",
              "      <td>max specificity</td>\n",
              "      <td>0.995439</td>\n",
              "      <td>1.000000</td>\n",
              "      <td>0.0</td>\n",
              "    </tr>\n",
              "    <tr>\n",
              "      <th>7</th>\n",
              "      <td>max absolute_mcc</td>\n",
              "      <td>0.663973</td>\n",
              "      <td>1.000000</td>\n",
              "      <td>35.0</td>\n",
              "    </tr>\n",
              "    <tr>\n",
              "      <th>8</th>\n",
              "      <td>max min_per_class_accuracy</td>\n",
              "      <td>0.663973</td>\n",
              "      <td>1.000000</td>\n",
              "      <td>35.0</td>\n",
              "    </tr>\n",
              "    <tr>\n",
              "      <th>9</th>\n",
              "      <td>max mean_per_class_accuracy</td>\n",
              "      <td>0.663973</td>\n",
              "      <td>1.000000</td>\n",
              "      <td>35.0</td>\n",
              "    </tr>\n",
              "    <tr>\n",
              "      <th>10</th>\n",
              "      <td>max tns</td>\n",
              "      <td>0.995439</td>\n",
              "      <td>38.000000</td>\n",
              "      <td>0.0</td>\n",
              "    </tr>\n",
              "    <tr>\n",
              "      <th>11</th>\n",
              "      <td>max fns</td>\n",
              "      <td>0.995439</td>\n",
              "      <td>45.000000</td>\n",
              "      <td>0.0</td>\n",
              "    </tr>\n",
              "    <tr>\n",
              "      <th>12</th>\n",
              "      <td>max fps</td>\n",
              "      <td>0.010528</td>\n",
              "      <td>38.000000</td>\n",
              "      <td>65.0</td>\n",
              "    </tr>\n",
              "    <tr>\n",
              "      <th>13</th>\n",
              "      <td>max tps</td>\n",
              "      <td>0.663973</td>\n",
              "      <td>46.000000</td>\n",
              "      <td>35.0</td>\n",
              "    </tr>\n",
              "    <tr>\n",
              "      <th>14</th>\n",
              "      <td>max tnr</td>\n",
              "      <td>0.995439</td>\n",
              "      <td>1.000000</td>\n",
              "      <td>0.0</td>\n",
              "    </tr>\n",
              "    <tr>\n",
              "      <th>15</th>\n",
              "      <td>max fnr</td>\n",
              "      <td>0.995439</td>\n",
              "      <td>0.978261</td>\n",
              "      <td>0.0</td>\n",
              "    </tr>\n",
              "    <tr>\n",
              "      <th>16</th>\n",
              "      <td>max fpr</td>\n",
              "      <td>0.010528</td>\n",
              "      <td>1.000000</td>\n",
              "      <td>65.0</td>\n",
              "    </tr>\n",
              "    <tr>\n",
              "      <th>17</th>\n",
              "      <td>max tpr</td>\n",
              "      <td>0.663973</td>\n",
              "      <td>1.000000</td>\n",
              "      <td>35.0</td>\n",
              "    </tr>\n",
              "  </tbody>\n",
              "</table>\n",
              "</div>"
            ],
            "text/plain": [
              "                         metric  threshold      value   idx\n",
              "0                        max f1   0.663973   1.000000  35.0\n",
              "1                        max f2   0.663973   1.000000  35.0\n",
              "2                  max f0point5   0.663973   1.000000  35.0\n",
              "3                  max accuracy   0.663973   1.000000  35.0\n",
              "4                 max precision   0.995439   1.000000   0.0\n",
              "5                    max recall   0.663973   1.000000  35.0\n",
              "6               max specificity   0.995439   1.000000   0.0\n",
              "7              max absolute_mcc   0.663973   1.000000  35.0\n",
              "8    max min_per_class_accuracy   0.663973   1.000000  35.0\n",
              "9   max mean_per_class_accuracy   0.663973   1.000000  35.0\n",
              "10                      max tns   0.995439  38.000000   0.0\n",
              "11                      max fns   0.995439  45.000000   0.0\n",
              "12                      max fps   0.010528  38.000000  65.0\n",
              "13                      max tps   0.663973  46.000000  35.0\n",
              "14                      max tnr   0.995439   1.000000   0.0\n",
              "15                      max fnr   0.995439   0.978261   0.0\n",
              "16                      max fpr   0.010528   1.000000  65.0\n",
              "17                      max tpr   0.663973   1.000000  35.0"
            ]
          },
          "metadata": {
            "tags": []
          }
        },
        {
          "output_type": "stream",
          "text": [
            "\n",
            "Gains/Lift Table: Avg response rate: 54.76 %, avg score: 54.68 %\n"
          ],
          "name": "stdout"
        },
        {
          "output_type": "display_data",
          "data": {
            "text/html": [
              "<div>\n",
              "<style scoped>\n",
              "    .dataframe tbody tr th:only-of-type {\n",
              "        vertical-align: middle;\n",
              "    }\n",
              "\n",
              "    .dataframe tbody tr th {\n",
              "        vertical-align: top;\n",
              "    }\n",
              "\n",
              "    .dataframe thead th {\n",
              "        text-align: right;\n",
              "    }\n",
              "</style>\n",
              "<table border=\"1\" class=\"dataframe\">\n",
              "  <thead>\n",
              "    <tr style=\"text-align: right;\">\n",
              "      <th></th>\n",
              "      <th>group</th>\n",
              "      <th>cumulative_data_fraction</th>\n",
              "      <th>lower_threshold</th>\n",
              "      <th>lift</th>\n",
              "      <th>cumulative_lift</th>\n",
              "      <th>response_rate</th>\n",
              "      <th>score</th>\n",
              "      <th>cumulative_response_rate</th>\n",
              "      <th>cumulative_score</th>\n",
              "      <th>capture_rate</th>\n",
              "      <th>cumulative_capture_rate</th>\n",
              "      <th>gain</th>\n",
              "      <th>cumulative_gain</th>\n",
              "      <th>kolmogorov_smirnov</th>\n",
              "    </tr>\n",
              "  </thead>\n",
              "  <tbody>\n",
              "    <tr>\n",
              "      <th>0</th>\n",
              "      <td>1</td>\n",
              "      <td>0.011905</td>\n",
              "      <td>0.995192</td>\n",
              "      <td>1.826087</td>\n",
              "      <td>1.826087</td>\n",
              "      <td>1.000000</td>\n",
              "      <td>0.995439</td>\n",
              "      <td>1.000000</td>\n",
              "      <td>0.995439</td>\n",
              "      <td>0.021739</td>\n",
              "      <td>0.021739</td>\n",
              "      <td>82.608696</td>\n",
              "      <td>82.608696</td>\n",
              "      <td>0.021739</td>\n",
              "    </tr>\n",
              "    <tr>\n",
              "      <th>1</th>\n",
              "      <td>2</td>\n",
              "      <td>0.035714</td>\n",
              "      <td>0.995142</td>\n",
              "      <td>1.826087</td>\n",
              "      <td>1.826087</td>\n",
              "      <td>1.000000</td>\n",
              "      <td>0.995142</td>\n",
              "      <td>1.000000</td>\n",
              "      <td>0.995241</td>\n",
              "      <td>0.043478</td>\n",
              "      <td>0.065217</td>\n",
              "      <td>82.608696</td>\n",
              "      <td>82.608696</td>\n",
              "      <td>0.065217</td>\n",
              "    </tr>\n",
              "    <tr>\n",
              "      <th>2</th>\n",
              "      <td>3</td>\n",
              "      <td>0.035714</td>\n",
              "      <td>0.992597</td>\n",
              "      <td>0.000000</td>\n",
              "      <td>1.826087</td>\n",
              "      <td>0.000000</td>\n",
              "      <td>0.000000</td>\n",
              "      <td>1.000000</td>\n",
              "      <td>0.995241</td>\n",
              "      <td>0.000000</td>\n",
              "      <td>0.065217</td>\n",
              "      <td>-100.000000</td>\n",
              "      <td>82.608696</td>\n",
              "      <td>0.065217</td>\n",
              "    </tr>\n",
              "    <tr>\n",
              "      <th>3</th>\n",
              "      <td>4</td>\n",
              "      <td>0.047619</td>\n",
              "      <td>0.989711</td>\n",
              "      <td>1.826087</td>\n",
              "      <td>1.826087</td>\n",
              "      <td>1.000000</td>\n",
              "      <td>0.989949</td>\n",
              "      <td>1.000000</td>\n",
              "      <td>0.993918</td>\n",
              "      <td>0.021739</td>\n",
              "      <td>0.086957</td>\n",
              "      <td>82.608696</td>\n",
              "      <td>82.608696</td>\n",
              "      <td>0.086957</td>\n",
              "    </tr>\n",
              "    <tr>\n",
              "      <th>4</th>\n",
              "      <td>5</td>\n",
              "      <td>0.059524</td>\n",
              "      <td>0.988692</td>\n",
              "      <td>1.826087</td>\n",
              "      <td>1.826087</td>\n",
              "      <td>1.000000</td>\n",
              "      <td>0.989205</td>\n",
              "      <td>1.000000</td>\n",
              "      <td>0.992975</td>\n",
              "      <td>0.021739</td>\n",
              "      <td>0.108696</td>\n",
              "      <td>82.608696</td>\n",
              "      <td>82.608696</td>\n",
              "      <td>0.108696</td>\n",
              "    </tr>\n",
              "    <tr>\n",
              "      <th>5</th>\n",
              "      <td>6</td>\n",
              "      <td>0.107143</td>\n",
              "      <td>0.976301</td>\n",
              "      <td>1.826087</td>\n",
              "      <td>1.826087</td>\n",
              "      <td>1.000000</td>\n",
              "      <td>0.979128</td>\n",
              "      <td>1.000000</td>\n",
              "      <td>0.986821</td>\n",
              "      <td>0.086957</td>\n",
              "      <td>0.195652</td>\n",
              "      <td>82.608696</td>\n",
              "      <td>82.608696</td>\n",
              "      <td>0.195652</td>\n",
              "    </tr>\n",
              "    <tr>\n",
              "      <th>6</th>\n",
              "      <td>7</td>\n",
              "      <td>0.166667</td>\n",
              "      <td>0.972070</td>\n",
              "      <td>1.826087</td>\n",
              "      <td>1.826087</td>\n",
              "      <td>1.000000</td>\n",
              "      <td>0.973760</td>\n",
              "      <td>1.000000</td>\n",
              "      <td>0.982156</td>\n",
              "      <td>0.108696</td>\n",
              "      <td>0.304348</td>\n",
              "      <td>82.608696</td>\n",
              "      <td>82.608696</td>\n",
              "      <td>0.304348</td>\n",
              "    </tr>\n",
              "    <tr>\n",
              "      <th>7</th>\n",
              "      <td>8</td>\n",
              "      <td>0.214286</td>\n",
              "      <td>0.963403</td>\n",
              "      <td>1.826087</td>\n",
              "      <td>1.826087</td>\n",
              "      <td>1.000000</td>\n",
              "      <td>0.965606</td>\n",
              "      <td>1.000000</td>\n",
              "      <td>0.978479</td>\n",
              "      <td>0.086957</td>\n",
              "      <td>0.391304</td>\n",
              "      <td>82.608696</td>\n",
              "      <td>82.608696</td>\n",
              "      <td>0.391304</td>\n",
              "    </tr>\n",
              "    <tr>\n",
              "      <th>8</th>\n",
              "      <td>9</td>\n",
              "      <td>0.297619</td>\n",
              "      <td>0.951131</td>\n",
              "      <td>1.826087</td>\n",
              "      <td>1.826087</td>\n",
              "      <td>1.000000</td>\n",
              "      <td>0.958513</td>\n",
              "      <td>1.000000</td>\n",
              "      <td>0.972888</td>\n",
              "      <td>0.152174</td>\n",
              "      <td>0.543478</td>\n",
              "      <td>82.608696</td>\n",
              "      <td>82.608696</td>\n",
              "      <td>0.543478</td>\n",
              "    </tr>\n",
              "    <tr>\n",
              "      <th>9</th>\n",
              "      <td>10</td>\n",
              "      <td>0.404762</td>\n",
              "      <td>0.929774</td>\n",
              "      <td>1.826087</td>\n",
              "      <td>1.826087</td>\n",
              "      <td>1.000000</td>\n",
              "      <td>0.943131</td>\n",
              "      <td>1.000000</td>\n",
              "      <td>0.965011</td>\n",
              "      <td>0.195652</td>\n",
              "      <td>0.739130</td>\n",
              "      <td>82.608696</td>\n",
              "      <td>82.608696</td>\n",
              "      <td>0.739130</td>\n",
              "    </tr>\n",
              "    <tr>\n",
              "      <th>10</th>\n",
              "      <td>11</td>\n",
              "      <td>0.500000</td>\n",
              "      <td>0.759323</td>\n",
              "      <td>1.826087</td>\n",
              "      <td>1.826087</td>\n",
              "      <td>1.000000</td>\n",
              "      <td>0.838117</td>\n",
              "      <td>1.000000</td>\n",
              "      <td>0.940841</td>\n",
              "      <td>0.173913</td>\n",
              "      <td>0.913043</td>\n",
              "      <td>82.608696</td>\n",
              "      <td>82.608696</td>\n",
              "      <td>0.913043</td>\n",
              "    </tr>\n",
              "    <tr>\n",
              "      <th>11</th>\n",
              "      <td>12</td>\n",
              "      <td>0.607143</td>\n",
              "      <td>0.192357</td>\n",
              "      <td>0.811594</td>\n",
              "      <td>1.647059</td>\n",
              "      <td>0.444444</td>\n",
              "      <td>0.482261</td>\n",
              "      <td>0.901961</td>\n",
              "      <td>0.859915</td>\n",
              "      <td>0.086957</td>\n",
              "      <td>1.000000</td>\n",
              "      <td>-18.840580</td>\n",
              "      <td>64.705882</td>\n",
              "      <td>0.868421</td>\n",
              "    </tr>\n",
              "    <tr>\n",
              "      <th>12</th>\n",
              "      <td>13</td>\n",
              "      <td>0.702381</td>\n",
              "      <td>0.103227</td>\n",
              "      <td>0.000000</td>\n",
              "      <td>1.423729</td>\n",
              "      <td>0.000000</td>\n",
              "      <td>0.130568</td>\n",
              "      <td>0.779661</td>\n",
              "      <td>0.761021</td>\n",
              "      <td>0.000000</td>\n",
              "      <td>1.000000</td>\n",
              "      <td>-100.000000</td>\n",
              "      <td>42.372881</td>\n",
              "      <td>0.657895</td>\n",
              "    </tr>\n",
              "    <tr>\n",
              "      <th>13</th>\n",
              "      <td>14</td>\n",
              "      <td>0.797619</td>\n",
              "      <td>0.050535</td>\n",
              "      <td>0.000000</td>\n",
              "      <td>1.253731</td>\n",
              "      <td>0.000000</td>\n",
              "      <td>0.067114</td>\n",
              "      <td>0.686567</td>\n",
              "      <td>0.678166</td>\n",
              "      <td>0.000000</td>\n",
              "      <td>1.000000</td>\n",
              "      <td>-100.000000</td>\n",
              "      <td>25.373134</td>\n",
              "      <td>0.447368</td>\n",
              "    </tr>\n",
              "    <tr>\n",
              "      <th>14</th>\n",
              "      <td>15</td>\n",
              "      <td>0.904762</td>\n",
              "      <td>0.029387</td>\n",
              "      <td>0.000000</td>\n",
              "      <td>1.105263</td>\n",
              "      <td>0.000000</td>\n",
              "      <td>0.038794</td>\n",
              "      <td>0.605263</td>\n",
              "      <td>0.602451</td>\n",
              "      <td>0.000000</td>\n",
              "      <td>1.000000</td>\n",
              "      <td>-100.000000</td>\n",
              "      <td>10.526316</td>\n",
              "      <td>0.210526</td>\n",
              "    </tr>\n",
              "    <tr>\n",
              "      <th>15</th>\n",
              "      <td>16</td>\n",
              "      <td>1.000000</td>\n",
              "      <td>0.010528</td>\n",
              "      <td>0.000000</td>\n",
              "      <td>1.000000</td>\n",
              "      <td>0.000000</td>\n",
              "      <td>0.017868</td>\n",
              "      <td>0.547619</td>\n",
              "      <td>0.546776</td>\n",
              "      <td>0.000000</td>\n",
              "      <td>1.000000</td>\n",
              "      <td>-100.000000</td>\n",
              "      <td>0.000000</td>\n",
              "      <td>0.000000</td>\n",
              "    </tr>\n",
              "  </tbody>\n",
              "</table>\n",
              "</div>"
            ],
            "text/plain": [
              "    group  cumulative_data_fraction  ...  cumulative_gain  kolmogorov_smirnov\n",
              "0       1                  0.011905  ...        82.608696            0.021739\n",
              "1       2                  0.035714  ...        82.608696            0.065217\n",
              "2       3                  0.035714  ...        82.608696            0.065217\n",
              "3       4                  0.047619  ...        82.608696            0.086957\n",
              "4       5                  0.059524  ...        82.608696            0.108696\n",
              "5       6                  0.107143  ...        82.608696            0.195652\n",
              "6       7                  0.166667  ...        82.608696            0.304348\n",
              "7       8                  0.214286  ...        82.608696            0.391304\n",
              "8       9                  0.297619  ...        82.608696            0.543478\n",
              "9      10                  0.404762  ...        82.608696            0.739130\n",
              "10     11                  0.500000  ...        82.608696            0.913043\n",
              "11     12                  0.607143  ...        64.705882            0.868421\n",
              "12     13                  0.702381  ...        42.372881            0.657895\n",
              "13     14                  0.797619  ...        25.373134            0.447368\n",
              "14     15                  0.904762  ...        10.526316            0.210526\n",
              "15     16                  1.000000  ...         0.000000            0.000000\n",
              "\n",
              "[16 rows x 14 columns]"
            ]
          },
          "metadata": {
            "tags": []
          }
        },
        {
          "output_type": "stream",
          "text": [
            "\n",
            "\n",
            "ModelMetricsBinomial: xgboost\n",
            "** Reported on validation data. **\n",
            "\n",
            "MSE: 0.1352525926611422\n",
            "RMSE: 0.3677670358544145\n",
            "LogLoss: 0.45461246524198584\n",
            "Mean Per-Class Error: 0.1428571428571428\n",
            "AUC: 0.8333333333333333\n",
            "AUCPR: 0.7947086878776422\n",
            "Gini: 0.6666666666666665\n",
            "\n",
            "Confusion Matrix (Act/Pred) for max f1 @ threshold = 0.479613333940506: \n"
          ],
          "name": "stdout"
        },
        {
          "output_type": "display_data",
          "data": {
            "text/html": [
              "<div>\n",
              "<style scoped>\n",
              "    .dataframe tbody tr th:only-of-type {\n",
              "        vertical-align: middle;\n",
              "    }\n",
              "\n",
              "    .dataframe tbody tr th {\n",
              "        vertical-align: top;\n",
              "    }\n",
              "\n",
              "    .dataframe thead th {\n",
              "        text-align: right;\n",
              "    }\n",
              "</style>\n",
              "<table border=\"1\" class=\"dataframe\">\n",
              "  <thead>\n",
              "    <tr style=\"text-align: right;\">\n",
              "      <th></th>\n",
              "      <th></th>\n",
              "      <th>alive</th>\n",
              "      <th>death</th>\n",
              "      <th>Error</th>\n",
              "      <th>Rate</th>\n",
              "    </tr>\n",
              "  </thead>\n",
              "  <tbody>\n",
              "    <tr>\n",
              "      <th>0</th>\n",
              "      <td>alive</td>\n",
              "      <td>10.0</td>\n",
              "      <td>4.0</td>\n",
              "      <td>0.2857</td>\n",
              "      <td>(4.0/14.0)</td>\n",
              "    </tr>\n",
              "    <tr>\n",
              "      <th>1</th>\n",
              "      <td>death</td>\n",
              "      <td>0.0</td>\n",
              "      <td>15.0</td>\n",
              "      <td>0.0</td>\n",
              "      <td>(0.0/15.0)</td>\n",
              "    </tr>\n",
              "    <tr>\n",
              "      <th>2</th>\n",
              "      <td>Total</td>\n",
              "      <td>10.0</td>\n",
              "      <td>19.0</td>\n",
              "      <td>0.1379</td>\n",
              "      <td>(4.0/29.0)</td>\n",
              "    </tr>\n",
              "  </tbody>\n",
              "</table>\n",
              "</div>"
            ],
            "text/plain": [
              "          alive  death   Error         Rate\n",
              "0  alive   10.0    4.0  0.2857   (4.0/14.0)\n",
              "1  death    0.0   15.0     0.0   (0.0/15.0)\n",
              "2  Total   10.0   19.0  0.1379   (4.0/29.0)"
            ]
          },
          "metadata": {
            "tags": []
          }
        },
        {
          "output_type": "stream",
          "text": [
            "\n",
            "Maximum Metrics: Maximum metrics at their respective thresholds\n"
          ],
          "name": "stdout"
        },
        {
          "output_type": "display_data",
          "data": {
            "text/html": [
              "<div>\n",
              "<style scoped>\n",
              "    .dataframe tbody tr th:only-of-type {\n",
              "        vertical-align: middle;\n",
              "    }\n",
              "\n",
              "    .dataframe tbody tr th {\n",
              "        vertical-align: top;\n",
              "    }\n",
              "\n",
              "    .dataframe thead th {\n",
              "        text-align: right;\n",
              "    }\n",
              "</style>\n",
              "<table border=\"1\" class=\"dataframe\">\n",
              "  <thead>\n",
              "    <tr style=\"text-align: right;\">\n",
              "      <th></th>\n",
              "      <th>metric</th>\n",
              "      <th>threshold</th>\n",
              "      <th>value</th>\n",
              "      <th>idx</th>\n",
              "    </tr>\n",
              "  </thead>\n",
              "  <tbody>\n",
              "    <tr>\n",
              "      <th>0</th>\n",
              "      <td>max f1</td>\n",
              "      <td>0.479613</td>\n",
              "      <td>0.882353</td>\n",
              "      <td>15.0</td>\n",
              "    </tr>\n",
              "    <tr>\n",
              "      <th>1</th>\n",
              "      <td>max f2</td>\n",
              "      <td>0.479613</td>\n",
              "      <td>0.949367</td>\n",
              "      <td>15.0</td>\n",
              "    </tr>\n",
              "    <tr>\n",
              "      <th>2</th>\n",
              "      <td>max f0point5</td>\n",
              "      <td>0.479613</td>\n",
              "      <td>0.824176</td>\n",
              "      <td>15.0</td>\n",
              "    </tr>\n",
              "    <tr>\n",
              "      <th>3</th>\n",
              "      <td>max accuracy</td>\n",
              "      <td>0.479613</td>\n",
              "      <td>0.862069</td>\n",
              "      <td>15.0</td>\n",
              "    </tr>\n",
              "    <tr>\n",
              "      <th>4</th>\n",
              "      <td>max precision</td>\n",
              "      <td>0.995439</td>\n",
              "      <td>1.000000</td>\n",
              "      <td>0.0</td>\n",
              "    </tr>\n",
              "    <tr>\n",
              "      <th>5</th>\n",
              "      <td>max recall</td>\n",
              "      <td>0.479613</td>\n",
              "      <td>1.000000</td>\n",
              "      <td>15.0</td>\n",
              "    </tr>\n",
              "    <tr>\n",
              "      <th>6</th>\n",
              "      <td>max specificity</td>\n",
              "      <td>0.995439</td>\n",
              "      <td>1.000000</td>\n",
              "      <td>0.0</td>\n",
              "    </tr>\n",
              "    <tr>\n",
              "      <th>7</th>\n",
              "      <td>max absolute_mcc</td>\n",
              "      <td>0.479613</td>\n",
              "      <td>0.750939</td>\n",
              "      <td>15.0</td>\n",
              "    </tr>\n",
              "    <tr>\n",
              "      <th>8</th>\n",
              "      <td>max min_per_class_accuracy</td>\n",
              "      <td>0.712793</td>\n",
              "      <td>0.785714</td>\n",
              "      <td>12.0</td>\n",
              "    </tr>\n",
              "    <tr>\n",
              "      <th>9</th>\n",
              "      <td>max mean_per_class_accuracy</td>\n",
              "      <td>0.479613</td>\n",
              "      <td>0.857143</td>\n",
              "      <td>15.0</td>\n",
              "    </tr>\n",
              "    <tr>\n",
              "      <th>10</th>\n",
              "      <td>max tns</td>\n",
              "      <td>0.995439</td>\n",
              "      <td>14.000000</td>\n",
              "      <td>0.0</td>\n",
              "    </tr>\n",
              "    <tr>\n",
              "      <th>11</th>\n",
              "      <td>max fns</td>\n",
              "      <td>0.995439</td>\n",
              "      <td>14.000000</td>\n",
              "      <td>0.0</td>\n",
              "    </tr>\n",
              "    <tr>\n",
              "      <th>12</th>\n",
              "      <td>max fps</td>\n",
              "      <td>0.018054</td>\n",
              "      <td>14.000000</td>\n",
              "      <td>25.0</td>\n",
              "    </tr>\n",
              "    <tr>\n",
              "      <th>13</th>\n",
              "      <td>max tps</td>\n",
              "      <td>0.479613</td>\n",
              "      <td>15.000000</td>\n",
              "      <td>15.0</td>\n",
              "    </tr>\n",
              "    <tr>\n",
              "      <th>14</th>\n",
              "      <td>max tnr</td>\n",
              "      <td>0.995439</td>\n",
              "      <td>1.000000</td>\n",
              "      <td>0.0</td>\n",
              "    </tr>\n",
              "    <tr>\n",
              "      <th>15</th>\n",
              "      <td>max fnr</td>\n",
              "      <td>0.995439</td>\n",
              "      <td>0.933333</td>\n",
              "      <td>0.0</td>\n",
              "    </tr>\n",
              "    <tr>\n",
              "      <th>16</th>\n",
              "      <td>max fpr</td>\n",
              "      <td>0.018054</td>\n",
              "      <td>1.000000</td>\n",
              "      <td>25.0</td>\n",
              "    </tr>\n",
              "    <tr>\n",
              "      <th>17</th>\n",
              "      <td>max tpr</td>\n",
              "      <td>0.479613</td>\n",
              "      <td>1.000000</td>\n",
              "      <td>15.0</td>\n",
              "    </tr>\n",
              "  </tbody>\n",
              "</table>\n",
              "</div>"
            ],
            "text/plain": [
              "                         metric  threshold      value   idx\n",
              "0                        max f1   0.479613   0.882353  15.0\n",
              "1                        max f2   0.479613   0.949367  15.0\n",
              "2                  max f0point5   0.479613   0.824176  15.0\n",
              "3                  max accuracy   0.479613   0.862069  15.0\n",
              "4                 max precision   0.995439   1.000000   0.0\n",
              "5                    max recall   0.479613   1.000000  15.0\n",
              "6               max specificity   0.995439   1.000000   0.0\n",
              "7              max absolute_mcc   0.479613   0.750939  15.0\n",
              "8    max min_per_class_accuracy   0.712793   0.785714  12.0\n",
              "9   max mean_per_class_accuracy   0.479613   0.857143  15.0\n",
              "10                      max tns   0.995439  14.000000   0.0\n",
              "11                      max fns   0.995439  14.000000   0.0\n",
              "12                      max fps   0.018054  14.000000  25.0\n",
              "13                      max tps   0.479613  15.000000  15.0\n",
              "14                      max tnr   0.995439   1.000000   0.0\n",
              "15                      max fnr   0.995439   0.933333   0.0\n",
              "16                      max fpr   0.018054   1.000000  25.0\n",
              "17                      max tpr   0.479613   1.000000  15.0"
            ]
          },
          "metadata": {
            "tags": []
          }
        },
        {
          "output_type": "stream",
          "text": [
            "\n",
            "Gains/Lift Table: Avg response rate: 51.72 %, avg score: 57.53 %\n"
          ],
          "name": "stdout"
        },
        {
          "output_type": "display_data",
          "data": {
            "text/html": [
              "<div>\n",
              "<style scoped>\n",
              "    .dataframe tbody tr th:only-of-type {\n",
              "        vertical-align: middle;\n",
              "    }\n",
              "\n",
              "    .dataframe tbody tr th {\n",
              "        vertical-align: top;\n",
              "    }\n",
              "\n",
              "    .dataframe thead th {\n",
              "        text-align: right;\n",
              "    }\n",
              "</style>\n",
              "<table border=\"1\" class=\"dataframe\">\n",
              "  <thead>\n",
              "    <tr style=\"text-align: right;\">\n",
              "      <th></th>\n",
              "      <th>group</th>\n",
              "      <th>cumulative_data_fraction</th>\n",
              "      <th>lower_threshold</th>\n",
              "      <th>lift</th>\n",
              "      <th>cumulative_lift</th>\n",
              "      <th>response_rate</th>\n",
              "      <th>score</th>\n",
              "      <th>cumulative_response_rate</th>\n",
              "      <th>cumulative_score</th>\n",
              "      <th>capture_rate</th>\n",
              "      <th>cumulative_capture_rate</th>\n",
              "      <th>gain</th>\n",
              "      <th>cumulative_gain</th>\n",
              "      <th>kolmogorov_smirnov</th>\n",
              "    </tr>\n",
              "  </thead>\n",
              "  <tbody>\n",
              "    <tr>\n",
              "      <th>0</th>\n",
              "      <td>1</td>\n",
              "      <td>0.034483</td>\n",
              "      <td>0.994658</td>\n",
              "      <td>1.933333</td>\n",
              "      <td>1.933333</td>\n",
              "      <td>1.000000</td>\n",
              "      <td>0.995439</td>\n",
              "      <td>1.000000</td>\n",
              "      <td>0.995439</td>\n",
              "      <td>0.066667</td>\n",
              "      <td>0.066667</td>\n",
              "      <td>93.333333</td>\n",
              "      <td>93.333333</td>\n",
              "      <td>0.066667</td>\n",
              "    </tr>\n",
              "    <tr>\n",
              "      <th>1</th>\n",
              "      <td>2</td>\n",
              "      <td>0.034483</td>\n",
              "      <td>0.993876</td>\n",
              "      <td>0.000000</td>\n",
              "      <td>1.933333</td>\n",
              "      <td>0.000000</td>\n",
              "      <td>0.000000</td>\n",
              "      <td>1.000000</td>\n",
              "      <td>0.995439</td>\n",
              "      <td>0.000000</td>\n",
              "      <td>0.066667</td>\n",
              "      <td>-100.000000</td>\n",
              "      <td>93.333333</td>\n",
              "      <td>0.066667</td>\n",
              "    </tr>\n",
              "    <tr>\n",
              "      <th>2</th>\n",
              "      <td>3</td>\n",
              "      <td>0.034483</td>\n",
              "      <td>0.993094</td>\n",
              "      <td>0.000000</td>\n",
              "      <td>1.933333</td>\n",
              "      <td>0.000000</td>\n",
              "      <td>0.000000</td>\n",
              "      <td>1.000000</td>\n",
              "      <td>0.995439</td>\n",
              "      <td>0.000000</td>\n",
              "      <td>0.066667</td>\n",
              "      <td>-100.000000</td>\n",
              "      <td>93.333333</td>\n",
              "      <td>0.066667</td>\n",
              "    </tr>\n",
              "    <tr>\n",
              "      <th>3</th>\n",
              "      <td>4</td>\n",
              "      <td>0.068966</td>\n",
              "      <td>0.988501</td>\n",
              "      <td>1.933333</td>\n",
              "      <td>1.933333</td>\n",
              "      <td>1.000000</td>\n",
              "      <td>0.992648</td>\n",
              "      <td>1.000000</td>\n",
              "      <td>0.994043</td>\n",
              "      <td>0.066667</td>\n",
              "      <td>0.133333</td>\n",
              "      <td>93.333333</td>\n",
              "      <td>93.333333</td>\n",
              "      <td>0.133333</td>\n",
              "    </tr>\n",
              "    <tr>\n",
              "      <th>4</th>\n",
              "      <td>5</td>\n",
              "      <td>0.068966</td>\n",
              "      <td>0.978825</td>\n",
              "      <td>0.000000</td>\n",
              "      <td>1.933333</td>\n",
              "      <td>0.000000</td>\n",
              "      <td>0.000000</td>\n",
              "      <td>1.000000</td>\n",
              "      <td>0.994043</td>\n",
              "      <td>0.000000</td>\n",
              "      <td>0.133333</td>\n",
              "      <td>-100.000000</td>\n",
              "      <td>93.333333</td>\n",
              "      <td>0.133333</td>\n",
              "    </tr>\n",
              "    <tr>\n",
              "      <th>5</th>\n",
              "      <td>6</td>\n",
              "      <td>0.103448</td>\n",
              "      <td>0.950494</td>\n",
              "      <td>1.933333</td>\n",
              "      <td>1.933333</td>\n",
              "      <td>1.000000</td>\n",
              "      <td>0.958090</td>\n",
              "      <td>1.000000</td>\n",
              "      <td>0.982059</td>\n",
              "      <td>0.066667</td>\n",
              "      <td>0.200000</td>\n",
              "      <td>93.333333</td>\n",
              "      <td>93.333333</td>\n",
              "      <td>0.200000</td>\n",
              "    </tr>\n",
              "    <tr>\n",
              "      <th>6</th>\n",
              "      <td>7</td>\n",
              "      <td>0.172414</td>\n",
              "      <td>0.947517</td>\n",
              "      <td>0.000000</td>\n",
              "      <td>1.160000</td>\n",
              "      <td>0.000000</td>\n",
              "      <td>0.948595</td>\n",
              "      <td>0.600000</td>\n",
              "      <td>0.968673</td>\n",
              "      <td>0.000000</td>\n",
              "      <td>0.200000</td>\n",
              "      <td>-100.000000</td>\n",
              "      <td>16.000000</td>\n",
              "      <td>0.057143</td>\n",
              "    </tr>\n",
              "    <tr>\n",
              "      <th>7</th>\n",
              "      <td>8</td>\n",
              "      <td>0.206897</td>\n",
              "      <td>0.940497</td>\n",
              "      <td>1.933333</td>\n",
              "      <td>1.288889</td>\n",
              "      <td>1.000000</td>\n",
              "      <td>0.943206</td>\n",
              "      <td>0.666667</td>\n",
              "      <td>0.964429</td>\n",
              "      <td>0.066667</td>\n",
              "      <td>0.266667</td>\n",
              "      <td>93.333333</td>\n",
              "      <td>28.888889</td>\n",
              "      <td>0.123810</td>\n",
              "    </tr>\n",
              "    <tr>\n",
              "      <th>8</th>\n",
              "      <td>9</td>\n",
              "      <td>0.310345</td>\n",
              "      <td>0.893399</td>\n",
              "      <td>1.933333</td>\n",
              "      <td>1.503704</td>\n",
              "      <td>1.000000</td>\n",
              "      <td>0.932671</td>\n",
              "      <td>0.777778</td>\n",
              "      <td>0.953843</td>\n",
              "      <td>0.200000</td>\n",
              "      <td>0.466667</td>\n",
              "      <td>93.333333</td>\n",
              "      <td>50.370370</td>\n",
              "      <td>0.323810</td>\n",
              "    </tr>\n",
              "    <tr>\n",
              "      <th>9</th>\n",
              "      <td>10</td>\n",
              "      <td>0.413793</td>\n",
              "      <td>0.821226</td>\n",
              "      <td>1.288889</td>\n",
              "      <td>1.450000</td>\n",
              "      <td>0.666667</td>\n",
              "      <td>0.838240</td>\n",
              "      <td>0.750000</td>\n",
              "      <td>0.924942</td>\n",
              "      <td>0.133333</td>\n",
              "      <td>0.600000</td>\n",
              "      <td>28.888889</td>\n",
              "      <td>45.000000</td>\n",
              "      <td>0.385714</td>\n",
              "    </tr>\n",
              "    <tr>\n",
              "      <th>10</th>\n",
              "      <td>11</td>\n",
              "      <td>0.517241</td>\n",
              "      <td>0.712793</td>\n",
              "      <td>1.933333</td>\n",
              "      <td>1.546667</td>\n",
              "      <td>1.000000</td>\n",
              "      <td>0.747466</td>\n",
              "      <td>0.800000</td>\n",
              "      <td>0.889447</td>\n",
              "      <td>0.200000</td>\n",
              "      <td>0.800000</td>\n",
              "      <td>93.333333</td>\n",
              "      <td>54.666667</td>\n",
              "      <td>0.585714</td>\n",
              "    </tr>\n",
              "    <tr>\n",
              "      <th>11</th>\n",
              "      <td>12</td>\n",
              "      <td>0.620690</td>\n",
              "      <td>0.617026</td>\n",
              "      <td>1.288889</td>\n",
              "      <td>1.503704</td>\n",
              "      <td>0.666667</td>\n",
              "      <td>0.619810</td>\n",
              "      <td>0.777778</td>\n",
              "      <td>0.844508</td>\n",
              "      <td>0.133333</td>\n",
              "      <td>0.933333</td>\n",
              "      <td>28.888889</td>\n",
              "      <td>50.370370</td>\n",
              "      <td>0.647619</td>\n",
              "    </tr>\n",
              "    <tr>\n",
              "      <th>12</th>\n",
              "      <td>13</td>\n",
              "      <td>0.689655</td>\n",
              "      <td>0.210355</td>\n",
              "      <td>0.966667</td>\n",
              "      <td>1.450000</td>\n",
              "      <td>0.500000</td>\n",
              "      <td>0.404079</td>\n",
              "      <td>0.750000</td>\n",
              "      <td>0.800465</td>\n",
              "      <td>0.066667</td>\n",
              "      <td>1.000000</td>\n",
              "      <td>-3.333333</td>\n",
              "      <td>45.000000</td>\n",
              "      <td>0.642857</td>\n",
              "    </tr>\n",
              "    <tr>\n",
              "      <th>13</th>\n",
              "      <td>14</td>\n",
              "      <td>0.793103</td>\n",
              "      <td>0.118650</td>\n",
              "      <td>0.000000</td>\n",
              "      <td>1.260870</td>\n",
              "      <td>0.000000</td>\n",
              "      <td>0.123336</td>\n",
              "      <td>0.652174</td>\n",
              "      <td>0.712143</td>\n",
              "      <td>0.000000</td>\n",
              "      <td>1.000000</td>\n",
              "      <td>-100.000000</td>\n",
              "      <td>26.086957</td>\n",
              "      <td>0.428571</td>\n",
              "    </tr>\n",
              "    <tr>\n",
              "      <th>14</th>\n",
              "      <td>15</td>\n",
              "      <td>0.896552</td>\n",
              "      <td>0.029950</td>\n",
              "      <td>0.000000</td>\n",
              "      <td>1.115385</td>\n",
              "      <td>0.000000</td>\n",
              "      <td>0.081387</td>\n",
              "      <td>0.576923</td>\n",
              "      <td>0.639364</td>\n",
              "      <td>0.000000</td>\n",
              "      <td>1.000000</td>\n",
              "      <td>-100.000000</td>\n",
              "      <td>11.538462</td>\n",
              "      <td>0.214286</td>\n",
              "    </tr>\n",
              "    <tr>\n",
              "      <th>15</th>\n",
              "      <td>16</td>\n",
              "      <td>1.000000</td>\n",
              "      <td>0.018054</td>\n",
              "      <td>0.000000</td>\n",
              "      <td>1.000000</td>\n",
              "      <td>0.000000</td>\n",
              "      <td>0.020525</td>\n",
              "      <td>0.517241</td>\n",
              "      <td>0.575346</td>\n",
              "      <td>0.000000</td>\n",
              "      <td>1.000000</td>\n",
              "      <td>-100.000000</td>\n",
              "      <td>0.000000</td>\n",
              "      <td>0.000000</td>\n",
              "    </tr>\n",
              "  </tbody>\n",
              "</table>\n",
              "</div>"
            ],
            "text/plain": [
              "    group  cumulative_data_fraction  ...  cumulative_gain  kolmogorov_smirnov\n",
              "0       1                  0.034483  ...        93.333333            0.066667\n",
              "1       2                  0.034483  ...        93.333333            0.066667\n",
              "2       3                  0.034483  ...        93.333333            0.066667\n",
              "3       4                  0.068966  ...        93.333333            0.133333\n",
              "4       5                  0.068966  ...        93.333333            0.133333\n",
              "5       6                  0.103448  ...        93.333333            0.200000\n",
              "6       7                  0.172414  ...        16.000000            0.057143\n",
              "7       8                  0.206897  ...        28.888889            0.123810\n",
              "8       9                  0.310345  ...        50.370370            0.323810\n",
              "9      10                  0.413793  ...        45.000000            0.385714\n",
              "10     11                  0.517241  ...        54.666667            0.585714\n",
              "11     12                  0.620690  ...        50.370370            0.647619\n",
              "12     13                  0.689655  ...        45.000000            0.642857\n",
              "13     14                  0.793103  ...        26.086957            0.428571\n",
              "14     15                  0.896552  ...        11.538462            0.214286\n",
              "15     16                  1.000000  ...         0.000000            0.000000\n",
              "\n",
              "[16 rows x 14 columns]"
            ]
          },
          "metadata": {
            "tags": []
          }
        },
        {
          "output_type": "stream",
          "text": [
            "\n",
            "\n",
            "Scoring History: \n"
          ],
          "name": "stdout"
        },
        {
          "output_type": "display_data",
          "data": {
            "text/html": [
              "<div>\n",
              "<style scoped>\n",
              "    .dataframe tbody tr th:only-of-type {\n",
              "        vertical-align: middle;\n",
              "    }\n",
              "\n",
              "    .dataframe tbody tr th {\n",
              "        vertical-align: top;\n",
              "    }\n",
              "\n",
              "    .dataframe thead th {\n",
              "        text-align: right;\n",
              "    }\n",
              "</style>\n",
              "<table border=\"1\" class=\"dataframe\">\n",
              "  <thead>\n",
              "    <tr style=\"text-align: right;\">\n",
              "      <th></th>\n",
              "      <th></th>\n",
              "      <th>timestamp</th>\n",
              "      <th>duration</th>\n",
              "      <th>number_of_trees</th>\n",
              "      <th>training_rmse</th>\n",
              "      <th>training_logloss</th>\n",
              "      <th>training_auc</th>\n",
              "      <th>training_pr_auc</th>\n",
              "      <th>training_lift</th>\n",
              "      <th>training_classification_error</th>\n",
              "      <th>validation_rmse</th>\n",
              "      <th>validation_logloss</th>\n",
              "      <th>validation_auc</th>\n",
              "      <th>validation_pr_auc</th>\n",
              "      <th>validation_lift</th>\n",
              "      <th>validation_classification_error</th>\n",
              "    </tr>\n",
              "  </thead>\n",
              "  <tbody>\n",
              "    <tr>\n",
              "      <th>0</th>\n",
              "      <td></td>\n",
              "      <td>2020-12-08 18:47:23</td>\n",
              "      <td>0.225 sec</td>\n",
              "      <td>0.0</td>\n",
              "      <td>0.500000</td>\n",
              "      <td>0.693147</td>\n",
              "      <td>0.500000</td>\n",
              "      <td>0.547619</td>\n",
              "      <td>1.000000</td>\n",
              "      <td>0.452381</td>\n",
              "      <td>0.500000</td>\n",
              "      <td>0.693147</td>\n",
              "      <td>0.500000</td>\n",
              "      <td>0.517241</td>\n",
              "      <td>1.000000</td>\n",
              "      <td>0.482759</td>\n",
              "    </tr>\n",
              "    <tr>\n",
              "      <th>1</th>\n",
              "      <td></td>\n",
              "      <td>2020-12-08 18:47:23</td>\n",
              "      <td>0.523 sec</td>\n",
              "      <td>1.0</td>\n",
              "      <td>0.435589</td>\n",
              "      <td>0.571179</td>\n",
              "      <td>0.916476</td>\n",
              "      <td>0.916969</td>\n",
              "      <td>1.826087</td>\n",
              "      <td>0.130952</td>\n",
              "      <td>0.437801</td>\n",
              "      <td>0.575176</td>\n",
              "      <td>0.907143</td>\n",
              "      <td>0.889835</td>\n",
              "      <td>1.933333</td>\n",
              "      <td>0.103448</td>\n",
              "    </tr>\n",
              "    <tr>\n",
              "      <th>2</th>\n",
              "      <td></td>\n",
              "      <td>2020-12-08 18:47:23</td>\n",
              "      <td>0.587 sec</td>\n",
              "      <td>2.0</td>\n",
              "      <td>0.385414</td>\n",
              "      <td>0.482264</td>\n",
              "      <td>0.963959</td>\n",
              "      <td>0.971446</td>\n",
              "      <td>1.826087</td>\n",
              "      <td>0.107143</td>\n",
              "      <td>0.432591</td>\n",
              "      <td>0.563501</td>\n",
              "      <td>0.845238</td>\n",
              "      <td>0.739849</td>\n",
              "      <td>1.160000</td>\n",
              "      <td>0.137931</td>\n",
              "    </tr>\n",
              "    <tr>\n",
              "      <th>3</th>\n",
              "      <td></td>\n",
              "      <td>2020-12-08 18:47:23</td>\n",
              "      <td>0.629 sec</td>\n",
              "      <td>3.0</td>\n",
              "      <td>0.343067</td>\n",
              "      <td>0.409914</td>\n",
              "      <td>0.969680</td>\n",
              "      <td>0.977621</td>\n",
              "      <td>1.826087</td>\n",
              "      <td>0.071429</td>\n",
              "      <td>0.411341</td>\n",
              "      <td>0.524594</td>\n",
              "      <td>0.842857</td>\n",
              "      <td>0.741206</td>\n",
              "      <td>1.160000</td>\n",
              "      <td>0.103448</td>\n",
              "    </tr>\n",
              "    <tr>\n",
              "      <th>4</th>\n",
              "      <td></td>\n",
              "      <td>2020-12-08 18:47:23</td>\n",
              "      <td>0.683 sec</td>\n",
              "      <td>4.0</td>\n",
              "      <td>0.311040</td>\n",
              "      <td>0.356214</td>\n",
              "      <td>0.979977</td>\n",
              "      <td>0.984977</td>\n",
              "      <td>1.826087</td>\n",
              "      <td>0.071429</td>\n",
              "      <td>0.404123</td>\n",
              "      <td>0.511237</td>\n",
              "      <td>0.833333</td>\n",
              "      <td>0.701032</td>\n",
              "      <td>0.000000</td>\n",
              "      <td>0.103448</td>\n",
              "    </tr>\n",
              "    <tr>\n",
              "      <th>5</th>\n",
              "      <td></td>\n",
              "      <td>2020-12-08 18:47:23</td>\n",
              "      <td>0.750 sec</td>\n",
              "      <td>5.0</td>\n",
              "      <td>0.289920</td>\n",
              "      <td>0.318781</td>\n",
              "      <td>0.978833</td>\n",
              "      <td>0.983602</td>\n",
              "      <td>1.826087</td>\n",
              "      <td>0.071429</td>\n",
              "      <td>0.390257</td>\n",
              "      <td>0.487077</td>\n",
              "      <td>0.833333</td>\n",
              "      <td>0.701032</td>\n",
              "      <td>0.000000</td>\n",
              "      <td>0.103448</td>\n",
              "    </tr>\n",
              "    <tr>\n",
              "      <th>6</th>\n",
              "      <td></td>\n",
              "      <td>2020-12-08 18:47:23</td>\n",
              "      <td>0.815 sec</td>\n",
              "      <td>6.0</td>\n",
              "      <td>0.271708</td>\n",
              "      <td>0.287017</td>\n",
              "      <td>0.982838</td>\n",
              "      <td>0.986580</td>\n",
              "      <td>1.826087</td>\n",
              "      <td>0.059524</td>\n",
              "      <td>0.387919</td>\n",
              "      <td>0.485814</td>\n",
              "      <td>0.823810</td>\n",
              "      <td>0.693803</td>\n",
              "      <td>0.000000</td>\n",
              "      <td>0.137931</td>\n",
              "    </tr>\n",
              "    <tr>\n",
              "      <th>7</th>\n",
              "      <td></td>\n",
              "      <td>2020-12-08 18:47:23</td>\n",
              "      <td>0.881 sec</td>\n",
              "      <td>7.0</td>\n",
              "      <td>0.261601</td>\n",
              "      <td>0.268019</td>\n",
              "      <td>0.985698</td>\n",
              "      <td>0.988904</td>\n",
              "      <td>1.826087</td>\n",
              "      <td>0.059524</td>\n",
              "      <td>0.377993</td>\n",
              "      <td>0.465377</td>\n",
              "      <td>0.861905</td>\n",
              "      <td>0.823204</td>\n",
              "      <td>1.933333</td>\n",
              "      <td>0.103448</td>\n",
              "    </tr>\n",
              "    <tr>\n",
              "      <th>8</th>\n",
              "      <td></td>\n",
              "      <td>2020-12-08 18:47:23</td>\n",
              "      <td>0.926 sec</td>\n",
              "      <td>8.0</td>\n",
              "      <td>0.249866</td>\n",
              "      <td>0.247363</td>\n",
              "      <td>0.987414</td>\n",
              "      <td>0.990416</td>\n",
              "      <td>1.826087</td>\n",
              "      <td>0.047619</td>\n",
              "      <td>0.370021</td>\n",
              "      <td>0.456082</td>\n",
              "      <td>0.866667</td>\n",
              "      <td>0.823267</td>\n",
              "      <td>1.933333</td>\n",
              "      <td>0.137931</td>\n",
              "    </tr>\n",
              "    <tr>\n",
              "      <th>9</th>\n",
              "      <td></td>\n",
              "      <td>2020-12-08 18:47:23</td>\n",
              "      <td>0.970 sec</td>\n",
              "      <td>9.0</td>\n",
              "      <td>0.241628</td>\n",
              "      <td>0.231920</td>\n",
              "      <td>0.987414</td>\n",
              "      <td>0.990416</td>\n",
              "      <td>1.826087</td>\n",
              "      <td>0.047619</td>\n",
              "      <td>0.369796</td>\n",
              "      <td>0.461760</td>\n",
              "      <td>0.871429</td>\n",
              "      <td>0.826253</td>\n",
              "      <td>1.933333</td>\n",
              "      <td>0.103448</td>\n",
              "    </tr>\n",
              "    <tr>\n",
              "      <th>10</th>\n",
              "      <td></td>\n",
              "      <td>2020-12-08 18:47:23</td>\n",
              "      <td>1.035 sec</td>\n",
              "      <td>10.0</td>\n",
              "      <td>0.225514</td>\n",
              "      <td>0.211018</td>\n",
              "      <td>0.991991</td>\n",
              "      <td>0.993364</td>\n",
              "      <td>1.826087</td>\n",
              "      <td>0.035714</td>\n",
              "      <td>0.367785</td>\n",
              "      <td>0.463752</td>\n",
              "      <td>0.847619</td>\n",
              "      <td>0.784027</td>\n",
              "      <td>1.933333</td>\n",
              "      <td>0.103448</td>\n",
              "    </tr>\n",
              "    <tr>\n",
              "      <th>11</th>\n",
              "      <td></td>\n",
              "      <td>2020-12-08 18:47:23</td>\n",
              "      <td>1.086 sec</td>\n",
              "      <td>11.0</td>\n",
              "      <td>0.218185</td>\n",
              "      <td>0.200808</td>\n",
              "      <td>0.993135</td>\n",
              "      <td>0.994352</td>\n",
              "      <td>1.826087</td>\n",
              "      <td>0.035714</td>\n",
              "      <td>0.367613</td>\n",
              "      <td>0.470993</td>\n",
              "      <td>0.838095</td>\n",
              "      <td>0.745669</td>\n",
              "      <td>1.933333</td>\n",
              "      <td>0.103448</td>\n",
              "    </tr>\n",
              "    <tr>\n",
              "      <th>12</th>\n",
              "      <td></td>\n",
              "      <td>2020-12-08 18:47:23</td>\n",
              "      <td>1.127 sec</td>\n",
              "      <td>12.0</td>\n",
              "      <td>0.209296</td>\n",
              "      <td>0.189269</td>\n",
              "      <td>0.995423</td>\n",
              "      <td>0.996266</td>\n",
              "      <td>1.826087</td>\n",
              "      <td>0.023810</td>\n",
              "      <td>0.363026</td>\n",
              "      <td>0.456043</td>\n",
              "      <td>0.847619</td>\n",
              "      <td>0.784027</td>\n",
              "      <td>1.933333</td>\n",
              "      <td>0.103448</td>\n",
              "    </tr>\n",
              "    <tr>\n",
              "      <th>13</th>\n",
              "      <td></td>\n",
              "      <td>2020-12-08 18:47:23</td>\n",
              "      <td>1.172 sec</td>\n",
              "      <td>13.0</td>\n",
              "      <td>0.203949</td>\n",
              "      <td>0.180902</td>\n",
              "      <td>0.995423</td>\n",
              "      <td>0.996266</td>\n",
              "      <td>1.826087</td>\n",
              "      <td>0.023810</td>\n",
              "      <td>0.361674</td>\n",
              "      <td>0.456954</td>\n",
              "      <td>0.847619</td>\n",
              "      <td>0.784027</td>\n",
              "      <td>1.933333</td>\n",
              "      <td>0.103448</td>\n",
              "    </tr>\n",
              "    <tr>\n",
              "      <th>14</th>\n",
              "      <td></td>\n",
              "      <td>2020-12-08 18:47:24</td>\n",
              "      <td>1.226 sec</td>\n",
              "      <td>14.0</td>\n",
              "      <td>0.202328</td>\n",
              "      <td>0.176703</td>\n",
              "      <td>0.994851</td>\n",
              "      <td>0.995617</td>\n",
              "      <td>1.826087</td>\n",
              "      <td>0.023810</td>\n",
              "      <td>0.363871</td>\n",
              "      <td>0.462897</td>\n",
              "      <td>0.847619</td>\n",
              "      <td>0.784027</td>\n",
              "      <td>1.933333</td>\n",
              "      <td>0.103448</td>\n",
              "    </tr>\n",
              "    <tr>\n",
              "      <th>15</th>\n",
              "      <td></td>\n",
              "      <td>2020-12-08 18:47:24</td>\n",
              "      <td>1.258 sec</td>\n",
              "      <td>15.0</td>\n",
              "      <td>0.193910</td>\n",
              "      <td>0.168556</td>\n",
              "      <td>0.997140</td>\n",
              "      <td>0.997555</td>\n",
              "      <td>1.826087</td>\n",
              "      <td>0.011905</td>\n",
              "      <td>0.359702</td>\n",
              "      <td>0.451391</td>\n",
              "      <td>0.852381</td>\n",
              "      <td>0.788434</td>\n",
              "      <td>1.933333</td>\n",
              "      <td>0.103448</td>\n",
              "    </tr>\n",
              "    <tr>\n",
              "      <th>16</th>\n",
              "      <td></td>\n",
              "      <td>2020-12-08 18:47:24</td>\n",
              "      <td>1.286 sec</td>\n",
              "      <td>16.0</td>\n",
              "      <td>0.189115</td>\n",
              "      <td>0.163362</td>\n",
              "      <td>0.997140</td>\n",
              "      <td>0.997555</td>\n",
              "      <td>1.826087</td>\n",
              "      <td>0.011905</td>\n",
              "      <td>0.358293</td>\n",
              "      <td>0.446231</td>\n",
              "      <td>0.847619</td>\n",
              "      <td>0.784027</td>\n",
              "      <td>1.933333</td>\n",
              "      <td>0.103448</td>\n",
              "    </tr>\n",
              "    <tr>\n",
              "      <th>17</th>\n",
              "      <td></td>\n",
              "      <td>2020-12-08 18:47:24</td>\n",
              "      <td>1.357 sec</td>\n",
              "      <td>17.0</td>\n",
              "      <td>0.182876</td>\n",
              "      <td>0.155973</td>\n",
              "      <td>0.997140</td>\n",
              "      <td>0.997619</td>\n",
              "      <td>1.826087</td>\n",
              "      <td>0.023810</td>\n",
              "      <td>0.347958</td>\n",
              "      <td>0.421772</td>\n",
              "      <td>0.852381</td>\n",
              "      <td>0.788434</td>\n",
              "      <td>1.933333</td>\n",
              "      <td>0.103448</td>\n",
              "    </tr>\n",
              "    <tr>\n",
              "      <th>18</th>\n",
              "      <td></td>\n",
              "      <td>2020-12-08 18:47:24</td>\n",
              "      <td>1.383 sec</td>\n",
              "      <td>18.0</td>\n",
              "      <td>0.180319</td>\n",
              "      <td>0.152364</td>\n",
              "      <td>0.997712</td>\n",
              "      <td>0.998066</td>\n",
              "      <td>1.826087</td>\n",
              "      <td>0.011905</td>\n",
              "      <td>0.350246</td>\n",
              "      <td>0.428298</td>\n",
              "      <td>0.852381</td>\n",
              "      <td>0.788434</td>\n",
              "      <td>1.933333</td>\n",
              "      <td>0.103448</td>\n",
              "    </tr>\n",
              "    <tr>\n",
              "      <th>19</th>\n",
              "      <td></td>\n",
              "      <td>2020-12-08 18:47:24</td>\n",
              "      <td>1.410 sec</td>\n",
              "      <td>19.0</td>\n",
              "      <td>0.176973</td>\n",
              "      <td>0.148913</td>\n",
              "      <td>0.997712</td>\n",
              "      <td>0.998066</td>\n",
              "      <td>1.826087</td>\n",
              "      <td>0.011905</td>\n",
              "      <td>0.350850</td>\n",
              "      <td>0.426290</td>\n",
              "      <td>0.852381</td>\n",
              "      <td>0.788434</td>\n",
              "      <td>1.933333</td>\n",
              "      <td>0.103448</td>\n",
              "    </tr>\n",
              "  </tbody>\n",
              "</table>\n",
              "</div>"
            ],
            "text/plain": [
              "                timestamp  ... validation_lift  validation_classification_error\n",
              "0     2020-12-08 18:47:23  ...        1.000000                         0.482759\n",
              "1     2020-12-08 18:47:23  ...        1.933333                         0.103448\n",
              "2     2020-12-08 18:47:23  ...        1.160000                         0.137931\n",
              "3     2020-12-08 18:47:23  ...        1.160000                         0.103448\n",
              "4     2020-12-08 18:47:23  ...        0.000000                         0.103448\n",
              "5     2020-12-08 18:47:23  ...        0.000000                         0.103448\n",
              "6     2020-12-08 18:47:23  ...        0.000000                         0.137931\n",
              "7     2020-12-08 18:47:23  ...        1.933333                         0.103448\n",
              "8     2020-12-08 18:47:23  ...        1.933333                         0.137931\n",
              "9     2020-12-08 18:47:23  ...        1.933333                         0.103448\n",
              "10    2020-12-08 18:47:23  ...        1.933333                         0.103448\n",
              "11    2020-12-08 18:47:23  ...        1.933333                         0.103448\n",
              "12    2020-12-08 18:47:23  ...        1.933333                         0.103448\n",
              "13    2020-12-08 18:47:23  ...        1.933333                         0.103448\n",
              "14    2020-12-08 18:47:24  ...        1.933333                         0.103448\n",
              "15    2020-12-08 18:47:24  ...        1.933333                         0.103448\n",
              "16    2020-12-08 18:47:24  ...        1.933333                         0.103448\n",
              "17    2020-12-08 18:47:24  ...        1.933333                         0.103448\n",
              "18    2020-12-08 18:47:24  ...        1.933333                         0.103448\n",
              "19    2020-12-08 18:47:24  ...        1.933333                         0.103448\n",
              "\n",
              "[20 rows x 16 columns]"
            ]
          },
          "metadata": {
            "tags": []
          }
        },
        {
          "output_type": "stream",
          "text": [
            "\n",
            "See the whole table with table.as_data_frame()\n",
            "\n",
            "Variable Importances: \n"
          ],
          "name": "stdout"
        },
        {
          "output_type": "display_data",
          "data": {
            "text/html": [
              "<div>\n",
              "<style scoped>\n",
              "    .dataframe tbody tr th:only-of-type {\n",
              "        vertical-align: middle;\n",
              "    }\n",
              "\n",
              "    .dataframe tbody tr th {\n",
              "        vertical-align: top;\n",
              "    }\n",
              "\n",
              "    .dataframe thead th {\n",
              "        text-align: right;\n",
              "    }\n",
              "</style>\n",
              "<table border=\"1\" class=\"dataframe\">\n",
              "  <thead>\n",
              "    <tr style=\"text-align: right;\">\n",
              "      <th></th>\n",
              "      <th>variable</th>\n",
              "      <th>relative_importance</th>\n",
              "      <th>scaled_importance</th>\n",
              "      <th>percentage</th>\n",
              "    </tr>\n",
              "  </thead>\n",
              "  <tbody>\n",
              "    <tr>\n",
              "      <th>0</th>\n",
              "      <td>GFR</td>\n",
              "      <td>88.050262</td>\n",
              "      <td>1.000000</td>\n",
              "      <td>0.475675</td>\n",
              "    </tr>\n",
              "    <tr>\n",
              "      <th>1</th>\n",
              "      <td>AMI_Unst.ang.AMI</td>\n",
              "      <td>31.414286</td>\n",
              "      <td>0.356777</td>\n",
              "      <td>0.169710</td>\n",
              "    </tr>\n",
              "    <tr>\n",
              "      <th>2</th>\n",
              "      <td>Age</td>\n",
              "      <td>28.431400</td>\n",
              "      <td>0.322900</td>\n",
              "      <td>0.153595</td>\n",
              "    </tr>\n",
              "    <tr>\n",
              "      <th>3</th>\n",
              "      <td>AF.AF</td>\n",
              "      <td>26.931522</td>\n",
              "      <td>0.305865</td>\n",
              "      <td>0.145493</td>\n",
              "    </tr>\n",
              "    <tr>\n",
              "      <th>4</th>\n",
              "      <td>Q_non_Q.nan</td>\n",
              "      <td>8.472639</td>\n",
              "      <td>0.096225</td>\n",
              "      <td>0.045772</td>\n",
              "    </tr>\n",
              "    <tr>\n",
              "      <th>5</th>\n",
              "      <td>Localisation.Left_car</td>\n",
              "      <td>1.381596</td>\n",
              "      <td>0.015691</td>\n",
              "      <td>0.007464</td>\n",
              "    </tr>\n",
              "    <tr>\n",
              "      <th>6</th>\n",
              "      <td>Localisation.Right_car</td>\n",
              "      <td>0.424156</td>\n",
              "      <td>0.004817</td>\n",
              "      <td>0.002291</td>\n",
              "    </tr>\n",
              "  </tbody>\n",
              "</table>\n",
              "</div>"
            ],
            "text/plain": [
              "                 variable  relative_importance  scaled_importance  percentage\n",
              "0                     GFR            88.050262           1.000000    0.475675\n",
              "1        AMI_Unst.ang.AMI            31.414286           0.356777    0.169710\n",
              "2                     Age            28.431400           0.322900    0.153595\n",
              "3                   AF.AF            26.931522           0.305865    0.145493\n",
              "4             Q_non_Q.nan             8.472639           0.096225    0.045772\n",
              "5   Localisation.Left_car             1.381596           0.015691    0.007464\n",
              "6  Localisation.Right_car             0.424156           0.004817    0.002291"
            ]
          },
          "metadata": {
            "tags": []
          }
        },
        {
          "output_type": "execute_result",
          "data": {
            "text/plain": [
              "<bound method H2OBinomialModel.accuracy of >"
            ]
          },
          "metadata": {
            "tags": []
          },
          "execution_count": 11
        }
      ]
    },
    {
      "cell_type": "code",
      "metadata": {
        "id": "BtzANy26siKa",
        "outputId": "18fea0d7-7383-43f2-d584-135509c45b61",
        "colab": {
          "base_uri": "https://localhost:8080/"
        }
      },
      "source": [
        "stroke_xgb.auc(valid=test)"
      ],
      "execution_count": 20,
      "outputs": [
        {
          "output_type": "execute_result",
          "data": {
            "text/plain": [
              "0.8333333333333333"
            ]
          },
          "metadata": {
            "tags": []
          },
          "execution_count": 20
        }
      ]
    },
    {
      "cell_type": "code",
      "metadata": {
        "id": "_6nMhFVZstA0",
        "outputId": "461e76ed-3b4d-4dfb-8d55-a79bcc41b56e",
        "colab": {
          "base_uri": "https://localhost:8080/",
          "height": 612
        }
      },
      "source": [
        "stroke_xgb.varimp_plot()"
      ],
      "execution_count": 23,
      "outputs": [
        {
          "output_type": "display_data",
          "data": {
            "image/png": "[encoded data removed]",
            "text/plain": [
              "<Figure size 1008x720 with 1 Axes>"
            ]
          },
          "metadata": {
            "tags": [],
            "needs_background": "light"
          }
        }
      ]
    },
    {
      "cell_type": "code",
      "metadata": {
        "colab": {
          "base_uri": "https://localhost:8080/"
        },
        "id": "w5V3WRnvAUBn",
        "outputId": "af5dfe4b-d047-496a-81c5-052a37772472"
      },
      "source": [
        "aml = H2OAutoML(max_models = 6, max_runtime_secs = 120, seed = 12345)\n",
        "aml.train(x = predictors, y = response, training_frame = train, leaderboard_frame = test)"
      ],
      "execution_count": null,
      "outputs": [
        {
          "output_type": "stream",
          "text": [
            "AutoML progress: |████████████████████████████████████████████████████████| 100%\n"
          ],
          "name": "stdout"
        }
      ]
    },
    {
      "cell_type": "code",
      "metadata": {
        "colab": {
          "base_uri": "https://localhost:8080/"
        },
        "id": "uNdU0AzULqYM",
        "outputId": "9def9327-f84a-46e2-aa74-fa75828e95f0"
      },
      "source": [
        "aml_ = H2OAutoML(max_models = 6, max_runtime_secs = 120, seed = 12345)\n",
        "aml_.train(x = predictors, y = response, training_frame = train, leaderboard_frame = train)"
      ],
      "execution_count": null,
      "outputs": [
        {
          "output_type": "stream",
          "text": [
            "AutoML progress: |████████████████████████████████████████████████████████| 100%\n"
          ],
          "name": "stdout"
        }
      ]
    },
    {
      "cell_type": "code",
      "metadata": {
        "id": "ftCEsayUU4vw"
      },
      "source": [
        "aml.m"
      ],
      "execution_count": null,
      "outputs": []
    },
    {
      "cell_type": "code",
      "metadata": {
        "id": "9RX1wK5yBos9"
      },
      "source": [
        "lb = aml.leaderboard"
      ],
      "execution_count": null,
      "outputs": []
    },
    {
      "cell_type": "code",
      "metadata": {
        "colab": {
          "base_uri": "https://localhost:8080/",
          "height": 145
        },
        "id": "gskx2siCCBjx",
        "outputId": "a174be54-c66d-4295-9cb6-9e7b972aae91"
      },
      "source": [
        "lb.head(rows=5)"
      ],
      "execution_count": null,
      "outputs": [
        {
          "output_type": "display_data",
          "data": {
            "text/html": [
              "<table>\n",
              "<thead>\n",
              "<tr><th>model_id                                           </th><th style=\"text-align: right;\">     auc</th><th style=\"text-align: right;\">  logloss</th><th style=\"text-align: right;\">   aucpr</th><th style=\"text-align: right;\">  mean_per_class_error</th><th style=\"text-align: right;\">    rmse</th><th style=\"text-align: right;\">     mse</th></tr>\n",
              "</thead>\n",
              "<tbody>\n",
              "<tr><td>GBM_1_AutoML_20201128_095618                       </td><td style=\"text-align: right;\">0.909524</td><td style=\"text-align: right;\"> 0.395232</td><td style=\"text-align: right;\">0.896149</td><td style=\"text-align: right;\">             0.107143 </td><td style=\"text-align: right;\">0.326849</td><td style=\"text-align: right;\">0.10683 </td></tr>\n",
              "<tr><td>DRF_1_AutoML_20201128_095618                       </td><td style=\"text-align: right;\">0.895238</td><td style=\"text-align: right;\"> 0.404048</td><td style=\"text-align: right;\">0.861139</td><td style=\"text-align: right;\">             0.0714286</td><td style=\"text-align: right;\">0.343073</td><td style=\"text-align: right;\">0.117699</td></tr>\n",
              "<tr><td>StackedEnsemble_BestOfFamily_AutoML_20201128_095618</td><td style=\"text-align: right;\">0.885714</td><td style=\"text-align: right;\"> 0.399114</td><td style=\"text-align: right;\">0.83683 </td><td style=\"text-align: right;\">             0.0714286</td><td style=\"text-align: right;\">0.322372</td><td style=\"text-align: right;\">0.103924</td></tr>\n",
              "<tr><td>StackedEnsemble_AllModels_AutoML_20201128_095618   </td><td style=\"text-align: right;\">0.885714</td><td style=\"text-align: right;\"> 0.410028</td><td style=\"text-align: right;\">0.83683 </td><td style=\"text-align: right;\">             0.0714286</td><td style=\"text-align: right;\">0.343867</td><td style=\"text-align: right;\">0.118245</td></tr>\n",
              "<tr><td>GLM_1_AutoML_20201128_095618                       </td><td style=\"text-align: right;\">0.866667</td><td style=\"text-align: right;\"> 0.608981</td><td style=\"text-align: right;\">0.8412  </td><td style=\"text-align: right;\">             0.142857 </td><td style=\"text-align: right;\">0.411384</td><td style=\"text-align: right;\">0.169236</td></tr>\n",
              "</tbody>\n",
              "</table>"
            ]
          },
          "metadata": {
            "tags": []
          }
        },
        {
          "output_type": "execute_result",
          "data": {
            "text/plain": [
              ""
            ]
          },
          "metadata": {
            "tags": []
          },
          "execution_count": 204
        }
      ]
    },
    {
      "cell_type": "code",
      "metadata": {
        "colab": {
          "base_uri": "https://localhost:8080/"
        },
        "id": "M-dE3rk6CDgc",
        "outputId": "defeea29-c7dd-4a12-ea06-4d4775326791"
      },
      "source": [
        "aml.varimp_heatmap\n"
      ],
      "execution_count": null,
      "outputs": [
        {
          "output_type": "execute_result",
          "data": {
            "text/plain": [
              "<bound method varimp_heatmap of <h2o.automl.autoh2o.H2OAutoML object at 0x7fbb89f4fac8>>"
            ]
          },
          "metadata": {
            "tags": []
          },
          "execution_count": 146
        }
      ]
    },
    {
      "cell_type": "code",
      "metadata": {
        "id": "fCbblmFxCNDc"
      },
      "source": [
        "import scipy\n",
        "from scipy import stats\n",
        "x = data[data['Surv'] == 'death']['GFR']\n",
        "y = data[data['Surv'] == 'alive']['GFR']\n"
      ],
      "execution_count": null,
      "outputs": []
    },
    {
      "cell_type": "code",
      "metadata": {
        "colab": {
          "base_uri": "https://localhost:8080/",
          "height": 250
        },
        "id": "S141LghYSSUP",
        "outputId": "84be579b-c9f1-415c-f0de-24dce14b4bd5"
      },
      "source": [
        "y"
      ],
      "execution_count": null,
      "outputs": [
        {
          "output_type": "display_data",
          "data": {
            "text/html": [
              "<table>\n",
              "<thead>\n",
              "<tr><th style=\"text-align: right;\">  GFR</th></tr>\n",
              "</thead>\n",
              "<tbody>\n",
              "<tr><td style=\"text-align: right;\">   98</td></tr>\n",
              "<tr><td style=\"text-align: right;\">   69</td></tr>\n",
              "<tr><td style=\"text-align: right;\">   86</td></tr>\n",
              "<tr><td style=\"text-align: right;\">   52</td></tr>\n",
              "<tr><td style=\"text-align: right;\">   47</td></tr>\n",
              "<tr><td style=\"text-align: right;\">   21</td></tr>\n",
              "<tr><td style=\"text-align: right;\">   46</td></tr>\n",
              "<tr><td style=\"text-align: right;\">   21</td></tr>\n",
              "<tr><td style=\"text-align: right;\">   75</td></tr>\n",
              "<tr><td style=\"text-align: right;\">   66</td></tr>\n",
              "</tbody>\n",
              "</table>"
            ]
          },
          "metadata": {
            "tags": []
          }
        },
        {
          "output_type": "execute_result",
          "data": {
            "text/plain": [
              ""
            ]
          },
          "metadata": {
            "tags": []
          },
          "execution_count": 207
        }
      ]
    },
    {
      "cell_type": "code",
      "metadata": {
        "id": "vGbiPYWqSRsZ"
      },
      "source": [
        "x.name, y.name = 'death', 'alive'"
      ],
      "execution_count": null,
      "outputs": []
    },
    {
      "cell_type": "code",
      "metadata": {
        "id": "V6IQSv5COdsr"
      },
      "source": [
        "x = [i for i in x]"
      ],
      "execution_count": null,
      "outputs": []
    },
    {
      "cell_type": "code",
      "metadata": {
        "id": "p2mT8TDdSv3j"
      },
      "source": [
        "y = [i for i in y]\n",
        "y"
      ],
      "execution_count": null,
      "outputs": []
    },
    {
      "cell_type": "code",
      "metadata": {
        "id": "DXApK0TzFHXk"
      },
      "source": [
        "res = stats.ttest_ind(x, y)\n",
        "print('p-value: ', res[1])"
      ],
      "execution_count": null,
      "outputs": []
    },
    {
      "cell_type": "code",
      "metadata": {
        "id": "gqBWx6XxFUnG"
      },
      "source": [
        "from h2o.estimators.coxph import H2OCoxProportionalHazardsEstimator"
      ],
      "execution_count": null,
      "outputs": []
    },
    {
      "cell_type": "code",
      "metadata": {
        "colab": {
          "base_uri": "https://localhost:8080/"
        },
        "id": "BLEyg9SZTaFn",
        "outputId": "97f23c74-3f93-40d0-e056-bcb32a3f0151"
      },
      "source": [
        "data.col_names"
      ],
      "execution_count": null,
      "outputs": [
        {
          "output_type": "execute_result",
          "data": {
            "text/plain": [
              "['Gender',\n",
              " 'Age',\n",
              " 'AF',\n",
              " 'Localisation',\n",
              " 'AMI_Unst.ang',\n",
              " 'GFR',\n",
              " 'Surv',\n",
              " 'Q_non_Q',\n",
              " 'DM']"
            ]
          },
          "metadata": {
            "tags": []
          },
          "execution_count": 222
        }
      ]
    },
    {
      "cell_type": "code",
      "metadata": {
        "colab": {
          "base_uri": "https://localhost:8080/"
        },
        "id": "ZXvu5lvATLW8",
        "outputId": "b6f0486d-383a-4f98-e74c-796da93ae1bb"
      },
      "source": [
        "stroke_coxph = H2OCoxProportionalHazardsEstimator(\n",
        "                                                 stop_column=\"GFR\",\n",
        "                                                 ties=\"breslow\")\n",
        "stroke_coxph.train(x=predictors,\n",
        "            y=response,\n",
        "            training_frame=train)"
      ],
      "execution_count": null,
      "outputs": [
        {
          "output_type": "stream",
          "text": [
            "coxph Model Build progress: |█████████████████████████████████████████████| 100%\n"
          ],
          "name": "stdout"
        }
      ]
    },
    {
      "cell_type": "code",
      "metadata": {
        "colab": {
          "base_uri": "https://localhost:8080/"
        },
        "id": "zagkNs_eTi42",
        "outputId": "bdaf21f7-18c6-43ce-bac3-bc816fff7ede"
      },
      "source": [
        "\n",
        "pred = stroke_coxph.predict(test)"
      ],
      "execution_count": null,
      "outputs": [
        {
          "output_type": "stream",
          "text": [
            "coxph prediction progress: |██████████████████████████████████████████████| 100%\n"
          ],
          "name": "stdout"
        }
      ]
    },
    {
      "cell_type": "code",
      "metadata": {
        "colab": {
          "base_uri": "https://localhost:8080/",
          "height": 739
        },
        "id": "LTLLB_XgUej5",
        "outputId": "897e5625-6043-4c21-d8e2-f466b67fe2fc"
      },
      "source": [
        "stroke_coxph.coefficients_table"
      ],
      "execution_count": null,
      "outputs": [
        {
          "output_type": "stream",
          "text": [
            "Model Details\n",
            "=============\n",
            "H2OCoxProportionalHazardsEstimator :  Cox Proportional Hazards\n",
            "Model Key:  CoxPH_model_python_1606551964032_5039\n",
            "\n",
            "Call: \n",
            "Surv(GFR, Surv) ~ Gender + Age + AF + Localisation + AMI_Unst.ang + Q_non_Q + DM\n",
            "\n",
            "Coefficients: CoxPH Coefficients\n"
          ],
          "name": "stdout"
        },
        {
          "output_type": "display_data",
          "data": {
            "text/html": [
              "<div>\n",
              "<style scoped>\n",
              "    .dataframe tbody tr th:only-of-type {\n",
              "        vertical-align: middle;\n",
              "    }\n",
              "\n",
              "    .dataframe tbody tr th {\n",
              "        vertical-align: top;\n",
              "    }\n",
              "\n",
              "    .dataframe thead th {\n",
              "        text-align: right;\n",
              "    }\n",
              "</style>\n",
              "<table border=\"1\" class=\"dataframe\">\n",
              "  <thead>\n",
              "    <tr style=\"text-align: right;\">\n",
              "      <th></th>\n",
              "      <th>names</th>\n",
              "      <th>coefficients</th>\n",
              "      <th>exp_coef</th>\n",
              "      <th>exp_neg_coef</th>\n",
              "      <th>se_coef</th>\n",
              "      <th>z_coef</th>\n",
              "    </tr>\n",
              "  </thead>\n",
              "  <tbody>\n",
              "    <tr>\n",
              "      <th>0</th>\n",
              "      <td>Localisation.Right_car</td>\n",
              "      <td>0.392314</td>\n",
              "      <td>1.480402</td>\n",
              "      <td>0.675492</td>\n",
              "      <td>0.369326</td>\n",
              "      <td>1.062241</td>\n",
              "    </tr>\n",
              "    <tr>\n",
              "      <th>1</th>\n",
              "      <td>Localisation.Vertebro_bas</td>\n",
              "      <td>-0.100475</td>\n",
              "      <td>0.904408</td>\n",
              "      <td>1.105696</td>\n",
              "      <td>0.552015</td>\n",
              "      <td>-0.182014</td>\n",
              "    </tr>\n",
              "    <tr>\n",
              "      <th>2</th>\n",
              "      <td>AF.No_AF</td>\n",
              "      <td>-0.642116</td>\n",
              "      <td>0.526178</td>\n",
              "      <td>1.900497</td>\n",
              "      <td>0.364355</td>\n",
              "      <td>-1.762336</td>\n",
              "    </tr>\n",
              "    <tr>\n",
              "      <th>3</th>\n",
              "      <td>Gender.male</td>\n",
              "      <td>-0.477382</td>\n",
              "      <td>0.620405</td>\n",
              "      <td>1.611849</td>\n",
              "      <td>0.443702</td>\n",
              "      <td>-1.075907</td>\n",
              "    </tr>\n",
              "    <tr>\n",
              "      <th>4</th>\n",
              "      <td>AMI_Unst.ang.Unst_ang</td>\n",
              "      <td>-2.221644</td>\n",
              "      <td>0.108431</td>\n",
              "      <td>9.222478</td>\n",
              "      <td>0.794870</td>\n",
              "      <td>-2.794976</td>\n",
              "    </tr>\n",
              "    <tr>\n",
              "      <th>5</th>\n",
              "      <td>Q_non_Q.non_Q</td>\n",
              "      <td>-0.462309</td>\n",
              "      <td>0.629828</td>\n",
              "      <td>1.587735</td>\n",
              "      <td>0.412219</td>\n",
              "      <td>-1.121511</td>\n",
              "    </tr>\n",
              "    <tr>\n",
              "      <th>6</th>\n",
              "      <td>DM.No_Diabetes</td>\n",
              "      <td>-0.672368</td>\n",
              "      <td>0.510498</td>\n",
              "      <td>1.958871</td>\n",
              "      <td>0.372038</td>\n",
              "      <td>-1.807257</td>\n",
              "    </tr>\n",
              "    <tr>\n",
              "      <th>7</th>\n",
              "      <td>Age</td>\n",
              "      <td>0.005536</td>\n",
              "      <td>1.005551</td>\n",
              "      <td>0.994480</td>\n",
              "      <td>0.020572</td>\n",
              "      <td>0.269083</td>\n",
              "    </tr>\n",
              "  </tbody>\n",
              "</table>\n",
              "</div>"
            ],
            "text/plain": [
              "                       names  coefficients  ...   se_coef    z_coef\n",
              "0     Localisation.Right_car      0.392314  ...  0.369326  1.062241\n",
              "1  Localisation.Vertebro_bas     -0.100475  ...  0.552015 -0.182014\n",
              "2                   AF.No_AF     -0.642116  ...  0.364355 -1.762336\n",
              "3                Gender.male     -0.477382  ...  0.443702 -1.075907\n",
              "4      AMI_Unst.ang.Unst_ang     -2.221644  ...  0.794870 -2.794976\n",
              "5              Q_non_Q.non_Q     -0.462309  ...  0.412219 -1.121511\n",
              "6             DM.No_Diabetes     -0.672368  ...  0.372038 -1.807257\n",
              "7                        Age      0.005536  ...  0.020572  0.269083\n",
              "\n",
              "[8 rows x 6 columns]"
            ]
          },
          "metadata": {
            "tags": []
          }
        },
        {
          "output_type": "stream",
          "text": [
            "\n",
            "Likelihood ratio test=27.712016\n",
            "n=84, number of events=46\n",
            "\n",
            "Scoring History: \n"
          ],
          "name": "stdout"
        },
        {
          "output_type": "display_data",
          "data": {
            "text/html": [
              "<div>\n",
              "<style scoped>\n",
              "    .dataframe tbody tr th:only-of-type {\n",
              "        vertical-align: middle;\n",
              "    }\n",
              "\n",
              "    .dataframe tbody tr th {\n",
              "        vertical-align: top;\n",
              "    }\n",
              "\n",
              "    .dataframe thead th {\n",
              "        text-align: right;\n",
              "    }\n",
              "</style>\n",
              "<table border=\"1\" class=\"dataframe\">\n",
              "  <thead>\n",
              "    <tr style=\"text-align: right;\">\n",
              "      <th></th>\n",
              "      <th></th>\n",
              "      <th>timestamp</th>\n",
              "      <th>duration</th>\n",
              "      <th>iterations</th>\n",
              "      <th>loglik</th>\n",
              "    </tr>\n",
              "  </thead>\n",
              "  <tbody>\n",
              "    <tr>\n",
              "      <th>0</th>\n",
              "      <td></td>\n",
              "      <td>2020-11-28 10:06:25</td>\n",
              "      <td>0.000 sec</td>\n",
              "      <td>0</td>\n",
              "      <td>-178.081986</td>\n",
              "    </tr>\n",
              "    <tr>\n",
              "      <th>1</th>\n",
              "      <td></td>\n",
              "      <td>2020-11-28 10:06:25</td>\n",
              "      <td>0.004 sec</td>\n",
              "      <td>1</td>\n",
              "      <td>-165.529541</td>\n",
              "    </tr>\n",
              "    <tr>\n",
              "      <th>2</th>\n",
              "      <td></td>\n",
              "      <td>2020-11-28 10:06:25</td>\n",
              "      <td>0.007 sec</td>\n",
              "      <td>2</td>\n",
              "      <td>-164.291944</td>\n",
              "    </tr>\n",
              "    <tr>\n",
              "      <th>3</th>\n",
              "      <td></td>\n",
              "      <td>2020-11-28 10:06:25</td>\n",
              "      <td>0.009 sec</td>\n",
              "      <td>3</td>\n",
              "      <td>-164.226643</td>\n",
              "    </tr>\n",
              "    <tr>\n",
              "      <th>4</th>\n",
              "      <td></td>\n",
              "      <td>2020-11-28 10:06:25</td>\n",
              "      <td>0.013 sec</td>\n",
              "      <td>4</td>\n",
              "      <td>-164.225978</td>\n",
              "    </tr>\n",
              "  </tbody>\n",
              "</table>\n",
              "</div>"
            ],
            "text/plain": [
              "               timestamp    duration  iterations      loglik\n",
              "0    2020-11-28 10:06:25   0.000 sec           0 -178.081986\n",
              "1    2020-11-28 10:06:25   0.004 sec           1 -165.529541\n",
              "2    2020-11-28 10:06:25   0.007 sec           2 -164.291944\n",
              "3    2020-11-28 10:06:25   0.009 sec           3 -164.226643\n",
              "4    2020-11-28 10:06:25   0.013 sec           4 -164.225978"
            ]
          },
          "metadata": {
            "tags": []
          }
        },
        {
          "output_type": "execute_result",
          "data": {
            "text/plain": [
              "<bound method H2OCoxPHModel.coefficients_table of >"
            ]
          },
          "metadata": {
            "tags": []
          },
          "execution_count": 230
        }
      ]
    },
    {
      "cell_type": "code",
      "metadata": {
        "id": "LlFwoGl9UqVg"
      },
      "source": [
        ""
      ],
      "execution_count": null,
      "outputs": []
    }
  ]
}