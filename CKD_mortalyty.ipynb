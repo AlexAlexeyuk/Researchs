{
  "nbformat": 4,
  "nbformat_minor": 0,
  "metadata": {
    "colab": {
      "name": "CKD_mortalyty.ipynb",
      "provenance": [],
      "authorship_tag": "ABX9TyPxBc+61pW6qyx9YrjeNWN1",
      "include_colab_link": true
    },
    "kernelspec": {
      "display_name": "Python 3",
      "name": "python3"
    }
  },
  "cells": [
    {
      "cell_type": "markdown",
      "metadata": {
        "id": "view-in-github",
        "colab_type": "text"
      },
      "source": [
        "<a href=\"https://colab.research.google.com/github/AlexAlexeyuk/Researchs/blob/master/CKD_mortalyty.ipynb\" target=\"_parent\"><img src=\"https://colab.research.google.com/assets/colab-badge.svg\" alt=\"Open In Colab\"/></a>"
      ]
    },
    {
      "cell_type": "code",
      "metadata": {
        "colab": {
          "base_uri": "https://localhost:8080/",
          "height": 389
        },
        "id": "tdjJp2An9R87",
        "outputId": "06faab43-1b2f-4141-a011-c06e987e6135"
      },
      "source": [
        "import h2o\n",
        "h2o.init()"
      ],
      "execution_count": 173,
      "outputs": [
        {
          "output_type": "stream",
          "text": [
            "Checking whether there is an H2O instance running at http://localhost:54321 . connected.\n"
          ],
          "name": "stdout"
        },
        {
          "output_type": "display_data",
          "data": {
            "text/html": [
              "<div style=\"overflow:auto\"><table style=\"width:50%\"><tr><td>H2O_cluster_uptime:</td>\n",
              "<td>1 hour 15 mins</td></tr>\n",
              "<tr><td>H2O_cluster_timezone:</td>\n",
              "<td>Etc/UTC</td></tr>\n",
              "<tr><td>H2O_data_parsing_timezone:</td>\n",
              "<td>UTC</td></tr>\n",
              "<tr><td>H2O_cluster_version:</td>\n",
              "<td>3.32.0.2</td></tr>\n",
              "<tr><td>H2O_cluster_version_age:</td>\n",
              "<td>10 days </td></tr>\n",
              "<tr><td>H2O_cluster_name:</td>\n",
              "<td>H2O_from_python_unknownUser_g1whcw</td></tr>\n",
              "<tr><td>H2O_cluster_total_nodes:</td>\n",
              "<td>1</td></tr>\n",
              "<tr><td>H2O_cluster_free_memory:</td>\n",
              "<td>3.148 Gb</td></tr>\n",
              "<tr><td>H2O_cluster_total_cores:</td>\n",
              "<td>2</td></tr>\n",
              "<tr><td>H2O_cluster_allowed_cores:</td>\n",
              "<td>2</td></tr>\n",
              "<tr><td>H2O_cluster_status:</td>\n",
              "<td>locked, healthy</td></tr>\n",
              "<tr><td>H2O_connection_url:</td>\n",
              "<td>http://localhost:54321</td></tr>\n",
              "<tr><td>H2O_connection_proxy:</td>\n",
              "<td>{\"http\": null, \"https\": null}</td></tr>\n",
              "<tr><td>H2O_internal_security:</td>\n",
              "<td>False</td></tr>\n",
              "<tr><td>H2O_API_Extensions:</td>\n",
              "<td>Amazon S3, XGBoost, Algos, AutoML, Core V3, TargetEncoder, Core V4</td></tr>\n",
              "<tr><td>Python_version:</td>\n",
              "<td>3.6.9 final</td></tr></table></div>"
            ],
            "text/plain": [
              "--------------------------  ------------------------------------------------------------------\n",
              "H2O_cluster_uptime:         1 hour 15 mins\n",
              "H2O_cluster_timezone:       Etc/UTC\n",
              "H2O_data_parsing_timezone:  UTC\n",
              "H2O_cluster_version:        3.32.0.2\n",
              "H2O_cluster_version_age:    10 days\n",
              "H2O_cluster_name:           H2O_from_python_unknownUser_g1whcw\n",
              "H2O_cluster_total_nodes:    1\n",
              "H2O_cluster_free_memory:    3.148 Gb\n",
              "H2O_cluster_total_cores:    2\n",
              "H2O_cluster_allowed_cores:  2\n",
              "H2O_cluster_status:         locked, healthy\n",
              "H2O_connection_url:         http://localhost:54321\n",
              "H2O_connection_proxy:       {\"http\": null, \"https\": null}\n",
              "H2O_internal_security:      False\n",
              "H2O_API_Extensions:         Amazon S3, XGBoost, Algos, AutoML, Core V3, TargetEncoder, Core V4\n",
              "Python_version:             3.6.9 final\n",
              "--------------------------  ------------------------------------------------------------------"
            ]
          },
          "metadata": {
            "tags": []
          }
        }
      ]
    },
    {
      "cell_type": "code",
      "metadata": {
        "id": "Sa8rv0uR_pFo",
        "colab": {
          "base_uri": "https://localhost:8080/"
        },
        "outputId": "e687971e-b676-480c-fec5-8fc49f29f4ec"
      },
      "source": [
        "data = h2o.import_file('/content/cleaned_data')\n",
        "data['Surv'] = data['Surv'].asfactor()"
      ],
      "execution_count": 196,
      "outputs": [
        {
          "output_type": "stream",
          "text": [
            "Parse progress: |█████████████████████████████████████████████████████████| 100%\n"
          ],
          "name": "stdout"
        }
      ]
    },
    {
      "cell_type": "code",
      "metadata": {
        "id": "hgpAUiLvADMf"
      },
      "source": [
        "from h2o.automl import H2OAutoML\n"
      ],
      "execution_count": 197,
      "outputs": []
    },
    {
      "cell_type": "code",
      "metadata": {
        "id": "yRArfR28Ay5F"
      },
      "source": [
        "# Set predictors and response variable\n",
        "response = \"Surv\"\n",
        "predictors = data.col_names.remove(response)\n"
      ],
      "execution_count": 199,
      "outputs": []
    },
    {
      "cell_type": "code",
      "metadata": {
        "id": "nP9i-OcZBwjj"
      },
      "source": [
        "# split\n",
        "train, test = data.split_frame(seed = 1234, \n",
        "                                  ratios = [0.75], \n",
        "                                  destination_frames = [\"train.hex\", \"test.hex\"])"
      ],
      "execution_count": 200,
      "outputs": []
    },
    {
      "cell_type": "code",
      "metadata": {
        "colab": {
          "base_uri": "https://localhost:8080/"
        },
        "id": "nQvnIKpaOTg1",
        "outputId": "bb60e687-7b1f-426a-a5cb-6004c4bd2797"
      },
      "source": [
        "train.col_names"
      ],
      "execution_count": 201,
      "outputs": [
        {
          "output_type": "execute_result",
          "data": {
            "text/plain": [
              "['Gender',\n",
              " 'Age',\n",
              " 'AF',\n",
              " 'Localisation',\n",
              " 'AMI_Unst.ang',\n",
              " 'GFR',\n",
              " 'Surv',\n",
              " 'Q_non_Q',\n",
              " 'DM']"
            ]
          },
          "metadata": {
            "tags": []
          },
          "execution_count": 201
        }
      ]
    },
    {
      "cell_type": "code",
      "metadata": {
        "colab": {
          "base_uri": "https://localhost:8080/"
        },
        "id": "w5V3WRnvAUBn",
        "outputId": "af5dfe4b-d047-496a-81c5-052a37772472"
      },
      "source": [
        "aml = H2OAutoML(max_models = 6, max_runtime_secs = 120, seed = 12345)\n",
        "aml.train(x = predictors, y = response, training_frame = train, leaderboard_frame = test)"
      ],
      "execution_count": 202,
      "outputs": [
        {
          "output_type": "stream",
          "text": [
            "AutoML progress: |████████████████████████████████████████████████████████| 100%\n"
          ],
          "name": "stdout"
        }
      ]
    },
    {
      "cell_type": "code",
      "metadata": {
        "colab": {
          "base_uri": "https://localhost:8080/"
        },
        "id": "uNdU0AzULqYM",
        "outputId": "9def9327-f84a-46e2-aa74-fa75828e95f0"
      },
      "source": [
        "aml_ = H2OAutoML(max_models = 6, max_runtime_secs = 120, seed = 12345)\n",
        "aml_.train(x = predictors, y = response, training_frame = train, leaderboard_frame = train)"
      ],
      "execution_count": 142,
      "outputs": [
        {
          "output_type": "stream",
          "text": [
            "AutoML progress: |████████████████████████████████████████████████████████| 100%\n"
          ],
          "name": "stdout"
        }
      ]
    },
    {
      "cell_type": "code",
      "metadata": {
        "id": "ftCEsayUU4vw"
      },
      "source": [
        "aml.m"
      ],
      "execution_count": null,
      "outputs": []
    },
    {
      "cell_type": "code",
      "metadata": {
        "id": "9RX1wK5yBos9"
      },
      "source": [
        "lb = aml.leaderboard"
      ],
      "execution_count": 203,
      "outputs": []
    },
    {
      "cell_type": "code",
      "metadata": {
        "colab": {
          "base_uri": "https://localhost:8080/",
          "height": 145
        },
        "id": "gskx2siCCBjx",
        "outputId": "a174be54-c66d-4295-9cb6-9e7b972aae91"
      },
      "source": [
        "lb.head(rows=5)"
      ],
      "execution_count": 204,
      "outputs": [
        {
          "output_type": "display_data",
          "data": {
            "text/html": [
              "<table>\n",
              "<thead>\n",
              "<tr><th>model_id                                           </th><th style=\"text-align: right;\">     auc</th><th style=\"text-align: right;\">  logloss</th><th style=\"text-align: right;\">   aucpr</th><th style=\"text-align: right;\">  mean_per_class_error</th><th style=\"text-align: right;\">    rmse</th><th style=\"text-align: right;\">     mse</th></tr>\n",
              "</thead>\n",
              "<tbody>\n",
              "<tr><td>GBM_1_AutoML_20201128_095618                       </td><td style=\"text-align: right;\">0.909524</td><td style=\"text-align: right;\"> 0.395232</td><td style=\"text-align: right;\">0.896149</td><td style=\"text-align: right;\">             0.107143 </td><td style=\"text-align: right;\">0.326849</td><td style=\"text-align: right;\">0.10683 </td></tr>\n",
              "<tr><td>DRF_1_AutoML_20201128_095618                       </td><td style=\"text-align: right;\">0.895238</td><td style=\"text-align: right;\"> 0.404048</td><td style=\"text-align: right;\">0.861139</td><td style=\"text-align: right;\">             0.0714286</td><td style=\"text-align: right;\">0.343073</td><td style=\"text-align: right;\">0.117699</td></tr>\n",
              "<tr><td>StackedEnsemble_BestOfFamily_AutoML_20201128_095618</td><td style=\"text-align: right;\">0.885714</td><td style=\"text-align: right;\"> 0.399114</td><td style=\"text-align: right;\">0.83683 </td><td style=\"text-align: right;\">             0.0714286</td><td style=\"text-align: right;\">0.322372</td><td style=\"text-align: right;\">0.103924</td></tr>\n",
              "<tr><td>StackedEnsemble_AllModels_AutoML_20201128_095618   </td><td style=\"text-align: right;\">0.885714</td><td style=\"text-align: right;\"> 0.410028</td><td style=\"text-align: right;\">0.83683 </td><td style=\"text-align: right;\">             0.0714286</td><td style=\"text-align: right;\">0.343867</td><td style=\"text-align: right;\">0.118245</td></tr>\n",
              "<tr><td>GLM_1_AutoML_20201128_095618                       </td><td style=\"text-align: right;\">0.866667</td><td style=\"text-align: right;\"> 0.608981</td><td style=\"text-align: right;\">0.8412  </td><td style=\"text-align: right;\">             0.142857 </td><td style=\"text-align: right;\">0.411384</td><td style=\"text-align: right;\">0.169236</td></tr>\n",
              "</tbody>\n",
              "</table>"
            ]
          },
          "metadata": {
            "tags": []
          }
        },
        {
          "output_type": "execute_result",
          "data": {
            "text/plain": [
              ""
            ]
          },
          "metadata": {
            "tags": []
          },
          "execution_count": 204
        }
      ]
    },
    {
      "cell_type": "code",
      "metadata": {
        "colab": {
          "base_uri": "https://localhost:8080/"
        },
        "id": "M-dE3rk6CDgc",
        "outputId": "defeea29-c7dd-4a12-ea06-4d4775326791"
      },
      "source": [
        "aml.varimp_heatmap\n"
      ],
      "execution_count": 146,
      "outputs": [
        {
          "output_type": "execute_result",
          "data": {
            "text/plain": [
              "<bound method varimp_heatmap of <h2o.automl.autoh2o.H2OAutoML object at 0x7fbb89f4fac8>>"
            ]
          },
          "metadata": {
            "tags": []
          },
          "execution_count": 146
        }
      ]
    },
    {
      "cell_type": "code",
      "metadata": {
        "id": "fCbblmFxCNDc"
      },
      "source": [
        "import scipy\n",
        "from scipy import stats\n",
        "x = data[data['Surv'] == 'death']['GFR']\n",
        "y = data[data['Surv'] == 'alive']['GFR']\n"
      ],
      "execution_count": 206,
      "outputs": []
    },
    {
      "cell_type": "code",
      "metadata": {
        "colab": {
          "base_uri": "https://localhost:8080/",
          "height": 250
        },
        "id": "S141LghYSSUP",
        "outputId": "84be579b-c9f1-415c-f0de-24dce14b4bd5"
      },
      "source": [
        "y"
      ],
      "execution_count": 207,
      "outputs": [
        {
          "output_type": "display_data",
          "data": {
            "text/html": [
              "<table>\n",
              "<thead>\n",
              "<tr><th style=\"text-align: right;\">  GFR</th></tr>\n",
              "</thead>\n",
              "<tbody>\n",
              "<tr><td style=\"text-align: right;\">   98</td></tr>\n",
              "<tr><td style=\"text-align: right;\">   69</td></tr>\n",
              "<tr><td style=\"text-align: right;\">   86</td></tr>\n",
              "<tr><td style=\"text-align: right;\">   52</td></tr>\n",
              "<tr><td style=\"text-align: right;\">   47</td></tr>\n",
              "<tr><td style=\"text-align: right;\">   21</td></tr>\n",
              "<tr><td style=\"text-align: right;\">   46</td></tr>\n",
              "<tr><td style=\"text-align: right;\">   21</td></tr>\n",
              "<tr><td style=\"text-align: right;\">   75</td></tr>\n",
              "<tr><td style=\"text-align: right;\">   66</td></tr>\n",
              "</tbody>\n",
              "</table>"
            ]
          },
          "metadata": {
            "tags": []
          }
        },
        {
          "output_type": "execute_result",
          "data": {
            "text/plain": [
              ""
            ]
          },
          "metadata": {
            "tags": []
          },
          "execution_count": 207
        }
      ]
    },
    {
      "cell_type": "code",
      "metadata": {
        "id": "vGbiPYWqSRsZ"
      },
      "source": [
        "x.name, y.name = 'death', 'alive'"
      ],
      "execution_count": 209,
      "outputs": []
    },
    {
      "cell_type": "code",
      "metadata": {
        "id": "V6IQSv5COdsr"
      },
      "source": [
        "x = [i for i in x]"
      ],
      "execution_count": 214,
      "outputs": []
    },
    {
      "cell_type": "code",
      "metadata": {
        "id": "p2mT8TDdSv3j"
      },
      "source": [
        "y = [i for i in y]\n",
        "y"
      ],
      "execution_count": null,
      "outputs": []
    },
    {
      "cell_type": "code",
      "metadata": {
        "id": "DXApK0TzFHXk"
      },
      "source": [
        "res = stats.ttest_ind(x, y)\n",
        "print('p-value: ', res[1])"
      ],
      "execution_count": null,
      "outputs": []
    },
    {
      "cell_type": "code",
      "metadata": {
        "id": "gqBWx6XxFUnG"
      },
      "source": [
        "from h2o.estimators.coxph import H2OCoxProportionalHazardsEstimator"
      ],
      "execution_count": 221,
      "outputs": []
    },
    {
      "cell_type": "code",
      "metadata": {
        "colab": {
          "base_uri": "https://localhost:8080/"
        },
        "id": "BLEyg9SZTaFn",
        "outputId": "97f23c74-3f93-40d0-e056-bcb32a3f0151"
      },
      "source": [
        "data.col_names"
      ],
      "execution_count": 222,
      "outputs": [
        {
          "output_type": "execute_result",
          "data": {
            "text/plain": [
              "['Gender',\n",
              " 'Age',\n",
              " 'AF',\n",
              " 'Localisation',\n",
              " 'AMI_Unst.ang',\n",
              " 'GFR',\n",
              " 'Surv',\n",
              " 'Q_non_Q',\n",
              " 'DM']"
            ]
          },
          "metadata": {
            "tags": []
          },
          "execution_count": 222
        }
      ]
    },
    {
      "cell_type": "code",
      "metadata": {
        "colab": {
          "base_uri": "https://localhost:8080/"
        },
        "id": "ZXvu5lvATLW8",
        "outputId": "b6f0486d-383a-4f98-e74c-796da93ae1bb"
      },
      "source": [
        "stroke_coxph = H2OCoxProportionalHazardsEstimator(\n",
        "                                                 stop_column=\"GFR\",\n",
        "                                                 ties=\"breslow\")\n",
        "stroke_coxph.train(x=predictors,\n",
        "            y=response,\n",
        "            training_frame=train)"
      ],
      "execution_count": 227,
      "outputs": [
        {
          "output_type": "stream",
          "text": [
            "coxph Model Build progress: |█████████████████████████████████████████████| 100%\n"
          ],
          "name": "stdout"
        }
      ]
    },
    {
      "cell_type": "code",
      "metadata": {
        "colab": {
          "base_uri": "https://localhost:8080/"
        },
        "id": "zagkNs_eTi42",
        "outputId": "bdaf21f7-18c6-43ce-bac3-bc816fff7ede"
      },
      "source": [
        "\n",
        "pred = stroke_coxph.predict(test)"
      ],
      "execution_count": 228,
      "outputs": [
        {
          "output_type": "stream",
          "text": [
            "coxph prediction progress: |██████████████████████████████████████████████| 100%\n"
          ],
          "name": "stdout"
        }
      ]
    },
    {
      "cell_type": "code",
      "metadata": {
        "colab": {
          "base_uri": "https://localhost:8080/",
          "height": 739
        },
        "id": "LTLLB_XgUej5",
        "outputId": "897e5625-6043-4c21-d8e2-f466b67fe2fc"
      },
      "source": [
        "stroke_coxph.coefficients_table"
      ],
      "execution_count": 230,
      "outputs": [
        {
          "output_type": "stream",
          "text": [
            "Model Details\n",
            "=============\n",
            "H2OCoxProportionalHazardsEstimator :  Cox Proportional Hazards\n",
            "Model Key:  CoxPH_model_python_1606551964032_5039\n",
            "\n",
            "Call: \n",
            "Surv(GFR, Surv) ~ Gender + Age + AF + Localisation + AMI_Unst.ang + Q_non_Q + DM\n",
            "\n",
            "Coefficients: CoxPH Coefficients\n"
          ],
          "name": "stdout"
        },
        {
          "output_type": "display_data",
          "data": {
            "text/html": [
              "<div>\n",
              "<style scoped>\n",
              "    .dataframe tbody tr th:only-of-type {\n",
              "        vertical-align: middle;\n",
              "    }\n",
              "\n",
              "    .dataframe tbody tr th {\n",
              "        vertical-align: top;\n",
              "    }\n",
              "\n",
              "    .dataframe thead th {\n",
              "        text-align: right;\n",
              "    }\n",
              "</style>\n",
              "<table border=\"1\" class=\"dataframe\">\n",
              "  <thead>\n",
              "    <tr style=\"text-align: right;\">\n",
              "      <th></th>\n",
              "      <th>names</th>\n",
              "      <th>coefficients</th>\n",
              "      <th>exp_coef</th>\n",
              "      <th>exp_neg_coef</th>\n",
              "      <th>se_coef</th>\n",
              "      <th>z_coef</th>\n",
              "    </tr>\n",
              "  </thead>\n",
              "  <tbody>\n",
              "    <tr>\n",
              "      <th>0</th>\n",
              "      <td>Localisation.Right_car</td>\n",
              "      <td>0.392314</td>\n",
              "      <td>1.480402</td>\n",
              "      <td>0.675492</td>\n",
              "      <td>0.369326</td>\n",
              "      <td>1.062241</td>\n",
              "    </tr>\n",
              "    <tr>\n",
              "      <th>1</th>\n",
              "      <td>Localisation.Vertebro_bas</td>\n",
              "      <td>-0.100475</td>\n",
              "      <td>0.904408</td>\n",
              "      <td>1.105696</td>\n",
              "      <td>0.552015</td>\n",
              "      <td>-0.182014</td>\n",
              "    </tr>\n",
              "    <tr>\n",
              "      <th>2</th>\n",
              "      <td>AF.No_AF</td>\n",
              "      <td>-0.642116</td>\n",
              "      <td>0.526178</td>\n",
              "      <td>1.900497</td>\n",
              "      <td>0.364355</td>\n",
              "      <td>-1.762336</td>\n",
              "    </tr>\n",
              "    <tr>\n",
              "      <th>3</th>\n",
              "      <td>Gender.male</td>\n",
              "      <td>-0.477382</td>\n",
              "      <td>0.620405</td>\n",
              "      <td>1.611849</td>\n",
              "      <td>0.443702</td>\n",
              "      <td>-1.075907</td>\n",
              "    </tr>\n",
              "    <tr>\n",
              "      <th>4</th>\n",
              "      <td>AMI_Unst.ang.Unst_ang</td>\n",
              "      <td>-2.221644</td>\n",
              "      <td>0.108431</td>\n",
              "      <td>9.222478</td>\n",
              "      <td>0.794870</td>\n",
              "      <td>-2.794976</td>\n",
              "    </tr>\n",
              "    <tr>\n",
              "      <th>5</th>\n",
              "      <td>Q_non_Q.non_Q</td>\n",
              "      <td>-0.462309</td>\n",
              "      <td>0.629828</td>\n",
              "      <td>1.587735</td>\n",
              "      <td>0.412219</td>\n",
              "      <td>-1.121511</td>\n",
              "    </tr>\n",
              "    <tr>\n",
              "      <th>6</th>\n",
              "      <td>DM.No_Diabetes</td>\n",
              "      <td>-0.672368</td>\n",
              "      <td>0.510498</td>\n",
              "      <td>1.958871</td>\n",
              "      <td>0.372038</td>\n",
              "      <td>-1.807257</td>\n",
              "    </tr>\n",
              "    <tr>\n",
              "      <th>7</th>\n",
              "      <td>Age</td>\n",
              "      <td>0.005536</td>\n",
              "      <td>1.005551</td>\n",
              "      <td>0.994480</td>\n",
              "      <td>0.020572</td>\n",
              "      <td>0.269083</td>\n",
              "    </tr>\n",
              "  </tbody>\n",
              "</table>\n",
              "</div>"
            ],
            "text/plain": [
              "                       names  coefficients  ...   se_coef    z_coef\n",
              "0     Localisation.Right_car      0.392314  ...  0.369326  1.062241\n",
              "1  Localisation.Vertebro_bas     -0.100475  ...  0.552015 -0.182014\n",
              "2                   AF.No_AF     -0.642116  ...  0.364355 -1.762336\n",
              "3                Gender.male     -0.477382  ...  0.443702 -1.075907\n",
              "4      AMI_Unst.ang.Unst_ang     -2.221644  ...  0.794870 -2.794976\n",
              "5              Q_non_Q.non_Q     -0.462309  ...  0.412219 -1.121511\n",
              "6             DM.No_Diabetes     -0.672368  ...  0.372038 -1.807257\n",
              "7                        Age      0.005536  ...  0.020572  0.269083\n",
              "\n",
              "[8 rows x 6 columns]"
            ]
          },
          "metadata": {
            "tags": []
          }
        },
        {
          "output_type": "stream",
          "text": [
            "\n",
            "Likelihood ratio test=27.712016\n",
            "n=84, number of events=46\n",
            "\n",
            "Scoring History: \n"
          ],
          "name": "stdout"
        },
        {
          "output_type": "display_data",
          "data": {
            "text/html": [
              "<div>\n",
              "<style scoped>\n",
              "    .dataframe tbody tr th:only-of-type {\n",
              "        vertical-align: middle;\n",
              "    }\n",
              "\n",
              "    .dataframe tbody tr th {\n",
              "        vertical-align: top;\n",
              "    }\n",
              "\n",
              "    .dataframe thead th {\n",
              "        text-align: right;\n",
              "    }\n",
              "</style>\n",
              "<table border=\"1\" class=\"dataframe\">\n",
              "  <thead>\n",
              "    <tr style=\"text-align: right;\">\n",
              "      <th></th>\n",
              "      <th></th>\n",
              "      <th>timestamp</th>\n",
              "      <th>duration</th>\n",
              "      <th>iterations</th>\n",
              "      <th>loglik</th>\n",
              "    </tr>\n",
              "  </thead>\n",
              "  <tbody>\n",
              "    <tr>\n",
              "      <th>0</th>\n",
              "      <td></td>\n",
              "      <td>2020-11-28 10:06:25</td>\n",
              "      <td>0.000 sec</td>\n",
              "      <td>0</td>\n",
              "      <td>-178.081986</td>\n",
              "    </tr>\n",
              "    <tr>\n",
              "      <th>1</th>\n",
              "      <td></td>\n",
              "      <td>2020-11-28 10:06:25</td>\n",
              "      <td>0.004 sec</td>\n",
              "      <td>1</td>\n",
              "      <td>-165.529541</td>\n",
              "    </tr>\n",
              "    <tr>\n",
              "      <th>2</th>\n",
              "      <td></td>\n",
              "      <td>2020-11-28 10:06:25</td>\n",
              "      <td>0.007 sec</td>\n",
              "      <td>2</td>\n",
              "      <td>-164.291944</td>\n",
              "    </tr>\n",
              "    <tr>\n",
              "      <th>3</th>\n",
              "      <td></td>\n",
              "      <td>2020-11-28 10:06:25</td>\n",
              "      <td>0.009 sec</td>\n",
              "      <td>3</td>\n",
              "      <td>-164.226643</td>\n",
              "    </tr>\n",
              "    <tr>\n",
              "      <th>4</th>\n",
              "      <td></td>\n",
              "      <td>2020-11-28 10:06:25</td>\n",
              "      <td>0.013 sec</td>\n",
              "      <td>4</td>\n",
              "      <td>-164.225978</td>\n",
              "    </tr>\n",
              "  </tbody>\n",
              "</table>\n",
              "</div>"
            ],
            "text/plain": [
              "               timestamp    duration  iterations      loglik\n",
              "0    2020-11-28 10:06:25   0.000 sec           0 -178.081986\n",
              "1    2020-11-28 10:06:25   0.004 sec           1 -165.529541\n",
              "2    2020-11-28 10:06:25   0.007 sec           2 -164.291944\n",
              "3    2020-11-28 10:06:25   0.009 sec           3 -164.226643\n",
              "4    2020-11-28 10:06:25   0.013 sec           4 -164.225978"
            ]
          },
          "metadata": {
            "tags": []
          }
        },
        {
          "output_type": "execute_result",
          "data": {
            "text/plain": [
              "<bound method H2OCoxPHModel.coefficients_table of >"
            ]
          },
          "metadata": {
            "tags": []
          },
          "execution_count": 230
        }
      ]
    },
    {
      "cell_type": "code",
      "metadata": {
        "id": "LlFwoGl9UqVg"
      },
      "source": [
        ""
      ],
      "execution_count": null,
      "outputs": []
    }
  ]
}